{
 "cells": [
  {
   "cell_type": "code",
   "execution_count": 2,
   "metadata": {},
   "outputs": [],
   "source": [
    "import numpy as np\n",
    "import glob\n",
    "import os\n",
    "import cPickle as pickle\n",
    "from collections import defaultdict\n",
    "\n",
    "import shapefile as shp\n",
    "import matplotlib.patches as patches\n",
    "from matplotlib import pyplot as plt\n",
    "from scipy.cluster.hierarchy import dendrogram, linkage\n",
    "import numpy as np\n",
    "from matplotlib.patches import Polygon\n",
    "from matplotlib.collections import PatchCollection\n",
    "\n",
    "import matplotlib.path as mplPath\n",
    "\n",
    "import matplotlib.lines as mlines\n",
    "\n",
    "import shutil\n",
    "import seaborn as sns\n",
    "from scipy.interpolate import interp1d\n",
    "\n",
    "%matplotlib inline"
   ]
  },
  {
   "cell_type": "code",
   "execution_count": 3,
   "metadata": {},
   "outputs": [],
   "source": [
    "sns.set_style({'axes.linewidth': 1, 'axes.edgecolor':'black', 'xtick.direction': \\\n",
    "               'in', 'xtick.major.size': 4.0, 'ytick.direction': 'in', 'ytick.major.size': 4.0, \\\n",
    "               'xtick.minor.size': 3.0, 'ytick.minor.size': 3.0, \\\n",
    "              'axes.facecolor': 'white','grid.color': '.8', 'grid.linestyle': u'-', 'grid.linewidth': 0.})"
   ]
  },
  {
   "cell_type": "code",
   "execution_count": 4,
   "metadata": {},
   "outputs": [],
   "source": [
    "# eppy paramters\n",
    "from eppy import modeleditor\n",
    "from eppy.modeleditor import IDF\n",
    "# set the idd file to your own location\n",
    "#iddfile = './Energy+.idd'\n",
    "iddfile = 'Energy+.idd'\n",
    "IDF.setiddname(iddfile)"
   ]
  },
  {
   "cell_type": "markdown",
   "metadata": {},
   "source": [
    "get building occupancies from the building occupancy results folder"
   ]
  },
  {
   "cell_type": "code",
   "execution_count": 5,
   "metadata": {},
   "outputs": [
    {
     "name": "stdout",
     "output_type": "stream",
     "text": [
      "['25025010702']\n"
     ]
    }
   ],
   "source": [
    "tracts = os.listdir('../PickledData/HyperlocalBuildings/')\n",
    "tracts = [x.split('.')[0] for x in tracts if '.pickle' in x]\n",
    "print tracts"
   ]
  },
  {
   "cell_type": "code",
   "execution_count": 6,
   "metadata": {},
   "outputs": [],
   "source": [
    "def get_building_occupancy_results(tracts, path_to_results):\n",
    "    noOccupancy = [0 for j in range(11)]\n",
    "    tractBuildingsProcessed = {}\n",
    "    for t in tracts:\n",
    "        with open(path_to_results+t+'.pickle', 'rb') as f:\n",
    "            tractBuildingsProcessed[t] = pickle.load(f)\n",
    "        for bId in tractBuildingsProcessed[t]:\n",
    "            maxOccupancy = np.max(tractBuildingsProcessed[t][bId]['occupancy'], axis=1)\n",
    "            tractBuildingsProcessed[t][bId]['max_occupancy'] = maxOccupancy\n",
    "            tractBuildingsProcessed[t][bId]['fraction_occupied'] = \\\n",
    "            np.zeros(np.shape(tractBuildingsProcessed[t][bId]['occupancy']))\n",
    "            for j,m in enumerate(maxOccupancy):\n",
    "                if m>0:\n",
    "                    tractBuildingsProcessed[t][bId]['fraction_occupied'][j] = \\\n",
    "                    tractBuildingsProcessed[t][bId]['occupancy'][j]/m\n",
    "                else:\n",
    "                    tractBuildingsProcessed[t][bId]['fraction_occupied'][j] = \\\n",
    "                    tractBuildingsProcessed[t][bId]['occupancy'][j]\n",
    "                    noOccupancy[j]+=1\n",
    "\n",
    "    print 'Number of buildings with no occupancy: ', noOccupancy\n",
    "\n",
    "    # tractBuildingsProcessed is a dictionary of the tracts\n",
    "    # Each tract tractBuildingsProcessed[t] is a dictionary of the buildings\n",
    "    # Each building (tractBuildingsProcessed[t]['BuildingID']) has a BuildingID like 'Bos_2009698000_B0_M0'\n",
    "    # Each tractBuildingsProcessed[t]['BuildingID'] is a dictionary containing the properties of the building\n",
    "    return tractBuildingsProcessed\n"
   ]
  },
  {
   "cell_type": "code",
   "execution_count": 7,
   "metadata": {},
   "outputs": [
    {
     "name": "stdout",
     "output_type": "stream",
     "text": [
      "Number of buildings with no occupancy:  [39, 47, 41, 50, 48, 47, 58, 59, 69, 74, 85]\n"
     ]
    }
   ],
   "source": [
    "path = '../PickledData/BuildingOccupancy/'\n",
    "tractBuildingsProcessed = get_building_occupancy_results(tracts, path)"
   ]
  },
  {
   "cell_type": "code",
   "execution_count": 8,
   "metadata": {},
   "outputs": [],
   "source": [
    "# make a dictionary with all buildings in one place\n",
    "tractBuildings = {}\n",
    "for t in tracts:\n",
    "    for b in tractBuildingsProcessed[t]:\n",
    "        tractBuildings[b] = tractBuildingsProcessed[t][b]\n",
    "tractBuildingsProcessed = None"
   ]
  },
  {
   "cell_type": "code",
   "execution_count": 9,
   "metadata": {},
   "outputs": [],
   "source": [
    "# get all the object ids\n",
    "allObjectIDs = []\n",
    "for buildingID in tractBuildings:\n",
    "    oId = buildingID.split('_')[0]\n",
    "    if oId not in allObjectIDs:\n",
    "        allObjectIDs.append( oId )"
   ]
  },
  {
   "cell_type": "code",
   "execution_count": 10,
   "metadata": {},
   "outputs": [
    {
     "name": "stdout",
     "output_type": "stream",
     "text": [
      "['ATHLETIC', 'ACADEMIC', 'PUBLCASM', 'FIREPOL', 'GARAGE', 'HOTEL', 'LIBRARY', 'MALL', 'MEDICAL', 'MUSEUM', 'OFFICE', 'RESIDENT', 'RESTRNT', 'RETAIL', 'SUPERMRK', 'SCHOOL', 'WORSHIP']\n"
     ]
    }
   ],
   "source": [
    "# get the different uses from the data input file (containing uses are areas for all objects)\n",
    "with open('../Data/SDL_Buildings/BBXX_USEAREA_POL.txt', 'r') as f:\n",
    "    first_line = f.readline()\n",
    "    first_line = first_line.replace(\"\\\"\", \"\")\n",
    "    first_line = first_line.replace(\"A_\", \"\")\n",
    "    first_line = first_line.replace(\"\\r\\n\", \"\")\n",
    "    Uses = first_line.split(',')[6:]\n",
    "    print Uses"
   ]
  },
  {
   "cell_type": "code",
   "execution_count": 11,
   "metadata": {},
   "outputs": [],
   "source": [
    "# get the buildings where we have details, objectId and buildingId\n",
    "areas = []\n",
    "objectIDs = []\n",
    "SDLIDs = []\n",
    "with open('../Data/SDL_Buildings/BBXX_USEAREA_POL.txt', 'r') as f:\n",
    "    first_line = f.readline()\n",
    "    for line in f:\n",
    "        line = line.replace(\"\\\"\", \"\")\n",
    "        line = line.replace(\"\\r\\n\", \"\")\n",
    "        line = line.split(',')\n",
    "        # line[4] is polygon area and line[5] is tot floor area, floor ares per use start at line[6] for athletic\n",
    "        b = []\n",
    "        for a in line[6:]:\n",
    "            b.append(float(a))\n",
    "        areas.append(b)\n",
    "        oId = line[0]\n",
    "        if oId in allObjectIDs:\n",
    "            objectIDs.append(line[0])\n",
    "            SDLIDs.append(line[1])"
   ]
  },
  {
   "cell_type": "code",
   "execution_count": 12,
   "metadata": {},
   "outputs": [],
   "source": [
    "# get the number of distinct uses (each of which has a nonzero area) for each shape\n",
    "useNum = np.zeros(len(objectIDs))\n",
    "for k,oId in enumerate(objectIDs):\n",
    "    useInd = [j for j,a in enumerate(areas[k]) if a>0.1]\n",
    "    useNum[k] = len(useInd)"
   ]
  },
  {
   "cell_type": "code",
   "execution_count": 13,
   "metadata": {},
   "outputs": [],
   "source": [
    "# create a new dict (of dicts) for the SDL buildings and add occupancy for all objects\n",
    "SDLBuildings = {}\n",
    "for bID in SDLIDs:\n",
    "    SDLBuildings[bID] = {}"
   ]
  },
  {
   "cell_type": "code",
   "execution_count": 14,
   "metadata": {},
   "outputs": [],
   "source": [
    "for buildingID in tractBuildings:\n",
    "    oId = buildingID.split('_')[0]\n",
    "    # each building in all buildings has a unique id (the first part of the unique id is the object id) and unique use\n",
    "    areaUse = tractBuildings[buildingID]['use']\n",
    "    bId = SDLIDs[objectIDs.index(oId)]\n",
    "    # Check if the SDL building already has that use \n",
    "    try:\n",
    "        SDLBuildings[bId][areaUse]\n",
    "    except:\n",
    "        SDLBuildings[bId][areaUse] = {}\n",
    "        SDLBuildings[bId][areaUse]['occupancy'] = np.zeros(np.shape(tractBuildings[buildingID]['occupancy']))\n",
    "    # add the occupancy from that portion of the building\n",
    "    SDLBuildings[bId][areaUse]['occupancy'] = SDLBuildings[bId][areaUse]['occupancy']+\\\n",
    "                                                tractBuildings[buildingID]['occupancy']\n",
    "    SDLBuildings[bId]['geometry'] = tractBuildings[buildingID]['geometry']"
   ]
  },
  {
   "cell_type": "code",
   "execution_count": 15,
   "metadata": {},
   "outputs": [],
   "source": [
    "def switch_occupancy_to_hourly(occupancy_10_min):\n",
    "    # function to go from 10 min occupancy to hourly\n",
    "    val = 6.\n",
    "    i = 0\n",
    "    count = 0\n",
    "    total = 0.\n",
    "    occNew = np.zeros((1,24))\n",
    "    for slot10min in occupancy_10_min:\n",
    "        total=float(slot10min)+total\n",
    "        count=count+1\n",
    "        if count%val==0:\n",
    "            # sum every sixth and divide by six\n",
    "            occNew[0,i] = np.round( (total/float(val)) )\n",
    "            i += 1\n",
    "            total=0.\n",
    "    # the mobile occupancy starts with the slot 04.00-04.10\n",
    "    myPerm = [4,5,6,7,8,9,10,11,12,13,14,15,16,17,18,19,20,21,22,23,0,1,2,3]\n",
    "    i = np.argsort(myPerm)\n",
    "    occNew = occNew[0,i]\n",
    "    return occNew"
   ]
  },
  {
   "cell_type": "code",
   "execution_count": 16,
   "metadata": {},
   "outputs": [],
   "source": [
    "for bId in SDLBuildings:\n",
    "    for aU in [u for u in SDLBuildings[bId] if 'total' not in u and 'geo' not in u]:\n",
    "        SDLBuildings[bId][aU]['occupancy24'] = np.zeros((11,24))\n",
    "        for j in range(11):\n",
    "            SDLBuildings[bId][aU]['occupancy24'][j] = \\\n",
    "            switch_occupancy_to_hourly(SDLBuildings[bId][aU]['occupancy'][j])\n",
    "    uses = [a for a in SDLBuildings[bId].keys() if 'total' not in a and 'geo' not in a]\n",
    "    occ = [SDLBuildings[bId][aU]['occupancy24'] for aU in uses]\n",
    "    SDLBuildings[bId]['total_occupancy24'] = np.sum(occ, axis=0)"
   ]
  },
  {
   "cell_type": "markdown",
   "metadata": {},
   "source": [
    "Look at idf files"
   ]
  },
  {
   "cell_type": "code",
   "execution_count": 17,
   "metadata": {},
   "outputs": [
    {
     "name": "stdout",
     "output_type": "stream",
     "text": [
      "325\n"
     ]
    }
   ],
   "source": [
    "# get a list of the idf files\n",
    "fileList = glob.glob('../Full_idf_files/*_0.idf')\n",
    "print len(fileList)"
   ]
  },
  {
   "cell_type": "code",
   "execution_count": 18,
   "metadata": {},
   "outputs": [],
   "source": [
    "def get_use_to_occupancy(idfFile):   \n",
    "    schedules = idfFile.idfobjects['SCHEDULE:YEAR']\n",
    "    # this translates from the yearly schedule name in the 'people' object to the monday schedule name\n",
    "    sYToD = {}\n",
    "    for s in schedules:\n",
    "        if 'Occ' in s.Name:\n",
    "            sYToD[s.Name] = s.ScheduleWeek_Name_1\n",
    "    schedules = idfFile.idfobjects['SCHEDULE:WEEK:DAILY']\n",
    "    for sh in sYToD:\n",
    "        name = sYToD[sh]\n",
    "        for s in schedules:\n",
    "            if name == s.Name:\n",
    "                sYToD[sh] = s.Monday_ScheduleDay_Name\n",
    "    # below goes from year schedule to \n",
    "    schedules = idfFile.idfobjects['SCHEDULE:DAY:HOURLY']\n",
    "    sNamToNum = {}\n",
    "    for sh in sYToD:\n",
    "        name = sYToD[sh]\n",
    "        for s in schedules:\n",
    "            if name == s.Name:\n",
    "                sNamToNum[s.Name] = s['obj'][3:]                \n",
    "    # this then translates between a use and a monday schedule name\n",
    "    sYToD2 = {}\n",
    "    for key, val in sYToD.iteritems():\n",
    "        sYToD2[key.split('B_')[1][0:4]] = val\n",
    "    return sYToD2, sNamToNum     "
   ]
  },
  {
   "cell_type": "code",
   "execution_count": 20,
   "metadata": {},
   "outputs": [],
   "source": [
    "# # do one pass through all files and get occupancy on a weekday\n",
    "# allTestBuildings = {}\n",
    "# for j,f in enumerate(fileList):\n",
    "#     if j%100==0:\n",
    "#         print j, 'buildings considered'\n",
    "#     idf1 = IDF(f)\n",
    "#     buildingID = f.split('files/')[1][:-4].split('_')[0]\n",
    "#     allTestBuildings[buildingID] = {}\n",
    "#     allTestBuildings[buildingID]['zoneAreas'] = []\n",
    "#     allTestBuildings[buildingID]['zoneUses'] = []\n",
    "#     allTestBuildings[buildingID]['peoplePerAreaZone'] = []\n",
    "#     zoneObjects = idf1.idfobjects['ZONE']\n",
    "#     people = idf1.idfobjects['PEOPLE']\n",
    "#     schedules = idf1.idfobjects['SCHEDULE:YEAR']\n",
    "    \n",
    "#     allTestBuildings[buildingID]['useToSchedule'], allTestBuildings[buildingID]['occs'] \\\n",
    "#     = get_use_to_occupancy(idf1)\n",
    "    \n",
    "#     for j in range(len(people)):\n",
    "#         allTestBuildings[buildingID]['zoneAreas'].append( zoneObjects[j].Floor_Area )\n",
    "#         allTestBuildings[buildingID]['zoneUses'].append( people[j].Number_of_People_Schedule_Name.split('B_')[1][0:4] )\n",
    "#         allTestBuildings[buildingID]['peoplePerAreaZone'].append( people[j].People_per_Zone_Floor_Area )\n",
    "        \n",
    "# for bId in allTestBuildings:\n",
    "#     allTestBuildings[bId]['total_occupancy'] = np.zeros((24))\n",
    "#     for j,z in enumerate(allTestBuildings[bId]['zoneUses']):\n",
    "#         maxPeople = allTestBuildings[bId]['zoneAreas'][j]*allTestBuildings[bId]['peoplePerAreaZone'][j]\n",
    "#         zoneSchedule = allTestBuildings[bId]['useToSchedule'][z]\n",
    "#         zoneOccupancy = np.asarray( [x*maxPeople for x in allTestBuildings[bId]['occs'][zoneSchedule]] )\n",
    "#         allTestBuildings[bId]['total_occupancy'] += zoneOccupancy\n",
    "#     allTestBuildings[bId]['total_occupancy'] = np.round( allTestBuildings[bId]['total_occupancy'] )"
   ]
  },
  {
   "cell_type": "code",
   "execution_count": 21,
   "metadata": {},
   "outputs": [],
   "source": [
    "# ###save allTestBuildings\n",
    "# try:\n",
    "#     f = open('../PickledData/UBEMdata/allTestBuildings.pickle', 'wb')\n",
    "#     pickle.dump(allTestBuildings, f, pickle.HIGHEST_PROTOCOL)\n",
    "#     f.close()\n",
    "# except Exception as e:\n",
    "#     print('Unable to save data to', pickle_file, ':', e)\n",
    "#     raise"
   ]
  },
  {
   "cell_type": "code",
   "execution_count": 22,
   "metadata": {},
   "outputs": [],
   "source": [
    "### skip the above 2 cells if already have allTestBuildings.pickle saved\n",
    "with open('../PickledData/UBEMdata/allTestBuildings.pickle', 'rb') as f:\n",
    "    allTestBuildings = pickle.load(f)"
   ]
  },
  {
   "cell_type": "markdown",
   "metadata": {},
   "source": [
    "now back to SDL buildings --- SDL Buildings are the buildings with mobile occupancy"
   ]
  },
  {
   "cell_type": "code",
   "execution_count": 23,
   "metadata": {},
   "outputs": [
    {
     "name": "stdout",
     "output_type": "stream",
     "text": [
      "There are  339 buildings in the mobile dataset\n"
     ]
    }
   ],
   "source": [
    "print 'There are ', len(set(SDLIDs)), 'buildings in the mobile dataset'"
   ]
  },
  {
   "cell_type": "code",
   "execution_count": 24,
   "metadata": {},
   "outputs": [
    {
     "name": "stdout",
     "output_type": "stream",
     "text": [
      "There are  325 buildings with old and mobile occupancy\n"
     ]
    }
   ],
   "source": [
    "# get the overlapping ids\n",
    "overlapIDs = []\n",
    "problemIDs = []\n",
    "for bID in allTestBuildings:\n",
    "    if bID in SDLIDs:\n",
    "        overlapIDs.append( bID )\n",
    "    else:\n",
    "        problemIDs.append( bID )\n",
    "print 'There are ', len(overlapIDs), 'buildings with old and mobile occupancy'"
   ]
  },
  {
   "cell_type": "code",
   "execution_count": 25,
   "metadata": {},
   "outputs": [
    {
     "name": "stdout",
     "output_type": "stream",
     "text": [
      "325\n"
     ]
    }
   ],
   "source": [
    "# remove the ids without a corresponding shapefile/SDLBuilding entry\n",
    "allTestBuildings = {key: value for key, value in allTestBuildings.items() if key not in problemIDs}\n",
    "print len(allTestBuildings)"
   ]
  },
  {
   "cell_type": "code",
   "execution_count": 26,
   "metadata": {},
   "outputs": [],
   "source": [
    "occ_Orig_abs, occ_New_abs = np.zeros((len(allTestBuildings),24)), np.zeros((len(allTestBuildings),11,24))\n",
    "for j,bId in enumerate(allTestBuildings):\n",
    "    occ_Orig_abs[j] = allTestBuildings[bId]['total_occupancy']\n",
    "    occ_New_abs[j] = SDLBuildings[bId]['total_occupancy24']    "
   ]
  },
  {
   "cell_type": "code",
   "execution_count": 27,
   "metadata": {},
   "outputs": [],
   "source": [
    "schedUsetoSDLUse = {}\n",
    "schedUsetoSDLUse['RetS'] = 'RETAIL'\n",
    "schedUsetoSDLUse['Mall'] = 'MALL'\n",
    "schedUsetoSDLUse['Gara'] = 'GARAGE'\n",
    "schedUsetoSDLUse['OffM'] = 'OFFICE'\n",
    "schedUsetoSDLUse['OffL'] = 'OFFICE'\n",
    "schedUsetoSDLUse['ReSd'] = 'RESTRNT'\n",
    "schedUsetoSDLUse['AppM'] = 'RESIDENT'\n",
    "schedUsetoSDLUse['HotL'] = 'HOTEL'\n",
    "schedUsetoSDLUse['HotS'] = 'HOTEL'"
   ]
  },
  {
   "cell_type": "code",
   "execution_count": 28,
   "metadata": {},
   "outputs": [],
   "source": [
    "totPop = 0 \n",
    "# Reading the Coordinates of the Census Tracts\n",
    "tractCoordinates = {}\n",
    "tractPop = {}\n",
    "with open('../Data/demoTract.csv', 'r') as f:\n",
    "    f.readline()\n",
    "    for line in f:\n",
    "        tractId = line.split(',')[0]\n",
    "        # Store relevant tracts\n",
    "        if tractId in tracts:\n",
    "            tractPop[tractId] = line.split('<Polygon>')[0].split(',')[5]\n",
    "            totPop+=np.int(tractPop[tractId])\n",
    "            coordinates = line.split('<coordinates>')[1]\n",
    "            coordinates = coordinates.split('</coordinates>')[0]\n",
    "            coordinates = coordinates.split(' ')\n",
    "            coordinates = [x.split(',') for x in coordinates]\n",
    "            coordinates = [[float(x[0]), float(x[1])] for x in coordinates]\n",
    "            tractCoordinates[tractId] = coordinates"
   ]
  },
  {
   "cell_type": "code",
   "execution_count": 29,
   "metadata": {},
   "outputs": [
    {
     "data": {
      "image/png": "[encoded data removed]",
      "text/plain": [
       "<Figure size 360x324 with 2 Axes>"
      ]
     },
     "metadata": {
      "needs_background": "light"
     },
     "output_type": "display_data"
    }
   ],
   "source": [
    "import matplotlib.ticker\n",
    "sns.set_style({'axes.linewidth': 1, 'axes.edgecolor':'black', 'xtick.direction': \\\n",
    "               'in', 'xtick.major.size': 4.0, 'ytick.direction': 'in', 'ytick.major.size': 4.0, \\\n",
    "              'axes.facecolor': 'white','grid.color': '.8', 'grid.linestyle': u'-', 'grid.linewidth': 0.})\n",
    "fs = 14\n",
    "hours = np.arange(1,25)\n",
    "\n",
    "logOccOrig = np.log10(np.sum(occ_Orig_abs, axis=0))\n",
    "logOccNew = np.log10(np.sum(occ_New_abs, axis=0))[0]\n",
    "\n",
    "# look at the occupancies\n",
    "fig, ax = plt.subplots(2,1, sharex='col', sharey='row', figsize=(5,4.5))\n",
    "ax1 = ax[0]\n",
    "ax1.tick_params(axis='both', which='major', labelsize=fs)\n",
    "l1, = ax1.plot(hours, logOccOrig, color='k', linewidth=2)\n",
    "ax1.set_xticks(np.arange(4,24,4))\n",
    "ax1.set_xticklabels(['4am','8am', 'noon', '4pm', '8pm'])\n",
    "ax1.tick_params(axis='both', which='major', labelsize=fs)\n",
    "\n",
    "l2, = ax1.plot(hours, logOccNew, color='#5DADE2', linestyle='-.', linewidth=2)\n",
    "l3, = ax1.plot([hours[0], hours[-1]],np.log10([totPop, totPop]),color='r',linestyle='--', linewidth=2)\n",
    "ax1.set_xlim([1,24])\n",
    "ax1.legend([l1,l2,l3],['DOE reference', 'Mobile', 'Census pop.'], fontsize=fs-3,loc='upper left', \\\n",
    "           ncol=2, handletextpad=0.5, columnspacing=1, frameon=False)\n",
    "\n",
    "tickys = [np.log10(x) for x in np.asarray([6000, 7000,8000,9000, 10000,20000,30000,40000,\\\n",
    "                                           50000,60000,70000,80000,90000,100000,200000])]\n",
    "ax1.set_yticks(tickys)\n",
    "ax1.set_yticklabels(['','','','','10000','','','','50000','','','','','100000',''])\n",
    "ax1.set_ylim([3,5.5])\n",
    "\n",
    "occDiffOrig = np.zeros(np.shape(logOccOrig))\n",
    "occDiffOrig[0] = np.sum(occ_Orig_abs, axis=0)[0]-np.sum(occ_Orig_abs, axis=0)[-1]\n",
    "occDiffOrig[1:] = np.diff(np.sum(occ_Orig_abs, axis=0))\n",
    "occDiffOrig[occDiffOrig>0]=np.log10(occDiffOrig[occDiffOrig>0])\n",
    "occDiffOrig[occDiffOrig<0]=-np.log10(-occDiffOrig[occDiffOrig<0])\n",
    "occDiffNew = np.zeros(np.shape(logOccNew))\n",
    "occDiffNew[0] = np.sum(occ_New_abs, axis=0)[0][0]-np.sum(occ_New_abs, axis=0)[0][-1]\n",
    "occDiffNew[1:] = np.diff(np.sum(occ_New_abs, axis=0)[0])\n",
    "occDiffNew[occDiffNew>0]=np.log10(occDiffNew[occDiffNew>0])\n",
    "occDiffNew[occDiffNew<0]=-np.log10(-occDiffNew[occDiffNew<0])\n",
    "ax1 = ax[1]\n",
    "ax1.tick_params(axis='both', which='major', labelsize=fs)\n",
    "l1, = ax1.plot(hours, occDiffOrig, color='k', linewidth=2)\n",
    "l1, = ax1.plot(hours, occDiffNew, color='#5DADE2', linestyle='-.', linewidth=2)\n",
    "ax1.set_xticks(np.arange(4,24,4))\n",
    "ax1.set_xticklabels(['4am','8am', 'noon', '4pm', '8pm'])\n",
    "ax1.tick_params(axis='both', which='major', labelsize=fs)\n",
    "tickys = [-4,-3,-2,-1,0,1,2,3,4]\n",
    "ax1.set_yticks(tickys)\n",
    "ax1.set_yticklabels(['-10000','','-100','','0','','100','','10000'])\n",
    "\n",
    "fig.tight_layout()\n",
    "# fig.savefig('../Useful_Results/totOcc.png', dpi=300, format='png',  bbox_inches='tight')"
   ]
  },
  {
   "cell_type": "code",
   "execution_count": null,
   "metadata": {},
   "outputs": [],
   "source": [
    "min(np.sum(occ_Orig_abs, axis=0)), max(np.sum(occ_Orig_abs, axis=0)), \\\n",
    "min(np.sum(occ_New_abs, axis=0)[0]), max(np.sum(occ_New_abs, axis=0)[0])"
   ]
  },
  {
   "cell_type": "code",
   "execution_count": 1,
   "metadata": {},
   "outputs": [
    {
     "ename": "NameError",
     "evalue": "name 'totPop' is not defined",
     "output_type": "error",
     "traceback": [
      "\u001b[0;31m---------------------------------------------------------------------------\u001b[0m",
      "\u001b[0;31mNameError\u001b[0m                                 Traceback (most recent call last)",
      "\u001b[0;32m<ipython-input-1-7ce9a34545f5>\u001b[0m in \u001b[0;36m<module>\u001b[0;34m()\u001b[0m\n\u001b[0;32m----> 1\u001b[0;31m \u001b[0mtotPop\u001b[0m\u001b[0;34m\u001b[0m\u001b[0m\n\u001b[0m",
      "\u001b[0;31mNameError\u001b[0m: name 'totPop' is not defined"
     ]
    }
   ],
   "source": [
    "totPop"
   ]
  },
  {
   "cell_type": "code",
   "execution_count": 30,
   "metadata": {},
   "outputs": [],
   "source": [
    "class stayClass(object):\n",
    "    def __init__(self, line):\n",
    "        self.startTime = int(line[0])\n",
    "        self.type = line[1]\n",
    "        self.lat = float(line[3])\n",
    "        self.lng = float(line[2])\n",
    "        self.endTime = None\n",
    "        self.userId = None\n",
    "        self.building = None\n",
    "        self.id = None\n",
    "        self.previousId = None\n",
    "    def __str__(self):\n",
    "        printingArray = ['Start Time : ', self.startTime, '\\n', \\\n",
    "                         'End Time : ', self.endTime, '\\n', \\\n",
    "                         'Stay type : ', self.type,'\\n', \\\n",
    "                         'Trip Location : ', self.lat, ', ', self.lng, '\\n',\n",
    "                         'Building : ', self.building, '\\n', \\\n",
    "                         'User Id : ', self.userId]\n",
    "        printingArray = [str(x) for x in printingArray]\n",
    "        p = ''.join(printingArray)\n",
    "        return p"
   ]
  },
  {
   "cell_type": "code",
   "execution_count": 31,
   "metadata": {},
   "outputs": [
    {
     "name": "stdout",
     "output_type": "stream",
     "text": [
      "10000\n"
     ]
    }
   ],
   "source": [
    "stayLists = []\n",
    "with open('../Data/demoTractUserStays.csv', 'r') as readFile:\n",
    "    previousTrip = None\n",
    "    counter = 0\n",
    "    usersProcessed = 0\n",
    "    stayList = []\n",
    "    for line in readFile:\n",
    "        counter+=1\n",
    "#         print line.strip().split(' ')[0]\n",
    "        line = line.strip().split(' ')\n",
    "        if len(line)==1:\n",
    "            if stayList:\n",
    "                stayList = np.asarray(stayList)\n",
    "                stayLists.append(stayList)\n",
    "\n",
    "            usersProcessed+=1\n",
    "            if usersProcessed%10000==0:\n",
    "                print usersProcessed\n",
    "            # New user\n",
    "            # userId = int(line[0].split('-')[0])\n",
    "            stayList = []\n",
    "        else:\n",
    "            previousTrip = stayClass(line)\n",
    "            stayList.append([previousTrip.lng, previousTrip.lat, np.float(line[0])])\n",
    "#             print [previousTrip.lng, previousTrip.lat, np.float(line[0])]"
   ]
  },
  {
   "cell_type": "code",
   "execution_count": 32,
   "metadata": {},
   "outputs": [],
   "source": [
    "# color the lines by the distance\n",
    "import matplotlib.colors as colors2\n",
    "import matplotlib.cm as cmx\n",
    "minVal, maxVal = 0., 60.\n",
    "cmOcc = plt.cm.get_cmap('spring')\n",
    "cNorm = colors2.Normalize(vmin=minVal, vmax=maxVal)\n",
    "scalarMap3 = cmx.ScalarMappable(norm=cNorm, cmap=cmOcc)\n",
    "scalarMap3._A = []"
   ]
  },
  {
   "cell_type": "code",
   "execution_count": 33,
   "metadata": {},
   "outputs": [],
   "source": [
    "import math\n",
    "def get_dist(p1,p2):\n",
    "    # approximate radius of earth in km\n",
    "    R = 6373.0\n",
    "\n",
    "    lat1 = math.radians(p1[1])\n",
    "    lon1 = math.radians(p1[0])\n",
    "    lat2 = math.radians(p2[1])\n",
    "    lon2 = math.radians(p2[0])\n",
    "\n",
    "    dlon = lon2 - lon1\n",
    "    dlat = lat2 - lat1\n",
    "\n",
    "    a = math.sin(dlat / 2)**2 + math.cos(lat1) * math.cos(lat2) * math.sin(dlon / 2)**2\n",
    "    c = 2 * math.atan2(math.sqrt(a), math.sqrt(1 - a))\n",
    "\n",
    "    distance = R * c\n",
    "\n",
    "#     print(\"Result:\", distance, \"km\")\n",
    "    return distance\n",
    "\n",
    "def pointInsidePolygon(point, polygon):\n",
    "    X = [x[0] for x in polygon]\n",
    "    Y = [x[1] for x in polygon]\n",
    "    if point[0]>=min(X) and point[0]<=max(X) and \\\n",
    "       point[1]>=min(Y) and point[1]<=max(Y):\n",
    "        polygon = mplPath.Path(np.array(polygon))\n",
    "        return polygon.contains_point(point)\n",
    "    else:\n",
    "        return 0"
   ]
  },
  {
   "cell_type": "code",
   "execution_count": 34,
   "metadata": {},
   "outputs": [],
   "source": [
    "noSamps = np.int(np.round(usersProcessed/50.))\n",
    "userIndices = np.random.randint(0,usersProcessed,noSamps)"
   ]
  },
  {
   "cell_type": "code",
   "execution_count": 35,
   "metadata": {},
   "outputs": [
    {
     "data": {
      "image/png": "[encoded data removed]",
      "text/plain": [
       "<Figure size 432x360 with 2 Axes>"
      ]
     },
     "metadata": {
      "needs_background": "light"
     },
     "output_type": "display_data"
    }
   ],
   "source": [
    "fig = plt.figure(figsize=(6,5))\n",
    "ax1 = fig.add_subplot(111) \n",
    "for j, number in enumerate(userIndices): \n",
    "   \n",
    "    for pointIndex in range(len(stayLists[number])-1):\n",
    "        crowFlies = get_dist(stayLists[number][pointIndex,0:2],stayLists[number][pointIndex+1,0:2])\n",
    "        cl = scalarMap3.to_rgba(crowFlies)\n",
    "        cl = colors2.rgb2hex(cl)\n",
    "        x = [stayLists[number][pointIndex,0], stayLists[number][pointIndex+1,0]]\n",
    "        y = [stayLists[number][pointIndex,1], stayLists[number][pointIndex+1,1]]\n",
    "        ax1.plot(x,y,linewidth=0.2,color=cl)\n",
    "    for pointIndex in range(len(stayLists[number])-1):\n",
    "        crowFlies = get_dist(stayLists[number][pointIndex,0:2],stayLists[number][pointIndex+1,0:2])\n",
    "        cl = scalarMap3.to_rgba(crowFlies)\n",
    "        cl = colors2.rgb2hex(cl)            \n",
    "\n",
    "cbar_ax = plt.axes([0.93, 0.2, 0.02, 0.6])\n",
    "cbar = fig.colorbar(scalarMap3, cax=cbar_ax, ticks=np.arange(0,60,10), orientation='vertical')\n",
    "cbar_ax.tick_params(axis='both', which='major', labelsize=12)\n",
    "cbar.set_label('distance (km)', labelpad=9, rotation=90, fontsize=12)\n",
    "cbar.set_ticks([0,20,40,60])\n",
    "# cbar.set_ticklabels(['0','20'])"
   ]
  },
  {
   "cell_type": "code",
   "execution_count": 36,
   "metadata": {},
   "outputs": [
    {
     "data": {
      "image/png": "[encoded data removed]",
      "text/plain": [
       "<Figure size 432x288 with 1 Axes>"
      ]
     },
     "metadata": {
      "needs_background": "light"
     },
     "output_type": "display_data"
    }
   ],
   "source": [
    "userDistances = np.zeros(len(stayLists))\n",
    "for j in range(len(stayLists)): \n",
    "    for pointIndex in range(len(stayLists[j])-1):\n",
    "        crowFlies = get_dist(stayLists[j][pointIndex,0:2],stayLists[j][pointIndex+1,0:2])\n",
    "        userDistances[j]+=crowFlies\n",
    "        \n",
    "fig = plt.figure()\n",
    "ax1 = fig.add_subplot(111)\n",
    "binsDist = np.arange(0,200.1,5)\n",
    "hist, edges = np.histogram(userDistances, bins=binsDist, density=False)\n",
    "widthsDist = edges[1:]-edges[0:-1]\n",
    "midpoints = edges[0:-1]+widthsDist/2.\n",
    "bars = ax1.bar(midpoints,hist/np.float(np.sum(hist)),width=widthsDist)\n",
    "ax1.set_xlim([0,200])\n",
    "for j in range(len(bars)):\n",
    "    cl = scalarMap3.to_rgba(midpoints[j])\n",
    "    cl = colors2.rgb2hex(cl) \n",
    "    bars[j].set_color(cl)"
   ]
  },
  {
   "cell_type": "code",
   "execution_count": null,
   "metadata": {},
   "outputs": [],
   "source": []
  },
  {
   "cell_type": "code",
   "execution_count": 37,
   "metadata": {},
   "outputs": [],
   "source": [
    "nonLinParams = np.arange(0,1.01,.1)"
   ]
  },
  {
   "cell_type": "code",
   "execution_count": 38,
   "metadata": {},
   "outputs": [
    {
     "data": {
      "text/plain": [
       "Text(-0.15,0.05,'P(Mean occupied fraction)')"
      ]
     },
     "execution_count": 38,
     "metadata": {},
     "output_type": "execute_result"
    },
    {
     "data": {
      "image/png": "[encoded data removed]",
      "text/plain": [
       "<Figure size 288x216 with 2 Axes>"
      ]
     },
     "metadata": {
      "needs_background": "light"
     },
     "output_type": "display_data"
    }
   ],
   "source": [
    "### plot the average fraction occupied for both RES and COMM\n",
    "minVal, maxVal = -1, 10.\n",
    "cmRes, cmComm = plt.cm.get_cmap('Oranges'), plt.cm.get_cmap('Blues')\n",
    "cNorm = colors2.Normalize(vmin=minVal, vmax=maxVal)\n",
    "scalarMapRes, scalarMapComm = cmx.ScalarMappable(norm=cNorm, cmap=cmRes), \\\n",
    "                            cmx.ScalarMappable(norm=cNorm, cmap=cmComm)\n",
    "scalarMapRes._A, scalarMapComm._A = [], []\n",
    "\n",
    "t = tracts[0]\n",
    "fig, ax = plt.subplots(2,1,sharex=True, sharey=False)\n",
    "axs = ax.ravel()\n",
    "fig.set_size_inches(4,3)\n",
    "\n",
    "lines = []\n",
    "labels = [[] for j in range(11)]\n",
    "\n",
    "for j in range(11):\n",
    "    cl1 = scalarMapRes.to_rgba((np.float(j)))\n",
    "    cl2 = scalarMapComm.to_rgba((np.float(j)))\n",
    "    cl = [colors2.rgb2hex(cl1), colors2.rgb2hex(cl2)]\n",
    "    differencesRES, differencesNR = [], []\n",
    "    for bID in allTestBuildings:\n",
    "        uses = [schedUsetoSDLUse[x] for x in allTestBuildings[bID]['zoneUses']]\n",
    "        if sum([1 for x in uses if x=='RESIDENT'])==len(uses):\n",
    "            differencesRES.append( \\\n",
    "            np.mean(SDLBuildings[bID]['total_occupancy24'][j])/max(allTestBuildings[bID]['total_occupancy']) )\n",
    "        elif sum([1 for x in uses if x=='RESIDENT']) == 0:\n",
    "            differencesNR.append( \\\n",
    "            np.mean(SDLBuildings[bID]['total_occupancy24'][j])/max(allTestBuildings[bID]['total_occupancy']) )\n",
    "\n",
    "    diffBins = np.arange(0,1.01,0.02)\n",
    "    diffResHist, diffResEdges = np.histogram( differencesRES, diffBins, density=False)\n",
    "    diffCommHist, diffCommEdges = np.histogram( differencesNR, diffBins, density=False)\n",
    "    diffResWidths = diffResEdges[1:]-diffResEdges[:-1]\n",
    "    diffCommWidths = diffCommEdges[1:]-diffCommEdges[:-1]\n",
    "    \n",
    "    histsL = [diffResHist,diffCommHist]\n",
    "    edgesL = [diffResEdges, diffCommEdges]\n",
    "    widthsL = [diffResWidths, diffCommWidths]\n",
    "\n",
    "    for axInd in range(1):\n",
    "        l1, = axs[axInd].plot(edgesL[axInd][:-1]+widthsL[axInd]/2, \\\n",
    "                histsL[axInd]/np.float(np.sum(histsL[axInd])), color=cl[axInd])\n",
    "        axs[axInd].tick_params(axis='both', labelsize=12)\n",
    "        axs[axInd+1].plot(edgesL[axInd][:-1]+widthsL[axInd]/2, \\\n",
    "                histsL[axInd]/np.float(np.sum(histsL[axInd])), color=cl[axInd])\n",
    "        axs[axInd+1].tick_params(axis='both', labelsize=12)\n",
    "        \n",
    "        lines.append(l1)\n",
    "        labels[j]='%.1f'%(nonLinParams[j])\n",
    "        \n",
    "differencesRES, differencesNR = [], []\n",
    "for bID in allTestBuildings:\n",
    "    uses = [schedUsetoSDLUse[x] for x in allTestBuildings[bID]['zoneUses']]\n",
    "    if sum([1 for x in uses if x=='RESIDENT'])==len(uses):\n",
    "        differencesRES.append( \\\n",
    "        np.mean(allTestBuildings[bID]['total_occupancy'])/max(allTestBuildings[bID]['total_occupancy']) )\n",
    "    elif sum([1 for x in uses if x=='RESIDENT']) == 0:\n",
    "        differencesNR.append( \\\n",
    "        np.mean(allTestBuildings[bID]['total_occupancy'])/max(allTestBuildings[bID]['total_occupancy']) )\n",
    "        \n",
    "diffBins = np.arange(0,1.01,0.02)\n",
    "diffResHist, diffResEdges = np.histogram( differencesRES, diffBins, density=False)\n",
    "diffCommHist, diffCommEdges = np.histogram( differencesNR, diffBins, density=False)\n",
    "diffResWidths = diffResEdges[1:]-diffResEdges[:-1]\n",
    "diffCommWidths = diffCommEdges[1:]-diffCommEdges[:-1]\n",
    "\n",
    "histsL = [diffResHist,diffCommHist]\n",
    "edgesL = [diffResEdges, diffCommEdges]\n",
    "widthsL = [diffResWidths, diffCommWidths]\n",
    "\n",
    "for axInd in range(1):\n",
    "    l1, = axs[axInd].plot(edgesL[axInd][:-1]+widthsL[axInd]/2, \\\n",
    "            histsL[axInd]/np.float(np.sum(histsL[axInd])), color='k')\n",
    "    axs[axInd+1].plot(edgesL[axInd][:-1]+widthsL[axInd]/2, \\\n",
    "            histsL[axInd]/np.float(np.sum(histsL[axInd])), color='k')\n",
    "    axs[axInd].set_ylim([0.55, 0.75])  # outliers only\n",
    "    axs[axInd+1].set_ylim([0, 0.19])  # outliers only\n",
    "axs[0].set_xlim([0,1])\n",
    "lines.append(l1)\n",
    "labels.append('DOE')\n",
    "\n",
    "# hide the spines between ax and ax2\n",
    "axs[0].spines['bottom'].set_visible(False)\n",
    "axs[1].spines['top'].set_visible(False)\n",
    "axs[0].xaxis.tick_top()\n",
    "axs[0].tick_params(labeltop=False)  # don't put tick labels at the top\n",
    "axs[1].xaxis.tick_bottom()\n",
    "\n",
    "d = .01  # how big to make the diagonal lines in axes coordinates\n",
    "# arguments to pass to plot, just so we don't keep repeating them\n",
    "kwargs = dict(transform=axs[0].transAxes, color='k', clip_on=False)\n",
    "axs[0].plot((-d, +d), (-d, +d), **kwargs)        # top-left diagonal\n",
    "axs[0].plot((1 - d, 1 + d), (-d, +d), **kwargs)  # top-right diagonal\n",
    "kwargs.update(transform=axs[1].transAxes)  # switch to the bottom axes\n",
    "axs[1].plot((-d, +d), (1 - d, 1 + d), **kwargs)  # bottom-left diagonal\n",
    "axs[1].plot((1 - d, 1 + d), (1 - d, 1 + d), **kwargs)  # bottom-right diagonal\n",
    "\n",
    "ax[0].legend(lines,labels,ncol=3,handletextpad=0.1,handlelength=1,loc=[0.05, -0.1],columnspacing=0.3)\n",
    "ax[0].text(0.3, 0.85,r'$\\mu$', ha='center', va='center', transform=ax[0].transAxes)\n",
    "ax[0].set_title('Residential')\n",
    "ax[1].set_xlabel('Mean occupied fraction')\n",
    "ax[0].text(-0.15, 0.05,'P(Mean occupied fraction)', ha='center', va='center', transform=ax[0].transAxes,rotation=90)\n",
    "# fig.savefig('../Useful_Results/RESsensitivityVsDOE.png', dpi=300, format='png',  bbox_inches='tight')"
   ]
  },
  {
   "cell_type": "code",
   "execution_count": 39,
   "metadata": {},
   "outputs": [
    {
     "data": {
      "text/plain": [
       "Text(0.5,0,'Mean occupied fraction')"
      ]
     },
     "execution_count": 39,
     "metadata": {},
     "output_type": "execute_result"
    },
    {
     "data": {
      "image/png": "[encoded data removed]",
      "text/plain": [
       "<Figure size 288x216 with 1 Axes>"
      ]
     },
     "metadata": {
      "needs_background": "light"
     },
     "output_type": "display_data"
    }
   ],
   "source": [
    "fig, axs = plt.subplots(1,1,sharex=True, sharey=False)\n",
    "# axs = ax.ravel()\n",
    "fig.set_size_inches(4,3)\n",
    "\n",
    "lines = []\n",
    "labels = [[] for j in range(11)]\n",
    "\n",
    "for j in range(11):\n",
    "    cl2 = scalarMapComm.to_rgba((np.float(j)))\n",
    "    cl = [colors2.rgb2hex(cl1), colors2.rgb2hex(cl2)]\n",
    "    differencesRES, differencesNR = [], []\n",
    "    for bID in allTestBuildings:\n",
    "        uses = [schedUsetoSDLUse[x] for x in allTestBuildings[bID]['zoneUses']]\n",
    "        if sum([1 for x in uses if x=='RESIDENT'])==len(uses):\n",
    "            differencesRES.append( \\\n",
    "            np.mean(SDLBuildings[bID]['total_occupancy24'][j])/max(allTestBuildings[bID]['total_occupancy']) )\n",
    "        elif sum([1 for x in uses if x=='RESIDENT']) == 0:\n",
    "            differencesNR.append( \\\n",
    "            np.mean(SDLBuildings[bID]['total_occupancy24'][j])/max(allTestBuildings[bID]['total_occupancy']) )\n",
    "\n",
    "    diffBins = np.arange(0,1.01,0.02)\n",
    "    diffResHist, diffResEdges = np.histogram( differencesRES, diffBins, density=False)\n",
    "    diffCommHist, diffCommEdges = np.histogram( differencesNR, diffBins, density=False)\n",
    "    diffResWidths = diffResEdges[1:]-diffResEdges[:-1]\n",
    "    diffCommWidths = diffCommEdges[1:]-diffCommEdges[:-1]\n",
    "    \n",
    "    histsL = [diffCommHist]\n",
    "    edgesL = [diffCommEdges]\n",
    "    widthsL = [diffCommWidths]\n",
    "    axInd = 0\n",
    "    l1, = axs.plot(edgesL[axInd][:-1]+widthsL[axInd]/2, \\\n",
    "            histsL[axInd]/np.float(np.sum(histsL[axInd])), color=cl[1])\n",
    "    axs.tick_params(axis='both', labelsize=12)\n",
    "    lines.append(l1)\n",
    "    labels[j]='%.1f'%(nonLinParams[j])\n",
    "\n",
    "differencesRES, differencesNR = [], []\n",
    "for bID in allTestBuildings:\n",
    "    uses = [schedUsetoSDLUse[x] for x in allTestBuildings[bID]['zoneUses']]\n",
    "    if sum([1 for x in uses if x=='RESIDENT'])==len(uses):\n",
    "        differencesRES.append( \\\n",
    "        np.mean(allTestBuildings[bID]['total_occupancy'])/max(allTestBuildings[bID]['total_occupancy']) )\n",
    "    elif sum([1 for x in uses if x=='RESIDENT']) == 0:\n",
    "        differencesNR.append( \\\n",
    "        np.mean(allTestBuildings[bID]['total_occupancy'])/max(allTestBuildings[bID]['total_occupancy']) )\n",
    "        \n",
    "diffBins = np.arange(0,1.01,0.02)\n",
    "diffResHist, diffResEdges = np.histogram( differencesRES, diffBins, density=False)\n",
    "diffCommHist, diffCommEdges = np.histogram( differencesNR, diffBins, density=False)\n",
    "diffResWidths = diffResEdges[1:]-diffResEdges[:-1]\n",
    "diffCommWidths = diffCommEdges[1:]-diffCommEdges[:-1]\n",
    "\n",
    "histsL = [diffCommHist]\n",
    "edgesL = [diffCommEdges]\n",
    "widthsL = [diffCommWidths]\n",
    "\n",
    "l1, = axs.plot(edgesL[axInd][:-1]+widthsL[axInd]/2, \\\n",
    "        histsL[axInd]/np.float(np.sum(histsL[axInd])), color='k')\n",
    "axs.set_ylim([0, 0.45])  # outliers only\n",
    "axs.set_xlim([0,1])\n",
    "lines.append(l1)\n",
    "labels.append('DOE')\n",
    "\n",
    "axs.legend(lines,labels,ncol=3,handletextpad=0.1,handlelength=1,loc=[0.5, 0.5],columnspacing=0.3)\n",
    "axs.text(0.76, 0.93,r'$\\mu$', ha='center', va='center', transform=axs.transAxes)\n",
    "axs.set_title('Commercial')\n",
    "axs.set_ylabel('P(Mean occupied fraction)')\n",
    "axs.set_xlabel('Mean occupied fraction')\n",
    "# fig.savefig('../Useful_Results/COMsensitivityVsDOE.png', dpi=300, format='png',  bbox_inches='tight')"
   ]
  },
  {
   "cell_type": "code",
   "execution_count": 40,
   "metadata": {},
   "outputs": [
    {
     "data": {
      "image/png": "[encoded data removed]",
      "text/plain": [
       "<Figure size 576x216 with 2 Axes>"
      ]
     },
     "metadata": {
      "needs_background": "light"
     },
     "output_type": "display_data"
    }
   ],
   "source": [
    "### plot the average fraction OF THE DOE OCCUPANCY for both RES and COMM\n",
    "fig, ax = plt.subplots(1,2,sharex=True, sharey=True)\n",
    "axs = ax.ravel()\n",
    "fig.set_size_inches(8,3)\n",
    "\n",
    "for j in range(11):\n",
    "    cl1 = scalarMapRes.to_rgba((np.float(j)))\n",
    "    cl2 = scalarMapComm.to_rgba((np.float(j)))\n",
    "    cl = [colors2.rgb2hex(cl1), colors2.rgb2hex(cl2)]\n",
    "    differencesRES, differencesNR = [], []\n",
    "    for bID in allTestBuildings:\n",
    "        uses = [schedUsetoSDLUse[x] for x in allTestBuildings[bID]['zoneUses']]\n",
    "        newOcc = SDLBuildings[bID]['total_occupancy24'][j]\n",
    "        oldOcc = allTestBuildings[bID]['total_occupancy']\n",
    "        if sum([1 for x in uses if x=='RESIDENT'])==len(uses):\n",
    "            differencesRES.append( np.mean( np.divide( \\\n",
    "                newOcc[np.where(oldOcc>0)[0]],oldOcc[np.where(oldOcc>0)[0]]) ) )\n",
    "        elif sum([1 for x in uses if x=='RESIDENT']) == 0:\n",
    "            differencesNR.append( np.mean( np.divide( \\\n",
    "                newOcc[np.where(oldOcc>0)[0]],oldOcc[np.where(oldOcc>0)[0]]) ) )\n",
    "\n",
    "    diffBins = np.arange(0,1.4,0.02)\n",
    "    diffResHist, diffResEdges = np.histogram( differencesRES, diffBins, density=False)\n",
    "    diffCommHist, diffCommEdges = np.histogram( differencesNR, diffBins, density=False)\n",
    "    diffResWidths = diffResEdges[1:]-diffResEdges[:-1]\n",
    "    diffCommWidths = diffCommEdges[1:]-diffCommEdges[:-1]\n",
    "\n",
    "    for axInd in range(2):\n",
    "        if axInd==0:\n",
    "            axs[axInd].plot(diffResEdges[:-1]+diffResWidths/2, diffResHist, color=cl[axInd])\n",
    "        else:\n",
    "            axs[axInd].plot(diffCommEdges[:-1]+diffCommWidths/2, diffCommHist, color=cl[axInd])\n",
    "        axs[axInd].tick_params(axis='both', labelsize=12)"
   ]
  },
  {
   "cell_type": "code",
   "execution_count": 41,
   "metadata": {},
   "outputs": [
    {
     "data": {
      "image/png": "[encoded data removed]",
      "text/plain": [
       "<Figure size 576x216 with 2 Axes>"
      ]
     },
     "metadata": {
      "needs_background": "light"
     },
     "output_type": "display_data"
    }
   ],
   "source": [
    "### plot the average fraction OF THE DOE OCCUPANCY for both RES and COMM\n",
    "fig, ax = plt.subplots(1,2,sharex=True, sharey=True)\n",
    "axs = ax.ravel()\n",
    "fig.set_size_inches(8,3)\n",
    "\n",
    "lines = [[] for j in range(2)]\n",
    "labels = [[] for j in range(11)]\n",
    "\n",
    "for j in range(11):\n",
    "    cl1 = scalarMapRes.to_rgba((np.float(j)))\n",
    "    cl2 = scalarMapComm.to_rgba((np.float(j)))\n",
    "    cl = [colors2.rgb2hex(cl1), colors2.rgb2hex(cl2)]\n",
    "    newRes, oldRes, newComm, oldComm = [], [], [], []\n",
    "    for bID in allTestBuildings:\n",
    "        uses = [schedUsetoSDLUse[x] for x in allTestBuildings[bID]['zoneUses']]\n",
    "        newOcc = SDLBuildings[bID]['total_occupancy24'][j]\n",
    "        oldOcc = allTestBuildings[bID]['total_occupancy']\n",
    "        if sum([1 for x in uses if x=='RESIDENT'])==len(uses):\n",
    "            newRes.append( \\\n",
    "            newOcc/max(oldOcc) )\n",
    "            if j ==10:\n",
    "                oldRes.append( \\\n",
    "                oldOcc/max(oldOcc) )\n",
    "        elif sum([1 for x in uses if x=='RESIDENT']) == 0:\n",
    "            newComm.append( \\\n",
    "            newOcc/max(oldOcc) )\n",
    "            if j==10:\n",
    "                oldComm.append( \\\n",
    "                oldOcc/max(oldOcc) )\n",
    "                \n",
    "    # get the average occ\n",
    "    avOcc = [np.median(newRes, axis=0), np.median(newComm, axis=0)]\n",
    "\n",
    "    for axInd in range(2):\n",
    "        l1, = axs[axInd].plot(np.arange(1,24.2), avOcc[axInd], color=cl[axInd])\n",
    "        lines[axInd].append(l1)\n",
    "    labels[j]='%.1f'%(nonLinParams[j])\n",
    "        \n",
    "avOcc = [np.median(oldRes, axis=0), np.median(oldComm, axis=0)]\n",
    "titles = ['Residential','Commercial']\n",
    "for axInd in range(2):\n",
    "    l1, = axs[axInd].plot(np.arange(1,24.2), avOcc[axInd], color='k')\n",
    "    axs[axInd].set_xlim([1,24])\n",
    "    axs[axInd].set_ylim([-0.1,1.1])\n",
    "    axs[axInd].set_xlabel('Hour of day')\n",
    "    lines[axInd].append(l1)\n",
    "    axs[axInd].set_ylabel('Occupied Fraction');\n",
    "    axs[axInd].set_title(titles[axInd])\n",
    "labels.append('DOE')\n",
    "\n",
    "axs[0].legend(lines[0],labels,ncol=2,handletextpad=0.1,handlelength=1,loc=[0.37, 0.35],columnspacing=0.3)\n",
    "axs[1].legend(lines[1],labels,ncol=2,handletextpad=0.1,handlelength=1,loc=[0.01, 0.35],columnspacing=0.3)\n",
    "axs[0].text(0.53, 0.95,r'$\\mu$', ha='center', va='center', transform=axs[0].transAxes);\n",
    "axs[1].text(0.2, 0.95,r'$\\mu$', ha='center', va='center', transform=axs[1].transAxes);\n",
    "# fig.savefig('../Useful_Results/meanDayOccupiedFraction.png', dpi=300, format='png',  bbox_inches='tight')"
   ]
  },
  {
   "cell_type": "code",
   "execution_count": 42,
   "metadata": {},
   "outputs": [
    {
     "name": "stdout",
     "output_type": "stream",
     "text": [
      "[u'AppM', u'OffM', u'RetS', u'ReSd', u'Gara', u'OffL', u'HotL', u'HotS']\n"
     ]
    }
   ],
   "source": [
    "allUses = []\n",
    "for bID in allTestBuildings:\n",
    "    usesSet = set([z for z in allTestBuildings[bID]['zoneUses']])\n",
    "    for uS in usesSet:\n",
    "        if uS not in allUses:\n",
    "            allUses.append( uS )    \n",
    "print allUses"
   ]
  },
  {
   "cell_type": "code",
   "execution_count": 43,
   "metadata": {},
   "outputs": [
    {
     "data": {
      "image/png": "[encoded data removed]",
      "text/plain": [
       "<Figure size 1152x108 with 8 Axes>"
      ]
     },
     "metadata": {
      "needs_background": "light"
     },
     "output_type": "display_data"
    }
   ],
   "source": [
    "diffBuildings = [u'HotS', u'Mall', u'Gara', u'RetS', u'AppM', u'HotL', u'OffM', u'OffL', u'ReSd']\n",
    "fig = plt.figure()\n",
    "fig.set_size_inches(16,1.5)\n",
    "axs = []\n",
    "for d in range(len(allUses)):\n",
    "    axs.append( fig.add_subplot(1,9,d+1) )\n",
    "for jjj, bType in enumerate(allUses):\n",
    "    for bID in allTestBuildings:\n",
    "        usesSet = set([z for z in allTestBuildings[bID]['zoneUses']])\n",
    "        if bType in usesSet:\n",
    "            #print bID\n",
    "            bIndex = allTestBuildings[bID]['zoneUses'].index( bType )\n",
    "            mfFactor = allTestBuildings[bID]['zoneAreas'][bIndex] * allTestBuildings[bID]['peoplePerAreaZone'][bIndex]\n",
    "            #print mfFactor\n",
    "            occupancy = [np.round(x*mfFactor) for x in allTestBuildings[bID]['occs'][ allTestBuildings[bID]['useToSchedule'][bType] ] ]\n",
    "            axs[jjj].plot(np.arange(0,24), occupancy)\n",
    "            axs[jjj].set_title(bType)\n",
    "\n",
    "            break   \n",
    "fig.tight_layout()"
   ]
  },
  {
   "cell_type": "code",
   "execution_count": 44,
   "metadata": {},
   "outputs": [
    {
     "data": {
      "text/plain": [
       "array([ 0.,  5., 10.])"
      ]
     },
     "execution_count": 44,
     "metadata": {},
     "output_type": "execute_result"
    }
   ],
   "source": [
    "testMuValues = np.asarray([0,0.5,1.])\n",
    "testMuIndices = np.zeros(np.shape(testMuValues))\n",
    "for j,mu in enumerate(testMuValues):\n",
    "    testMuIndices[j] = np.where(np.round(nonLinParams,3)==np.round(mu,3))[0][0]\n",
    "testMuIndices"
   ]
  },
  {
   "cell_type": "code",
   "execution_count": 45,
   "metadata": {},
   "outputs": [
    {
     "name": "stdout",
     "output_type": "stream",
     "text": [
      "There are 174 buildings with res\n",
      "There are 114 buildings with no res\n"
     ]
    }
   ],
   "source": [
    "# plot the average hourly difference in occupancy between ref and mob\n",
    "differencesRES1 = [[] for j in range(len(testMuValues))]\n",
    "differencesRES2 = [[] for j in range(len(testMuValues))]\n",
    "differencesNR1 = [[] for j in range(len(testMuValues))]\n",
    "differencesNR2 = [[] for j in range(len(testMuValues))]\n",
    "for bID in allTestBuildings:\n",
    "    uses = [schedUsetoSDLUse[x] for x in allTestBuildings[bID]['zoneUses']]\n",
    "    for j, muIndex in enumerate(testMuIndices):\n",
    "        muIndex = int(muIndex)\n",
    "        if sum([1 for x in uses if x=='RESIDENT'])==len(uses):\n",
    "            if np.mean(allTestBuildings[bID]['total_occupancy'])>\\\n",
    "            np.mean(SDLBuildings[bID]['total_occupancy24'][muIndex]):\n",
    "                differencesRES1[j].append(np.mean( np.absolute(allTestBuildings[bID]['total_occupancy'] \\\n",
    "                                    - SDLBuildings[bID]['total_occupancy24'][muIndex]) ))\n",
    "            else:\n",
    "                differencesRES2[j].append(np.mean( np.absolute(allTestBuildings[bID]['total_occupancy']\\\n",
    "                                    - SDLBuildings[bID]['total_occupancy24'][muIndex]) ))\n",
    "        elif sum([1 for x in uses if x=='RESIDENT']) == 0:\n",
    "            if np.mean(allTestBuildings[bID]['total_occupancy'])>\\\n",
    "            np.mean(SDLBuildings[bID]['total_occupancy24'][muIndex]):\n",
    "                differencesNR1[j].append(np.mean(np.absolute(allTestBuildings[bID]['total_occupancy']\\\n",
    "                                    - SDLBuildings[bID]['total_occupancy24'][muIndex]) ))\n",
    "            else:\n",
    "                differencesNR2[j].append(np.mean( np.absolute(allTestBuildings[bID]['total_occupancy']\\\n",
    "                                    - SDLBuildings[bID]['total_occupancy24'][muIndex]) ))\n",
    "print 'There are', len(differencesRES1[0])+len(differencesRES2[0]), 'buildings with res'\n",
    "print 'There are', len(differencesNR1[0])+len(differencesNR2[0]), 'buildings with no res'"
   ]
  },
  {
   "cell_type": "code",
   "execution_count": 46,
   "metadata": {},
   "outputs": [],
   "source": [
    "start = [1,10,100,1000]\n",
    "logTicks = []\n",
    "for j in range(4):\n",
    "    logTicks.append(np.arange(start[j],10*start[j],start[j]))\n",
    "    \n",
    "logTicks = np.log10(np.ravel(logTicks))"
   ]
  },
  {
   "cell_type": "code",
   "execution_count": 47,
   "metadata": {},
   "outputs": [
    {
     "name": "stderr",
     "output_type": "stream",
     "text": [
      "/usr/local/lib/python2.7/dist-packages/ipykernel_launcher.py:17: DeprecationWarning: `spline` is deprecated!\n",
      "spline is deprecated in scipy 0.19.0, use Bspline class instead.\n",
      "/usr/local/lib/python2.7/dist-packages/ipykernel_launcher.py:32: DeprecationWarning: `spline` is deprecated!\n",
      "spline is deprecated in scipy 0.19.0, use Bspline class instead.\n",
      "/usr/local/lib/python2.7/dist-packages/ipykernel_launcher.py:37: DeprecationWarning: `spline` is deprecated!\n",
      "spline is deprecated in scipy 0.19.0, use Bspline class instead.\n"
     ]
    },
    {
     "data": {
      "text/plain": [
       "Text(0,0.5,'P(Mean hourly occ. difference)')"
      ]
     },
     "execution_count": 47,
     "metadata": {},
     "output_type": "execute_result"
    },
    {
     "data": {
      "image/png": "[encoded data removed]",
      "text/plain": [
       "<Figure size 360x288 with 1 Axes>"
      ]
     },
     "metadata": {
      "needs_background": "light"
     },
     "output_type": "display_data"
    }
   ],
   "source": [
    "# plot the average hourly difference in occupancy between ref and mob\n",
    "from scipy.interpolate import spline\n",
    "fig = plt.figure(figsize=(5,4))\n",
    "ax1 = fig.add_subplot(111)\n",
    "lineStyles = ['--','-','-.']\n",
    "diffBins = np.arange(0,4,0.1)\n",
    "labels = []\n",
    "lines = []\n",
    "for plotIndex,muIndex in enumerate(testMuIndices):\n",
    "    diffHist1, diffEdges = np.histogram( [np.log10(x) for x in differencesRES1[plotIndex]], diffBins, density=False)\n",
    "    diffHist2, diffEdges = np.histogram( [np.log10(x) for x in differencesRES2[plotIndex]], diffBins, density=False)\n",
    "    diffWidths = diffEdges[1:]-diffEdges[:-1]\n",
    "    # interp \n",
    "    xvals = diffEdges[:-1]+diffWidths/2\n",
    "    yvals = diffHist1/float(np.sum(diffHist1+diffHist2))\n",
    "    xnew = np.linspace(xvals[0],xvals[-1],300)\n",
    "    power_smooth = spline(xvals,yvals,xnew)\n",
    "    l1, = ax1.plot(xnew, power_smooth,\\\n",
    "             color='r', linestyle=lineStyles[plotIndex])\n",
    "    xvals = -diffEdges[:-1]-diffWidths/2\n",
    "    yvals = diffHist2/float(np.sum(diffHist1+diffHist2))\n",
    "    xnew = np.linspace(xvals[0],xvals[-1],300)\n",
    "#     power_smooth = spline(xvals,yvals,xnew)\n",
    "    l1, = ax1.plot(xvals, yvals,\\\n",
    "             color='r', linestyle=lineStyles[plotIndex])\n",
    "    lines.append(l1)\n",
    "    str111 = 'Res. $\\mu$=%.1f'%nonLinParams[int(muIndex)]\n",
    "    labels.append(str111)\n",
    "    diffHist1, diffEdges = np.histogram( [np.log10(x) for x in differencesNR1[plotIndex]], diffBins, density=False)\n",
    "    diffHist2, diffEdges = np.histogram( [np.log10(x) for x in differencesNR2[plotIndex]], diffBins, density=False)\n",
    "    xvals = diffEdges[:-1]+diffWidths/2\n",
    "    yvals = diffHist1/float(np.sum(diffHist1+diffHist2))\n",
    "    xnew = np.linspace(xvals[0],xvals[-1],300)\n",
    "    power_smooth = spline(xvals,yvals,xnew)\n",
    "    l1, = ax1.plot(xnew, power_smooth, \\\n",
    "             color='b', linestyle=lineStyles[plotIndex])\n",
    "    xvals = -diffEdges[:-1]-diffWidths/2\n",
    "    yvals = diffHist2/float(np.sum(diffHist1+diffHist2))\n",
    "    xnew = np.linspace(xvals[0],xvals[-1],300)\n",
    "    power_smooth = spline(xvals,yvals,xnew)\n",
    "    l1, = ax1.plot(-diffEdges[:-1]-diffWidths/2, diffHist2/float(np.sum(diffHist1+diffHist2)), \\\n",
    "             color='b', linestyle=lineStyles[plotIndex])\n",
    "    lines.append(l1)\n",
    "    str111 = 'Comm. $\\mu$=%.1f'%nonLinParams[int(muIndex)]\n",
    "    labels.append(str111)\n",
    "    \n",
    "ax1.legend(lines, labels, fontsize=fs-1, loc='upper right', ncol=1, handletextpad=0.2, labelspacing=0.1)\n",
    "ax1.set_yticks(np.arange(0,0.21,0.05)), ax1.set_yticks(np.arange(0,0.22,0.01), minor=True)\n",
    "ax1.set_xticks(np.arange(-1,4.5,1))\n",
    "ax1.set_xticks(np.append(-logTicks[0:10][:1:-1],logTicks), minor=True)\n",
    "ax1.yaxis.set_ticks_position('both')\n",
    "ax1.xaxis.set_ticks_position('both')\n",
    "ax1.tick_params(axis='both', labelsize=fs)\n",
    "ax1.set_xlim([-1,4.5])\n",
    "ax1.set_ylim([0,0.22])\n",
    "# ax1.set_xticklabels(['-10','0','10','100','1000','10000'])\n",
    "\n",
    "ax1.set_xlabel(r'Mean hourly occ. difference',fontsize=fs)\n",
    "ax1.set_ylabel(r'P(Mean hourly occ. difference)',fontsize=fs)\n",
    "# fig.savefig('../Useful_Results/avHourDiff.png', dpi=300, format='png',  bbox_inches='tight')"
   ]
  },
  {
   "cell_type": "code",
   "execution_count": 48,
   "metadata": {},
   "outputs": [],
   "source": [
    "def get_schedule_name_and_value(idf1, searchString):\n",
    "    schedules = idf1.idfobjects['SCHEDULE:YEAR']\n",
    "    sYToD = {}\n",
    "    for s in schedules:\n",
    "        if searchString in s.Name:\n",
    "            sYToD[s.Name] = s.ScheduleWeek_Name_1\n",
    "    \n",
    "    schedules = idf1.idfobjects['SCHEDULE:WEEK:DAILY']\n",
    "    for sh in sYToD:\n",
    "        name = sYToD[sh]\n",
    "        for s in schedules:\n",
    "            if name == s.Name:\n",
    "                sYToD[sh] = s.Monday_ScheduleDay_Name\n",
    "    \n",
    "    schedules = idf1.idfobjects['SCHEDULE:DAY:HOURLY']\n",
    "    sNamToNum = {}\n",
    "    for sh in sYToD:\n",
    "        name = sYToD[sh]\n",
    "        for s in schedules:\n",
    "            if name == s.Name:\n",
    "                sNamToNum[s.Name] = s['obj'][3:]\n",
    "    \n",
    "    return sYToD, sNamToNum"
   ]
  },
  {
   "cell_type": "code",
   "execution_count": 50,
   "metadata": {},
   "outputs": [],
   "source": [
    "oldVals = {}\n",
    "for f in fileList:\n",
    "    idf1 = IDF(f)\n",
    "    buildingID = f.split('files/')[1][:-4].split('_')[0]\n",
    "    oldVals[buildingID] = {}\n",
    "    # create a dictionary to store the zone info\n",
    "    zoneNames = [ob.Name for ob in idf1.idfobjects['ZONE']]\n",
    "    zoneObjects = idf1.idfobjects['ZONE']\n",
    "    people = idf1.idfobjects['PEOPLE']\n",
    "    lights = idf1.idfobjects['LIGHTS']\n",
    "    equipment = idf1.idfobjects['ELECTRICEQUIPMENT']\n",
    "    heat = idf1.idfobjects['ZONEHVAC:IDEALLOADSAIRSYSTEM']\n",
    "    DHW = idf1.idfobjects['WATERUSE:EQUIPMENT']\n",
    "    sheds = idf1.idfobjects['SCHEDULE:CONSTANT']\n",
    "    oldVals[buildingID]['zones'] = {}\n",
    "    for j,z in enumerate(zoneNames):\n",
    "        str111 = 'z'+str(j)\n",
    "        oldVals[buildingID]['zones'][str111] = {}\n",
    "        oldVals[buildingID]['zones'][str111]['area'] = zoneObjects[j].Floor_Area\n",
    "        oldVals[buildingID]['zones'][str111]['use'] = people[j].Number_of_People_Schedule_Name.split('B_')[1][0:4]\n",
    "        oldVals[buildingID]['zones'][str111]['people']=people[j].Number_of_People_Schedule_Name\n",
    "        oldVals[buildingID]['zones'][str111]['PCA']=people[j].People_per_Zone_Floor_Area\n",
    "        oldVals[buildingID]['zones'][str111]['peakEqp']=equipment[j].Watts_per_Zone_Floor_Area\n",
    "        oldVals[buildingID]['zones'][str111]['peakLights']=lights[j].Watts_per_Zone_Floor_Area\n",
    "        for itemDHW in DHW:\n",
    "            if z in itemDHW.Name:\n",
    "                oldVals[buildingID]['zones'][str111]['flowRate']=itemDHW.Peak_Flow_Rate\n",
    "                HotSupply = itemDHW.Hot_Water_Supply_Temperature_Schedule_Name\n",
    "                ColdSupply = itemDHW.Cold_Water_Supply_Temperature_Schedule_Name        \n",
    "                for sched in sheds:\n",
    "                    if sched.Name == HotSupply:\n",
    "                        oldVals[buildingID]['zones'][str111]['hotSupply'] = sched.Hourly_Value\n",
    "                    if sched.Name == ColdSupply:\n",
    "                        oldVals[buildingID]['zones'][str111]['coldSupply'] = sched.Hourly_Value\n",
    "    # now get the schedules associated with that building\n",
    "    \n",
    "    oldVals[buildingID]['peopleSchedules'], oldVals[buildingID]['occupancy'] = \\\n",
    "    get_schedule_name_and_value(idf1, 'Occ')\n",
    "        \n",
    "    oldVals[buildingID]['lightSchedules'], oldVals[buildingID]['light'] = \\\n",
    "    get_schedule_name_and_value(idf1, 'Lgt')\n",
    "    \n",
    "    oldVals[buildingID]['eqpSchedules'], oldVals[buildingID]['eqp'] = \\\n",
    "    get_schedule_name_and_value(idf1, 'Eqp')\n",
    "    \n",
    "    oldVals[buildingID]['dhwSchedules'], oldVals[buildingID]['dhw'] = \\\n",
    "    get_schedule_name_and_value(idf1, 'DHW')\n",
    "    \n",
    "    oldVals[buildingID]['hetSchedules'], oldVals[buildingID]['het'] = \\\n",
    "    get_schedule_name_and_value(idf1, 'Het')\n",
    "    \n",
    "    oldVals[buildingID]['colSchedules'], oldVals[buildingID]['col'] = \\\n",
    "    get_schedule_name_and_value(idf1, 'Col')"
   ]
  },
  {
   "cell_type": "code",
   "execution_count": 51,
   "metadata": {},
   "outputs": [],
   "source": [
    "# get total_occupancy per use\n",
    "for j,b in enumerate(oldVals.keys()):\n",
    "    usesSet = set([oldVals[b]['zones'][z]['use'] for z in oldVals[b]['zones']])\n",
    "    for use in usesSet:\n",
    "        \n",
    "        total_occ = np.zeros((24))\n",
    "        for z in oldVals[b]['zones'].values():\n",
    "            if use in z['people']:\n",
    "                total_occ += np.asarray( oldVals[b]['occupancy'][oldVals[b]['peopleSchedules'][z['people']]] ) \\\n",
    "                            *z['area']*z['PCA']\n",
    "        oldVals[b][use]=total_occ"
   ]
  },
  {
   "cell_type": "code",
   "execution_count": 52,
   "metadata": {},
   "outputs": [],
   "source": [
    "f = open('../PickledData/UBEMdata/buildings.pickle', 'wb')\n",
    "pickle.dump(oldVals, f, pickle.HIGHEST_PROTOCOL)\n",
    "f.close()"
   ]
  },
  {
   "cell_type": "code",
   "execution_count": 53,
   "metadata": {},
   "outputs": [],
   "source": [
    "### skip the above 3 cells for just figure plotting if have already run the full script before\n",
    "with open('../PickledData/UBEMdata/buildings.pickle', 'rb') as f:\n",
    "    oldVals = pickle.load(f)"
   ]
  },
  {
   "cell_type": "code",
   "execution_count": 54,
   "metadata": {},
   "outputs": [],
   "source": [
    "def scenario_1(oldSchedule, oldOccupancy, newOccupancy):\n",
    "    newSchedule = np.zeros(np.shape(oldSchedule))\n",
    "    for oi in range(len(newSchedule)):\n",
    "        if oldOccupancy[oi]>0:\n",
    "            if np.max(newOccupancy)>0:\n",
    "                newSchedule[oi] = np.min(oldSchedule) + (oldSchedule[oi]-np.min(oldSchedule)) \\\n",
    "                *((newOccupancy[oi]/np.max(newOccupancy))/(oldOccupancy[oi]/np.max(oldOccupancy)))\n",
    "            else:\n",
    "                newSchedule[oi] = np.min(oldSchedule)\n",
    "        else:\n",
    "            newSchedule[oi] = np.min(oldSchedule)\n",
    "        # if there are less people dont go above reference\n",
    "        if oldOccupancy[oi]>=newOccupancy[oi]:\n",
    "            if newSchedule[oi]>oldSchedule[oi]:\n",
    "                newSchedule[oi] = oldSchedule[oi]\n",
    "        # if there are more people dont go below reference\n",
    "        if newOccupancy[oi]>oldOccupancy[oi]:\n",
    "            if newSchedule[oi]<oldSchedule[oi]:\n",
    "                newSchedule[oi] = oldSchedule[oi]\n",
    "            # new can only scale above ref in proportion\n",
    "            if newSchedule[oi]>oldSchedule[oi]*(newOccupancy[oi]/oldOccupancy[oi]):\n",
    "                newSchedule[oi] = oldSchedule[oi]*(newOccupancy[oi]/oldOccupancy[oi])\n",
    "            # limit the load so that it cannot be hogher unless people higher\n",
    "            if np.max(oldOccupancy)>=np.max(newOccupancy):\n",
    "                if newSchedule[oi]>np.max(oldSchedule):\n",
    "                    newSchedule[oi] = np.max(oldSchedule)\n",
    "        if np.isnan(newSchedule[oi]):\n",
    "            print 'uh oh'\n",
    "    return newSchedule\n",
    "\n",
    "def scenario_2(oldSchedule, oldOccupancy, newOccupancy):\n",
    "    newSchedule = np.zeros(np.shape(oldSchedule))\n",
    "    for oi in range(len(newSchedule)):\n",
    "        if oldOccupancy[oi]>0:\n",
    "            if np.max(newOccupancy)>0:\n",
    "                newSchedule[oi] = np.min(oldSchedule)+(oldSchedule[oi]-np.min(oldSchedule)) \\\n",
    "                *(newOccupancy[oi]/oldOccupancy[oi])\n",
    "            else:\n",
    "                newSchedule[oi] = np.min(oldSchedule)\n",
    "            if np.max(oldOccupancy)>=np.max(newOccupancy):\n",
    "                if newSchedule[oi]>np.max(oldSchedule):\n",
    "                    newSchedule[oi] = np.max(oldSchedule)\n",
    "        else:\n",
    "            newSchedule[oi] = np.min(oldSchedule)\n",
    "        if np.isnan(newSchedule[oi]):\n",
    "            print 'uh oh'\n",
    "    return newSchedule"
   ]
  },
  {
   "cell_type": "code",
   "execution_count": 55,
   "metadata": {},
   "outputs": [
    {
     "name": "stdout",
     "output_type": "stream",
     "text": [
      "['0502876000', '0501338000', '0501242000', '0501401000', '0501344000']\n"
     ]
    }
   ],
   "source": [
    "## make some demos with buildings with different types\n",
    "## demo for the following buildings\n",
    "demos = [u'AppM', u'RetS', u'OffM', u'ReSd', u'HotL']\n",
    "demoBuildings = [[] for j in range(len(demos))]\n",
    "for j in range(len(demos)):\n",
    "    for b in oldVals.keys():\n",
    "        if demos[j] in [oldVals[b]['zones'][z]['use'] for z in oldVals[b]['zones']]:\n",
    "            demoBuildings[j] = b\n",
    "            break\n",
    "print demoBuildings"
   ]
  },
  {
   "cell_type": "code",
   "execution_count": null,
   "metadata": {},
   "outputs": [],
   "source": []
  },
  {
   "cell_type": "code",
   "execution_count": null,
   "metadata": {},
   "outputs": [],
   "source": []
  },
  {
   "cell_type": "markdown",
   "metadata": {},
   "source": [
    "## Decide which $\\mu$ we want to run the energy simulations for"
   ]
  },
  {
   "cell_type": "code",
   "execution_count": 56,
   "metadata": {},
   "outputs": [],
   "source": [
    "### we choose mu = 0.5, i.e. muIndex = 5\n",
    "muIndex = 5"
   ]
  },
  {
   "cell_type": "code",
   "execution_count": 57,
   "metadata": {},
   "outputs": [],
   "source": [
    "for building in SDLBuildings:\n",
    "    SDLBuildings[building]['total_occupancy24'] = \\\n",
    "        SDLBuildings[building]['total_occupancy24'][muIndex]\n",
    "    for key in SDLBuildings[building].keys():\n",
    "        if key not in ['geometry', 'total_occupancy24']:\n",
    "            SDLBuildings[building][key]['occupancy24'] = \\\n",
    "            SDLBuildings[building][key]['occupancy24'][muIndex]\n",
    "            SDLBuildings[building][key]['occupancy'] = \\\n",
    "            SDLBuildings[building][key]['occupancy'][muIndex]"
   ]
  },
  {
   "cell_type": "code",
   "execution_count": 68,
   "metadata": {},
   "outputs": [],
   "source": [
    "newTestUse = np.zeros((7,24))\n",
    "counter = -1\n",
    "for j,b in enumerate(demoBuildings):\n",
    "    usesSet = set([oldVals[b]['zones'][z]['use'] for z in oldVals[b]['zones']])   \n",
    "    interestingUses = [x for x in usesSet if 'Ret' not in x]\n",
    "    for use in interestingUses:\n",
    "#         print use, SDLBuildings[b][schedUsetoSDLUse[use]]['occupancy24']\n",
    "        counter+=1\n",
    "        #print counter\n",
    "        for hour, o in enumerate(SDLBuildings[b][schedUsetoSDLUse[use]]['occupancy24']):\n",
    "            newTestUse[counter, hour] = o"
   ]
  },
  {
   "cell_type": "code",
   "execution_count": 75,
   "metadata": {},
   "outputs": [],
   "source": [
    "# for each building and use, plot the occupancy, light, heat, DHW and cooling for each distinct use\n",
    "# Illustrate different cases in Fig 4 occupancy\n",
    "counter = -1\n",
    "fs = 12\n",
    "cols = ['#C0392B', '#5DADE2', '#F1C40F']\n",
    "fig, ax = plt.subplots(5, 4, sharex='col')\n",
    "fig.set_size_inches(10,10)\n",
    "# limits=[[0,26],[0,13],[0,1800],[0,75],[0,600]]\n",
    "# occMajorSteps = [5,5,500,50,200]\n",
    "# occMinorSteps = [1,1,50,5,20]\n",
    "for j,b in enumerate(demoBuildings):\n",
    "    plts = ['light', 'eqp', 'dhw', 'het']\n",
    "    colors = ['yellow','grey','orange','red']\n",
    "    usesSet = set([oldVals[b]['zones'][z]['use'] for z in oldVals[b]['zones']])   \n",
    "    interestingUses = [x for x in usesSet if 'Ret' not in x]\n",
    "    for use in interestingUses:\n",
    "        counter+=1\n",
    "\n",
    "        newOccUse = newTestUse[counter,:]\n",
    "        total_occ = np.zeros((24))\n",
    "        for z in oldVals[b]['zones'].values():\n",
    "            if use in z['people']:\n",
    "                total_occ += np.asarray( oldVals[b]['occupancy'][oldVals[b]['peopleSchedules'][z['people']]] ) \\\n",
    "                            *z['area']*z['PCA']\n",
    "        oldOccUse = np.round(total_occ)\n",
    "        \n",
    "        xnew = np.linspace(1, 24, num=100, endpoint=True)\n",
    "        f = interp1d(hours, oldOccUse, kind='linear')\n",
    "        oldOccInterp = f(xnew)\n",
    "        if j in [0,1]:\n",
    "            f = interp1d(hours, newOccUse, kind='linear')\n",
    "        else:\n",
    "            f = interp1d(hours, newOccUse, kind='cubic')\n",
    "        newOccInterp = f(xnew)\n",
    "        \n",
    "        ax[j,0].plot(xnew, oldOccInterp, color='k', linewidth=1.5)\n",
    "        ax[j,0].plot(xnew, newOccInterp, color=cols[1], linestyle='-.', linewidth=1.5)\n",
    "        ax[j,0].set_xlim([1,24])\n",
    "        #ax[j,0].set_ylim([limits[j][0],limits[j][1]])\n",
    "        #ax[j,0].set_yticks(np.arange(0,limits[j][1],occMajorSteps[j]))\n",
    "        #ax[j,0].set_yticks(np.arange(0,limits[j][1],occMinorSteps[j]), minor=True)\n",
    "        ax[j,0].set_xticks(np.arange(6,24,6))\n",
    "        ax[j,0].set_xticks(np.arange(2,24,2), minor=True)\n",
    "        ax[j,0].set_ylabel('Occupancy (persons)')\n",
    "        #ax[j,0].tick_params(axis='both', which='major', labelsize=fs)\n",
    "        ax[j,0].tick_params(axis = 'both', which = 'minor', labelsize = 0)\n",
    "        ax[j,0].set_xticklabels(['6am','noon','6pm'])\n",
    "\n",
    "        schedNames = ['lightSchedules', 'eqpSchedules', 'dhwSchedules']\n",
    "        lookupV = ['light', 'eqp', 'dhw']\n",
    "        \n",
    "        zVals = [z for z in oldVals[b]['zones'] if oldVals[b]['zones'][z]['use']==use]\n",
    "                \n",
    "        for sCount in range(3):\n",
    "            actualSchedule = schedNames[sCount]\n",
    "            k = [k for k in oldVals[b][actualSchedule].keys() if use in k][0]\n",
    "            oldSchedule = oldVals[b][lookupV[sCount]][oldVals[b][actualSchedule][k]]\n",
    "            \n",
    "            newSchedule1 = scenario_1(oldSchedule, oldOccUse, newOccUse)\n",
    "            \n",
    "            newSchedule2 = scenario_2(oldSchedule, oldOccUse, newOccUse)\n",
    "            \n",
    "            plottedVals = np.zeros((3,24))\n",
    "            plottedVals[0,:] = oldSchedule\n",
    "            plottedVals[1,:] = newSchedule1\n",
    "            plottedVals[2,:] = newSchedule2\n",
    "            \n",
    "            if actualSchedule=='lightSchedules':\n",
    "                peak = [oldVals[b]['zones'][z]['peakLights'] for z in zVals]\n",
    "                str111 = r'Peak: %.1f'%( np.mean(peak)*(np.max(plottedVals)/np.max(oldSchedule)) )\\\n",
    "                +' W/m$^{-2}$'\n",
    "            elif actualSchedule == 'eqpSchedules':\n",
    "                peak = [oldVals[b]['zones'][z]['peakEqp'] for z in zVals]\n",
    "                str111 = r'Peak: %.1f'%( np.mean(peak)*(np.max(plottedVals)/np.max(oldSchedule)) )\\\n",
    "                +' W/m$^{-2} $'\n",
    "            elif actualSchedule == 'dhwSchedules':\n",
    "                peak = [oldVals[b]['zones'][z]['flowRate'] for z in zVals]\n",
    "                str111 = 'Peak: %.1f'%( np.mean(peak)*1000000*(np.max(plottedVals)/np.max(oldSchedule)) )\\\n",
    "                +'X10$^{-6} $m$^{3}$/m$^{2}$'\n",
    "                Tdiff = [(oldVals[b]['zones'][z]['hotSupply'] - oldVals[b]['zones'][z]['coldSupply']) for z in zVals]\n",
    "                #print 'Peak Water = ', np.mean(peak)*np.mean(Tdiff)*1000*4.814\n",
    "\n",
    "            colos = ['k', '#5DADE2', '#C0392B']\n",
    "            stylers = ['-','-.','--']\n",
    "            for scenario_i in range(3):\n",
    "                f = interp1d(hours, plottedVals[scenario_i,:], kind='linear')\n",
    "                schedulePlot = f(xnew)\n",
    "                ax[j,sCount+1].plot(xnew, schedulePlot/np.max(plottedVals), color=colos[scenario_i]\\\n",
    "                                 , linewidth=1.5, linestyle=stylers[scenario_i])\n",
    "            \n",
    "            # graph format\n",
    "            ax[j,sCount+1].text(2,1.05, str111)\n",
    "            ax[j,sCount+1].set_ylabel('Fractional load')\n",
    "            ax[j,sCount+1].set_xticks(np.arange(6,24,6))\n",
    "            ax[j,sCount+1].set_xticks(np.arange(2,24,2), minor=True)\n",
    "            ax[j,sCount+1].set_yticks(np.arange(0,1.8,0.4))\n",
    "            ax[j,sCount+1].set_yticks(np.arange(0,1.8,0.1), minor=True)\n",
    "            ax[j,sCount+1].set_xticklabels(['6am','noon','6pm'])\n",
    "            ax[j,sCount+1].set_xlim([1,24]), ax[j,sCount+1].set_ylim([0,1.2])\n",
    "        break\n",
    "            \n",
    "rL = mlines.Line2D([], [], color='k', linewidth=2, label='DOE ref.')\n",
    "bL = mlines.Line2D([], [], color=cols[1], linestyle='-.', linewidth=1.5, label='Low impact')\n",
    "yL = mlines.Line2D([], [], color=cols[0], linestyle='--',linewidth=1.5, label='High impact')\n",
    "ax[0,1].legend(handles=[rL, bL, yL], fontsize=10, handletextpad=0.1, loc=[0,0.44])\n",
    "\n",
    "rL = mlines.Line2D([], [], color='k', linewidth=1.5, label='DOE ref.')\n",
    "bL = mlines.Line2D([], [], color=cols[1], linewidth=1.5, label='Mobile', linestyle='-.')\n",
    "ax[0,0].legend(handles=[rL, bL], handletextpad=0.1, loc=[0.3,0.6])\n",
    "\n",
    "fig.tight_layout()"
   ]
  },
  {
   "cell_type": "code",
   "execution_count": null,
   "metadata": {
    "collapsed": true
   },
   "outputs": [],
   "source": []
  },
  {
   "cell_type": "markdown",
   "metadata": {},
   "source": [
    "Stuff that we need to save"
   ]
  },
  {
   "cell_type": "code",
   "execution_count": 74,
   "metadata": {},
   "outputs": [],
   "source": [
    "try:\n",
    "    f = open('../PickledData/UBEMdata/SDLBuildings.pickle', 'wb')\n",
    "    pickle.dump(SDLBuildings, f, pickle.HIGHEST_PROTOCOL)\n",
    "    f.close()\n",
    "except Exception as e:\n",
    "    print('Unable to save data to', pickle_file, ':', e)\n",
    "    raise"
   ]
  },
  {
   "cell_type": "code",
   "execution_count": null,
   "metadata": {
    "collapsed": true
   },
   "outputs": [],
   "source": []
  }
 ],
 "metadata": {
  "kernelspec": {
   "display_name": "Python 2",
   "language": "python",
   "name": "python2"
  },
  "language_info": {
   "codemirror_mode": {
    "name": "ipython",
    "version": 2
   },
   "file_extension": ".py",
   "mimetype": "text/x-python",
   "name": "python",
   "nbconvert_exporter": "python",
   "pygments_lexer": "ipython2",
   "version": "2.7.12"
  }
 },
 "nbformat": 4,
 "nbformat_minor": 1
}
