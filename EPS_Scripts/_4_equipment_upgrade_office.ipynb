{
 "cells": [
  {
   "cell_type": "code",
   "execution_count": 1,
   "metadata": {
    "collapsed": true
   },
   "outputs": [],
   "source": [
    "import numpy as np\n",
    "import glob\n",
    "import os\n",
    "import cPickle as pickle\n",
    "from collections import defaultdict\n",
    "import sys\n",
    "\n",
    "import shapefile as shp\n",
    "import matplotlib.patches as patches\n",
    "from matplotlib import pyplot as plt\n",
    "from scipy.cluster.hierarchy import dendrogram, linkage\n",
    "import numpy as np\n",
    "from matplotlib.patches import Polygon\n",
    "from matplotlib.collections import PatchCollection\n",
    "\n",
    "import matplotlib.path as mplPath\n",
    "\n",
    "import matplotlib.lines as mlines\n",
    "\n",
    "import shutil\n",
    "import seaborn as sns\n",
    "\n",
    "from shutil import copyfile\n",
    "\n",
    "%matplotlib inline"
   ]
  },
  {
   "cell_type": "code",
   "execution_count": 3,
   "metadata": {
    "collapsed": true
   },
   "outputs": [],
   "source": [
    "# eppy paramters\n",
    "from eppy import modeleditor\n",
    "from eppy.modeleditor import IDF\n",
    "# set the idd file\n",
    "iddfile = 'Energy+.idd'\n",
    "IDF.setiddname(iddfile)"
   ]
  },
  {
   "cell_type": "code",
   "execution_count": 4,
   "metadata": {
    "collapsed": true
   },
   "outputs": [],
   "source": [
    "listFiles = glob.glob('../Idf_generated_files/All_buildings_standard_efficiency/*_control.idf')"
   ]
  },
  {
   "cell_type": "code",
   "execution_count": 5,
   "metadata": {
    "collapsed": true
   },
   "outputs": [],
   "source": [
    "# upgrade equip for these uses\n",
    "possibles = [u'Mall', u'RetS', u'OffM', u'ReSd']"
   ]
  },
  {
   "cell_type": "code",
   "execution_count": 1,
   "metadata": {
    "collapsed": true
   },
   "outputs": [],
   "source": [
    "listPossibles = []\n",
    "counter = 0\n",
    "for counter,f in enumerate(listFiles):\n",
    "    if counter%200==0:\n",
    "        print counter\n",
    "        sys.stdout.flush()\n",
    "    idf1 = IDF(f)\n",
    "    # find the uses\n",
    "    people = idf1.idfobjects['PEOPLE']\n",
    "    for j in range(len(people)):\n",
    "        #print people[j].Number_of_People_Schedule_Name\n",
    "        if any([substring in people[j].Number_of_People_Schedule_Name for substring in possibles]):\n",
    "            listPossibles.append( f )\n",
    "            break\n",
    "# # save the list of offices\n",
    "with open('../Intermediate_Results/listPossibles.pickle', 'wb') as outFile:\n",
    "    pickle.dump(listPossibles, outFile, pickle.HIGHEST_PROTOCOL)"
   ]
  },
  {
   "cell_type": "code",
   "execution_count": 4,
   "metadata": {
    "collapsed": true
   },
   "outputs": [],
   "source": [
    "# with open('../Intermediate_Results/listPossibles.pickle', 'rb') as inFile:\n",
    "#     listPossibles = pickle.load(inFile)"
   ]
  },
  {
   "cell_type": "code",
   "execution_count": null,
   "metadata": {
    "collapsed": true
   },
   "outputs": [],
   "source": [
    "print len(listPossibles)"
   ]
  },
  {
   "cell_type": "code",
   "execution_count": null,
   "metadata": {
    "collapsed": true
   },
   "outputs": [],
   "source": [
    "# equipment[j].Watts_per_Zone_Floor_Area\n",
    "peakEqVals = {}\n",
    "peakEqVals['OffM'] = []\n",
    "peakEqVals['Mall'] = []\n",
    "peakEqVals['RetS'] = []\n",
    "peakEqVals['ReSd'] = []\n",
    "for counter,f in enumerate(listPossibles):\n",
    "    idf1 = IDF(f)\n",
    "    equipment = idf1.idfobjects['ELECTRICEQUIPMENT']\n",
    "    people = idf1.idfobjects['PEOPLE']\n",
    "    # loop through the zone uses to find the office zones\n",
    "    for j in range(len(people)):\n",
    "        if 'OffM' in people[j].Number_of_People_Schedule_Name:\n",
    "            peakEqVals['OffM'].append( equipment[j].Watts_per_Zone_Floor_Area)\n",
    "        elif 'Mall' in people[j].Number_of_People_Schedule_Name:\n",
    "            peakEqVals['Mall'].append( equipment[j].Watts_per_Zone_Floor_Area)\n",
    "        if 'RetS' in people[j].Number_of_People_Schedule_Name:\n",
    "            peakEqVals['RetS'].append( equipment[j].Watts_per_Zone_Floor_Area)\n",
    "        elif 'ReSd' in people[j].Number_of_People_Schedule_Name:\n",
    "            peakEqVals['ReSd'].append( equipment[j].Watts_per_Zone_Floor_Area)\n",
    "            "
   ]
  },
  {
   "cell_type": "code",
   "execution_count": null,
   "metadata": {
    "collapsed": true
   },
   "outputs": [],
   "source": [
    "for p in possibles:\n",
    "    print p, set(peakEqVals[p])"
   ]
  },
  {
   "cell_type": "code",
   "execution_count": null,
   "metadata": {
    "collapsed": true
   },
   "outputs": [],
   "source": [
    "# delete the unwanted old results\n",
    "fileList = glob.glob('../Idf_generated_files/Commercial_equipment_efficiency/*.idf')\n",
    "print len(fileList)\n",
    "for file1 in fileList:\n",
    "    os.remove(file1)"
   ]
  },
  {
   "cell_type": "code",
   "execution_count": null,
   "metadata": {
    "collapsed": true
   },
   "outputs": [],
   "source": [
    "# copy all office files to the Office_equipment_efficiency folder\n",
    "for j in range(len(listPossibles)):\n",
    "    idx = listPossibles[j].split('iency/')[1].split('_')[0]\n",
    "    fileList = glob.glob('../Idf_generated_files/All_buildings_standard_efficiency/*'+idx+'*')\n",
    "    for f in fileList:\n",
    "        if 'control' in f:\n",
    "            newName = '../Idf_generated_files/Commercial_equipment_efficiency/'+idx+'_control_eqp.idf'\n",
    "            copyfile(f, newName)\n",
    "        elif 'experiment1' in f:\n",
    "            newName = '../Idf_generated_files/Commercial_equipment_efficiency/'+idx+'_experiment1_eqp.idf'\n",
    "            copyfile(f, newName)\n",
    "        elif 'experiment2' in f:\n",
    "            newName = '../Idf_generated_files/Commercial_equipment_efficiency/'+idx+'_experiment2_eqp.idf'\n",
    "            copyfile(f, newName)            \n",
    "        else:\n",
    "            print 'we have a problem', f"
   ]
  },
  {
   "cell_type": "code",
   "execution_count": null,
   "metadata": {
    "collapsed": true
   },
   "outputs": [],
   "source": [
    "newValue = {}\n",
    "for p in possibles:\n",
    "    print set(peakEqVals[p])\n",
    "    # we want a 10% increase in equipment efficiency\n",
    "    #newValue = 10.76*0.9\n",
    "    newValue[p] = peakEqVals[p][0]*0.9"
   ]
  },
  {
   "cell_type": "code",
   "execution_count": null,
   "metadata": {
    "collapsed": true
   },
   "outputs": [],
   "source": [
    "for p in newValue.keys():\n",
    "    print 'For use', p, 'the new value is', newValue[p], 'whereas old value was', peakEqVals[p][0]"
   ]
  },
  {
   "cell_type": "code",
   "execution_count": null,
   "metadata": {
    "collapsed": true
   },
   "outputs": [],
   "source": [
    "listFiles = glob.glob('../Idf_generated_files/Commercial_equipment_efficiency/*')"
   ]
  },
  {
   "cell_type": "code",
   "execution_count": null,
   "metadata": {
    "collapsed": true
   },
   "outputs": [],
   "source": [
    "for counter, f in enumerate(listFiles):\n",
    "    if counter%100==0:\n",
    "        print counter\n",
    "        sys.stdout.flush()\n",
    "    idf1 = IDF(f)\n",
    "    equipment = idf1.idfobjects['ELECTRICEQUIPMENT']\n",
    "    people = idf1.idfobjects['PEOPLE']\n",
    "    # loop through the zone uses to find the office zones\n",
    "    for j in range(len(people)):           \n",
    "        if 'OffM' in people[j].Number_of_People_Schedule_Name:\n",
    "            equipment[j].Watts_per_Zone_Floor_Area = newValue['OffM']\n",
    "        elif 'Mall' in people[j].Number_of_People_Schedule_Name:\n",
    "            equipment[j].Watts_per_Zone_Floor_Area = newValue['Mall']\n",
    "        if 'RetS' in people[j].Number_of_People_Schedule_Name:\n",
    "            equipment[j].Watts_per_Zone_Floor_Area = newValue['RetS']\n",
    "        elif 'ReSd' in people[j].Number_of_People_Schedule_Name:\n",
    "            equipment[j].Watts_per_Zone_Floor_Area = newValue['ReSd']\n",
    "    idf1.save()"
   ]
  },
  {
   "cell_type": "code",
   "execution_count": null,
   "metadata": {
    "collapsed": true
   },
   "outputs": [],
   "source": []
  }
 ],
 "metadata": {
  "kernelspec": {
   "display_name": "Python 2",
   "language": "python",
   "name": "python2"
  },
  "language_info": {
   "codemirror_mode": {
    "name": "ipython",
    "version": 2
   },
   "file_extension": ".py",
   "mimetype": "text/x-python",
   "name": "python",
   "nbconvert_exporter": "python",
   "pygments_lexer": "ipython2",
   "version": "2.7.12"
  }
 },
 "nbformat": 4,
 "nbformat_minor": 2
}
