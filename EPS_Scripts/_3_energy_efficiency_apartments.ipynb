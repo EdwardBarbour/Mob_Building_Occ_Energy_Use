{
 "cells": [
  {
   "cell_type": "code",
   "execution_count": 1,
   "metadata": {
    "collapsed": true
   },
   "outputs": [],
   "source": [
    "import numpy as np\n",
    "import glob\n",
    "import os\n",
    "import cPickle as pickle\n",
    "from collections import defaultdict\n",
    "import sys\n",
    "\n",
    "import shapefile as shp\n",
    "import matplotlib.patches as patches\n",
    "from matplotlib import pyplot as plt\n",
    "from scipy.cluster.hierarchy import dendrogram, linkage\n",
    "import numpy as np\n",
    "from matplotlib.patches import Polygon\n",
    "from matplotlib.collections import PatchCollection\n",
    "\n",
    "import matplotlib.path as mplPath\n",
    "\n",
    "import matplotlib.lines as mlines\n",
    "\n",
    "import shutil\n",
    "import seaborn as sns\n",
    "\n",
    "from shutil import copyfile\n",
    "\n",
    "%matplotlib inline"
   ]
  },
  {
   "cell_type": "code",
   "execution_count": 2,
   "metadata": {
    "collapsed": true
   },
   "outputs": [],
   "source": [
    "# eppy paramters\n",
    "from eppy import modeleditor\n",
    "from eppy.modeleditor import IDF\n",
    "# set the idd file\n",
    "iddfile = 'Energy+.idd'\n",
    "IDF.setiddname(iddfile)"
   ]
  },
  {
   "cell_type": "code",
   "execution_count": 3,
   "metadata": {},
   "outputs": [
    {
     "name": "stdout",
     "output_type": "stream",
     "text": [
      "1266\n",
      "1266\n",
      "1266\n"
     ]
    }
   ],
   "source": [
    "print len(glob.glob('../Idf_generated_files/All_buildings_standard_efficiency/*_control.idf'))\n",
    "print len(glob.glob('../Idf_generated_files/All_buildings_standard_efficiency/*_experiment1.idf'))\n",
    "print len(glob.glob('../Idf_generated_files/All_buildings_standard_efficiency/*_experiment2.idf'))"
   ]
  },
  {
   "cell_type": "code",
   "execution_count": 4,
   "metadata": {
    "collapsed": true
   },
   "outputs": [],
   "source": [
    "# find all the buildings with apartments\n",
    "listFiles = glob.glob('../Idf_generated_files/All_buildings_standard_efficiency/*_control.idf')"
   ]
  },
  {
   "cell_type": "code",
   "execution_count": 6,
   "metadata": {
    "collapsed": true
   },
   "outputs": [],
   "source": [
    "listApartments = []\n",
    "for j,f in enumerate(listFiles):\n",
    "    if j%500==0:\n",
    "        print j\n",
    "        sys.stdout.flush()\n",
    "    idf1 = IDF(f)\n",
    "    # find the uses\n",
    "    people = idf1.idfobjects['PEOPLE']\n",
    "    for pJ in range(len(people)):\n",
    "        if 'AppM' in people[pJ].Number_of_People_Schedule_Name:\n",
    "            listApartments.append(f)\n",
    "            break\n",
    "# save the apartment list\n",
    "with open('../Intermediate_Results/listApartments.pickle', 'wb') as outFile:\n",
    "    pickle.dump(listApartments, outFile, pickle.HIGHEST_PROTOCOL)"
   ]
  },
  {
   "cell_type": "code",
   "execution_count": 8,
   "metadata": {
    "collapsed": true
   },
   "outputs": [],
   "source": [
    "with open('../Intermediate_Results/listApartments.pickle', 'rb') as inFile:\n",
    "    listApartments = pickle.load(inFile)"
   ]
  },
  {
   "cell_type": "code",
   "execution_count": 9,
   "metadata": {},
   "outputs": [
    {
     "name": "stdout",
     "output_type": "stream",
     "text": [
      "There are 1046 buildings with apartments\n"
     ]
    }
   ],
   "source": [
    "print 'There are', len(listApartments), 'buildings with apartments'"
   ]
  },
  {
   "cell_type": "code",
   "execution_count": 9,
   "metadata": {
    "collapsed": true
   },
   "outputs": [],
   "source": [
    "periodApartments = ['AppM_2','AppM_3','AppM_4']\n",
    "# now in all the apartment idf files find the value\n",
    "exampleApartments = []\n",
    "for era in periodApartments:\n",
    "    print era\n",
    "    for f in listApartments:\n",
    "        idf1 = IDF(f)\n",
    "        constructions = idf1.idfobjects['CONSTRUCTION']\n",
    "        if era in constructions[0].Name:\n",
    "            # then get the insulation material name\n",
    "            exampleApartments.append(f)\n",
    "            break\n",
    "with open('../Intermediate_Results/exampleEraApartments.pickle', 'wb') as outFile:\n",
    "    pickle.dump(exampleApartments, outFile, pickle.HIGHEST_PROTOCOL)"
   ]
  },
  {
   "cell_type": "code",
   "execution_count": 10,
   "metadata": {
    "collapsed": true
   },
   "outputs": [],
   "source": [
    "with open('../Intermediate_Results/exampleEraApartments.pickle', 'rb') as inFile:\n",
    "    exampleApartments = pickle.load(inFile)"
   ]
  },
  {
   "cell_type": "code",
   "execution_count": 11,
   "metadata": {},
   "outputs": [
    {
     "data": {
      "text/plain": [
       "['../Idf_generated_files/All_buildings_standard_efficiency/0503082000_control.idf',\n",
       " '../Idf_generated_files/All_buildings_standard_efficiency/0501355000_control.idf',\n",
       " '../Idf_generated_files/All_buildings_standard_efficiency/0503131000_control.idf']"
      ]
     },
     "execution_count": 11,
     "metadata": {},
     "output_type": "execute_result"
    }
   ],
   "source": [
    "exampleApartments"
   ]
  },
  {
   "cell_type": "code",
   "execution_count": 12,
   "metadata": {
    "collapsed": true
   },
   "outputs": [],
   "source": [
    "periodApartments = ['AppM_2','AppM_3','AppM_4']\n",
    "searchMats = {}\n",
    "# now for all the example apartment buildings, select the searchMats\n",
    "for j,f in enumerate(exampleApartments):\n",
    "    idf1 = IDF(f)\n",
    "    constructions = idf1.idfobjects['CONSTRUCTION']\n",
    "    searchMats[periodApartments[j]] = {}\n",
    "    for con in constructions:\n",
    "        #print con.Name\n",
    "        if 'ExtWall' in con.Name:\n",
    "            for obj in con['obj']:\n",
    "                if 'Insul' in obj:\n",
    "                    # then save the name\n",
    "                    searchMats[periodApartments[j]]['Wall'] = obj\n",
    "            break\n",
    "    for con in constructions:\n",
    "        if 'Roof' in con.Name:\n",
    "            for obj in con['obj']:\n",
    "                if 'Insul' in obj:\n",
    "                    # then save the name\n",
    "                    searchMats[periodApartments[j]]['Roof'] = obj\n",
    "            break"
   ]
  },
  {
   "cell_type": "code",
   "execution_count": 13,
   "metadata": {},
   "outputs": [
    {
     "name": "stdout",
     "output_type": "stream",
     "text": [
      "0\n"
     ]
    }
   ],
   "source": [
    "# # delete the unwanted old idfs\n",
    "# fileList = glob.glob('../Idf_generated_files/Apartment_insulation_increase/*.idf')\n",
    "# print len(fileList)\n",
    "# for file1 in fileList:\n",
    "#     os.remove(file1)"
   ]
  },
  {
   "cell_type": "code",
   "execution_count": 16,
   "metadata": {
    "collapsed": true
   },
   "outputs": [],
   "source": [
    "# copy all the apartment buildings into a new folder\n",
    "for j in range(len(listApartments)):\n",
    "    idx = listApartments[j].split('iency/')[1].split('_')[0]\n",
    "    fileList = glob.glob('../Idf_generated_files/All_buildings_standard_efficiency/*'+idx+'*')\n",
    "    for f in fileList:\n",
    "        if 'control' in f:\n",
    "            newName = '../Idf_generated_files/Apartment_insulation_increase/'+idx+'_control_ins.idf'\n",
    "            copyfile(f, newName)\n",
    "        elif 'experiment1' in f:\n",
    "            newName = '../Idf_generated_files/Apartment_insulation_increase/'+idx+'_experiment1_ins.idf'\n",
    "            copyfile(f, newName)\n",
    "        elif 'experiment2' in f:\n",
    "            newName = '../Idf_generated_files/Apartment_insulation_increase/'+idx+'_experiment2_ins.idf'\n",
    "            copyfile(f, newName)            \n",
    "        else:\n",
    "            print 'we have a problem', f"
   ]
  },
  {
   "cell_type": "code",
   "execution_count": 17,
   "metadata": {
    "collapsed": true
   },
   "outputs": [],
   "source": [
    "for j,f in enumerate(exampleApartments):\n",
    "    idf1 = IDF(f)\n",
    "    constructions = idf1.idfobjects['CONSTRUCTION']\n",
    "    searchMats[periodApartments[j]] = {}\n",
    "    for con in constructions:\n",
    "        if 'ExtWall' in con.Name:\n",
    "            for obj in con['obj']:\n",
    "                if 'Insul' in obj:\n",
    "                    # then save the name\n",
    "                    searchMats[periodApartments[j]]['Wall'] = obj\n",
    "            break\n",
    "    for con in constructions:\n",
    "        if 'Roof' in con.Name:\n",
    "            for obj in con['obj']:\n",
    "                if 'Insul' in obj:\n",
    "                    # then save the name\n",
    "                    searchMats[periodApartments[j]]['Roof'] = obj\n",
    "            break"
   ]
  },
  {
   "cell_type": "code",
   "execution_count": 18,
   "metadata": {},
   "outputs": [
    {
     "name": "stdout",
     "output_type": "stream",
     "text": [
      "457\n"
     ]
    }
   ],
   "source": [
    "listFiles = glob.glob('../Idf_generated_files/Apartment_insulation_increase/*')\n",
    "print len(listFiles)"
   ]
  },
  {
   "cell_type": "code",
   "execution_count": 19,
   "metadata": {
    "collapsed": true
   },
   "outputs": [],
   "source": [
    "targetValues = {}\n",
    "targetValues['Roof'] = 0.1532*1.1\n",
    "targetValues['Wall'] = 0.1192*1.1"
   ]
  },
  {
   "cell_type": "code",
   "execution_count": 21,
   "metadata": {
    "collapsed": true
   },
   "outputs": [],
   "source": [
    "problemFiles = []\n",
    "for counter, f in enumerate(listFiles):\n",
    "    if counter%100==0:\n",
    "        print counter\n",
    "        sys.stdout.flush()\n",
    "    idf1 = IDF(f)\n",
    "    # Find which era the apartment is from\n",
    "    era = idf1.idfobjects['CONSTRUCTION'][0].Name.split('AppM_')[1][0]\n",
    "    era = 'AppM_'+era\n",
    "    # now change the insulation    \n",
    "    materials = idf1.idfobjects['MATERIAL']\n",
    "    upgrades = ['Wall', 'Roof']\n",
    "    for upgrade in upgrades:\n",
    "        found = 0\n",
    "        changeMaterial = searchMats[era][upgrade]\n",
    "        for j in range(len(materials)):\n",
    "            if materials[j].Name == changeMaterial:\n",
    "                materials[j].Thickness = targetValues[upgrade]\n",
    "                #print materials[j]\n",
    "                found+=1\n",
    "                break\n",
    "        if found == 0:\n",
    "            print upgrade, f\n",
    "            problemFiles.append([upgrade, f])\n",
    "    idf1.save()\n",
    "            "
   ]
  },
  {
   "cell_type": "code",
   "execution_count": 24,
   "metadata": {
    "collapsed": true
   },
   "outputs": [],
   "source": [
    "listFiles = glob.glob('../Idf_generated_files/Apartment_insulation_increase/*')"
   ]
  },
  {
   "cell_type": "code",
   "execution_count": null,
   "metadata": {
    "collapsed": true
   },
   "outputs": [],
   "source": []
  }
 ],
 "metadata": {
  "kernelspec": {
   "display_name": "Python 2",
   "language": "python",
   "name": "python2"
  },
  "language_info": {
   "codemirror_mode": {
    "name": "ipython",
    "version": 2
   },
   "file_extension": ".py",
   "mimetype": "text/x-python",
   "name": "python",
   "nbconvert_exporter": "python",
   "pygments_lexer": "ipython2",
   "version": "2.7.12"
  }
 },
 "nbformat": 4,
 "nbformat_minor": 2
}
