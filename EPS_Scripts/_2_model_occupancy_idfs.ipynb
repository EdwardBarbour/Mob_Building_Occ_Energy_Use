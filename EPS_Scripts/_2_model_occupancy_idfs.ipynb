{
 "cells": [
  {
   "cell_type": "code",
   "execution_count": 1,
   "metadata": {},
   "outputs": [],
   "source": [
    "import numpy as np\n",
    "import glob\n",
    "import os\n",
    "import cPickle as pickle\n",
    "from collections import defaultdict\n",
    "\n",
    "import shapefile as shp\n",
    "import matplotlib.patches as patches\n",
    "from matplotlib import pyplot as plt\n",
    "from scipy.cluster.hierarchy import dendrogram, linkage\n",
    "import numpy as np\n",
    "from matplotlib.patches import Polygon\n",
    "from matplotlib.collections import PatchCollection\n",
    "\n",
    "import matplotlib.path as mplPath\n",
    "\n",
    "import matplotlib.lines as mlines\n",
    "\n",
    "import shutil\n",
    "import seaborn as sns\n",
    "\n",
    "from shutil import copyfile\n",
    "\n",
    "%matplotlib inline"
   ]
  },
  {
   "cell_type": "code",
   "execution_count": 2,
   "metadata": {},
   "outputs": [],
   "source": [
    "# eppy paramters\n",
    "from eppy import modeleditor\n",
    "from eppy.modeleditor import IDF\n",
    "# set the idd file\n",
    "iddfile = 'Energy+.idd'\n",
    "IDF.setiddname(iddfile)"
   ]
  },
  {
   "cell_type": "markdown",
   "metadata": {},
   "source": [
    "get building occupancies"
   ]
  },
  {
   "cell_type": "code",
   "execution_count": 3,
   "metadata": {},
   "outputs": [],
   "source": [
    "with open('../PickledData/UBEMdata/buildings.pickle', 'rb') as f:\n",
    "    oldVals = pickle.load(f)"
   ]
  },
  {
   "cell_type": "code",
   "execution_count": 4,
   "metadata": {},
   "outputs": [],
   "source": [
    "with open('../PickledData/UBEMdata/SDLBuildings.pickle', 'rb') as f:\n",
    "    SDLBuildings = pickle.load(f)"
   ]
  },
  {
   "cell_type": "code",
   "execution_count": 5,
   "metadata": {},
   "outputs": [],
   "source": [
    "plts = ['light', 'eqp', 'dhw', 'het']"
   ]
  },
  {
   "cell_type": "code",
   "execution_count": 6,
   "metadata": {},
   "outputs": [],
   "source": [
    "schedUsetoSDLUse = {}\n",
    "schedUsetoSDLUse['RetS'] = 'RETAIL'\n",
    "schedUsetoSDLUse['Mall'] = 'MALL'\n",
    "schedUsetoSDLUse['Gara'] = 'GARAGE'\n",
    "schedUsetoSDLUse['OffM'] = 'OFFICE'\n",
    "schedUsetoSDLUse['OffL'] = 'OFFICE'\n",
    "schedUsetoSDLUse['ReSd'] = 'RESTRNT'\n",
    "schedUsetoSDLUse['AppM'] = 'RESIDENT'\n",
    "schedUsetoSDLUse['HotL'] = 'HOTEL'\n",
    "schedUsetoSDLUse['HotS'] = 'HOTEL'"
   ]
  },
  {
   "cell_type": "code",
   "execution_count": 7,
   "metadata": {},
   "outputs": [
    {
     "name": "stdout",
     "output_type": "stream",
     "text": [
      "['0501258000', '0501395000', '0501370000', '0501312000', '0501301000', '0501315000', '0501390000']\n"
     ]
    }
   ],
   "source": [
    "problemBees = []\n",
    "for j,b in enumerate(oldVals.keys()):\n",
    "    usesSet = set([oldVals[b]['zones'][z]['use'] for z in oldVals[b]['zones']])\n",
    "    for use in usesSet:\n",
    "        for j,p in enumerate(plts):\n",
    "            kPrime = p+'Schedules'\n",
    "            try:\n",
    "                k = [k for k in oldVals[b][kPrime].keys() if use in k][0]\n",
    "            except:\n",
    "                pass\n",
    "        try:\n",
    "            SDLBuildings[b][schedUsetoSDLUse[use]]['occupancy24']\n",
    "        except:\n",
    "            problemBees.append(b)\n",
    "print problemBees"
   ]
  },
  {
   "cell_type": "code",
   "execution_count": null,
   "metadata": {},
   "outputs": [],
   "source": []
  },
  {
   "cell_type": "code",
   "execution_count": 8,
   "metadata": {},
   "outputs": [],
   "source": [
    "# delete the problem buildings\n",
    "for bID in set(problemBees):\n",
    "    del oldVals[bID]"
   ]
  },
  {
   "cell_type": "code",
   "execution_count": 9,
   "metadata": {},
   "outputs": [
    {
     "name": "stdout",
     "output_type": "stream",
     "text": [
      "There are 195 single use buildings\n"
     ]
    }
   ],
   "source": [
    "multiUses = []\n",
    "single = 0\n",
    "singleUses = []\n",
    "for j,b in enumerate(oldVals.keys()):\n",
    "    usesSet = set([oldVals[b]['zones'][z]['use'] for z in oldVals[b]['zones']])\n",
    "    if len(usesSet)==1:\n",
    "        single+=1\n",
    "        singleUses.append( oldVals[b]['zones'][z]['use'] )\n",
    "        \n",
    "    else:\n",
    "        multiUses.append([use for use in usesSet])\n",
    "            \n",
    "print 'There are', single, 'single use buildings'"
   ]
  },
  {
   "cell_type": "code",
   "execution_count": 10,
   "metadata": {},
   "outputs": [],
   "source": [
    "# for zU in set(singleUses):\n",
    "#     print 'There are', len([x for x in singleUses if x==zU]), zU, 'buildings'\n",
    "# #print multiUses\n",
    "# unique_data = [list(x) for x in set(tuple(x) for x in multiUses)]\n",
    "# #print unique_data\n",
    "# for u in unique_data:\n",
    "#     print u\n",
    "#     print len([x for x in multiUses if x==u])"
   ]
  },
  {
   "cell_type": "code",
   "execution_count": 11,
   "metadata": {},
   "outputs": [],
   "source": [
    "def scenario_1(oldSchedule, oldOccupancy, newOccupancy):\n",
    "    newSchedule = np.zeros(np.shape(oldSchedule))\n",
    "    for oi in range(len(newSchedule)):\n",
    "        if oldOccupancy[oi]>0:\n",
    "            if np.max(newOccupancy)>0:\n",
    "                newSchedule[oi] = np.min(oldSchedule) + (oldSchedule[oi]-np.min(oldSchedule)) \\\n",
    "                *((newOccupancy[oi]/np.max(newOccupancy))/(oldOccupancy[oi]/np.max(oldOccupancy)))\n",
    "            else:\n",
    "                newSchedule[oi] = np.min(oldSchedule)\n",
    "        else:\n",
    "            newSchedule[oi] = np.min(oldSchedule)\n",
    "        # if there are less people dont go above reference\n",
    "        if oldOccupancy[oi]>=newOccupancy[oi]:\n",
    "            if newSchedule[oi]>oldSchedule[oi]:\n",
    "                newSchedule[oi] = oldSchedule[oi]\n",
    "        # if there are more people dont go below reference\n",
    "        if newOccupancy[oi]>oldOccupancy[oi]:\n",
    "            if newSchedule[oi]<oldSchedule[oi]:\n",
    "                newSchedule[oi] = oldSchedule[oi]\n",
    "            # new can only scale above ref in proportion\n",
    "            if newSchedule[oi]>oldSchedule[oi]*(newOccupancy[oi]/oldOccupancy[oi]):\n",
    "                newSchedule[oi] = oldSchedule[oi]*(newOccupancy[oi]/oldOccupancy[oi])\n",
    "            # limit the load so that it cannot be hogher unless people higher\n",
    "            if np.max(oldOccupancy)>=np.max(newOccupancy):\n",
    "                if newSchedule[oi]>np.max(oldSchedule):\n",
    "                    newSchedule[oi] = np.max(oldSchedule)\n",
    "        if np.isnan(newSchedule[oi]):\n",
    "            print 'uh oh'\n",
    "    return newSchedule\n",
    "\n",
    "def scenario_2(oldSchedule, oldOccupancy, newOccupancy):\n",
    "    newSchedule = np.zeros(np.shape(oldSchedule))\n",
    "    for oi in range(len(newSchedule)):\n",
    "        if oldOccupancy[oi]>0:\n",
    "            if np.max(newOccupancy)>0:\n",
    "                newSchedule[oi] = np.min(oldSchedule)+(oldSchedule[oi]-np.min(oldSchedule)) \\\n",
    "                *(newOccupancy[oi]/oldOccupancy[oi])\n",
    "            else:\n",
    "                newSchedule[oi] = np.min(oldSchedule)\n",
    "            if np.max(oldOccupancy)>=np.max(newOccupancy):\n",
    "                if newSchedule[oi]>np.max(oldSchedule):\n",
    "                    newSchedule[oi] = np.max(oldSchedule)\n",
    "        else:\n",
    "            newSchedule[oi] = np.min(oldSchedule)\n",
    "        if np.isnan(newSchedule[oi]):\n",
    "            print 'uh oh'\n",
    "    return newSchedule"
   ]
  },
  {
   "cell_type": "code",
   "execution_count": 12,
   "metadata": {},
   "outputs": [
    {
     "name": "stderr",
     "output_type": "stream",
     "text": [
      "/usr/local/lib/python2.7/dist-packages/ipykernel_launcher.py:20: RuntimeWarning: divide by zero encountered in double_scalars\n",
      "/usr/local/lib/python2.7/dist-packages/ipykernel_launcher.py:20: RuntimeWarning: invalid value encountered in double_scalars\n"
     ]
    }
   ],
   "source": [
    "# for each building and use change the schedules\n",
    "predictedSce1 = {}\n",
    "predictedSce2 = {}\n",
    "for j,b in enumerate(oldVals.keys()):\n",
    "    hrs = np.arange(0,24)\n",
    "    usesSet = set([oldVals[b]['zones'][z]['use'] for z in oldVals[b]['zones']])\n",
    "    predictedSce1[b] = {}\n",
    "    predictedSce2[b] = {}\n",
    "    for use in usesSet:\n",
    "        predictedSce1[b][use] = {}\n",
    "        predictedSce2[b][use] = {}\n",
    "        for jay,p in enumerate(plts):\n",
    "            kPrime = p+'Schedules'\n",
    "            try:\n",
    "                k = [k for k in oldVals[b][kPrime].keys() if use in k][0]\n",
    "                hourly = oldVals[b][p][oldVals[b][kPrime][k]]\n",
    "            except:\n",
    "                pass\n",
    "        newOccUse = SDLBuildings[b][schedUsetoSDLUse[use]]['occupancy24']\n",
    "        \n",
    "        predictedSce1[b][use]['occupancy'] = newOccUse\n",
    "        predictedSce2[b][use]['occupancy'] = newOccUse\n",
    "        total_occ = np.zeros((24))\n",
    "        for z in oldVals[b]['zones'].values():\n",
    "            if use in z['people']:\n",
    "                total_occ += np.asarray( oldVals[b]['occupancy'][oldVals[b]['peopleSchedules'][z['people']]] ) \\\n",
    "                            *z['area']*z['PCA']\n",
    "        oldOccUse = np.round(total_occ)\n",
    "        \n",
    "        for jay,p in enumerate(plts):\n",
    "            kPrime = p+'Schedules'\n",
    "            try:\n",
    "                k = [k for k in oldVals[b][kPrime].keys() if use in k][0]\n",
    "                oldSchedule = oldVals[b][p][oldVals[b][kPrime][k]]\n",
    "                if p in ['light', 'eqp', 'dhw']:\n",
    "                    minVal = min(oldSchedule)\n",
    "                    \n",
    "                    newSchedule1 = scenario_1(oldSchedule, oldOccUse, newOccUse)\n",
    "\n",
    "                    newSchedule2 = scenario_2(oldSchedule, oldOccUse, newOccUse)\n",
    "\n",
    "                    predictedSce1[b][use][p] = newSchedule1\n",
    "                    predictedSce2[b][use][p] = newSchedule2             \n",
    "\n",
    "            except:\n",
    "                pass"
   ]
  },
  {
   "cell_type": "code",
   "execution_count": null,
   "metadata": {},
   "outputs": [],
   "source": []
  },
  {
   "cell_type": "code",
   "execution_count": 13,
   "metadata": {},
   "outputs": [
    {
     "name": "stdout",
     "output_type": "stream",
     "text": [
      "325\n"
     ]
    }
   ],
   "source": [
    "fileList = glob.glob('../Full_idf_files/*_0.idf')\n",
    "print len(fileList)"
   ]
  },
  {
   "cell_type": "code",
   "execution_count": 14,
   "metadata": {},
   "outputs": [],
   "source": [
    "# delete the files from list with problems\n",
    "fileList = [file1 for file1 in fileList if not any(substring in file1 for substring in set(problemBees))]"
   ]
  },
  {
   "cell_type": "code",
   "execution_count": 15,
   "metadata": {},
   "outputs": [
    {
     "name": "stdout",
     "output_type": "stream",
     "text": [
      "318\n"
     ]
    }
   ],
   "source": [
    "print len(fileList)"
   ]
  },
  {
   "cell_type": "code",
   "execution_count": 16,
   "metadata": {},
   "outputs": [
    {
     "name": "stdout",
     "output_type": "stream",
     "text": [
      "954\n"
     ]
    }
   ],
   "source": [
    "# remove any old files\n",
    "listFile=glob.glob('../Idf_generated_files/All_buildings_standard_efficiency/*.idf')\n",
    "print len(listFile)\n",
    "for file1 in listFile:\n",
    "    os.remove(file1)"
   ]
  },
  {
   "cell_type": "code",
   "execution_count": 17,
   "metadata": {},
   "outputs": [],
   "source": [
    "for f in fileList:\n",
    "    newName = '../Idf_generated_files/All_buildings_standard_efficiency/'\\\n",
    "    +f.split('Full_idf_files/')[1].split('_')[0]+'_control.idf'\n",
    "    copyfile(f, newName)\n",
    "    newName = '../Idf_generated_files/All_buildings_standard_efficiency/'\\\n",
    "    +f.split('Full_idf_files/')[1].split('_')[0]+'_experiment1.idf'\n",
    "    copyfile(f, newName)\n",
    "    newName = '../Idf_generated_files/All_buildings_standard_efficiency/'\\\n",
    "    +f.split('Full_idf_files/')[1].split('_')[0]+'_experiment2.idf'\n",
    "    copyfile(f, newName)"
   ]
  },
  {
   "cell_type": "code",
   "execution_count": 18,
   "metadata": {
    "scrolled": false
   },
   "outputs": [
    {
     "name": "stdout",
     "output_type": "stream",
     "text": [
      "325\n",
      "318\n",
      "318\n",
      "318\n"
     ]
    }
   ],
   "source": [
    "print len(glob.glob('../Full_idf_files/*_0.idf'))\n",
    "print len(glob.glob('../Idf_generated_files/All_buildings_standard_efficiency/*_control.idf'))\n",
    "print len(glob.glob('../Idf_generated_files/All_buildings_standard_efficiency/*_experiment1.idf'))\n",
    "print len(glob.glob('../Idf_generated_files/All_buildings_standard_efficiency/*_experiment2.idf'))"
   ]
  },
  {
   "cell_type": "code",
   "execution_count": 19,
   "metadata": {},
   "outputs": [],
   "source": [
    "# This information is contained within the header of the Boston EPW file\n",
    "# typical winter week Jan 27 to Feb 2\n",
    "# typical spring week Mar 29 to Apr 4\n",
    "# typical summer week Jul 27 to Aug 2\n",
    "# typcial autumn week Oct 20 to Oct 26\n",
    "# take the middle day in the typical week\n",
    "beginMonth = [1,4,7,10]\n",
    "endMonth = [1,4,7,10]\n",
    "beginDayMonth = [30,1,30,23]"
   ]
  },
  {
   "cell_type": "code",
   "execution_count": 20,
   "metadata": {},
   "outputs": [],
   "source": [
    "def change_runtime(idfContents, beginMonth, endMonth, beginDayMonth):\n",
    "    runList = idfContents.idfobjects['RUNPERIOD'] \n",
    "    for j in range(3):\n",
    "        idfContents.copyidfobject(runList[0])   \n",
    "    runList = idf1.idfobjects['RUNPERIOD'] \n",
    "    for k,e in enumerate(runList):\n",
    "        e.Name = e.Name+'_'+str(k)\n",
    "        e.Begin_Month = beginMonth[k]\n",
    "        e.Begin_Day_of_Month = beginDayMonth[k]\n",
    "        e.End_Month = endMonth[k]\n",
    "        e.End_Day_of_Month = beginDayMonth[k]\n",
    "        e.Day_of_Week_for_Start_Day = 'Monday'\n",
    "    return idfContents"
   ]
  },
  {
   "cell_type": "code",
   "execution_count": 21,
   "metadata": {},
   "outputs": [],
   "source": [
    "# change runtime\n",
    "fileList2 = glob.glob('../Idf_generated_files/All_buildings_standard_efficiency/*_control.idf')\n",
    "for f in fileList2:\n",
    "    idf1 = IDF(f)\n",
    "    idf1 = change_runtime(idf1, beginMonth, endMonth, beginDayMonth)\n",
    "    idf1.save()\n",
    "fileList2 = glob.glob('../Idf_generated_files/All_buildings_standard_efficiency/*_experiment1.idf')\n",
    "for f in fileList2:\n",
    "    idf1 = IDF(f)\n",
    "    idf1 = change_runtime(idf1, beginMonth, endMonth, beginDayMonth)\n",
    "    idf1.save()\n",
    "fileList2 = glob.glob('../Idf_generated_files/All_buildings_standard_efficiency/*_experiment2.idf')\n",
    "for f in fileList2:\n",
    "    idf1 = IDF(f)\n",
    "    idf1 = change_runtime(idf1, beginMonth, endMonth, beginDayMonth)\n",
    "    idf1.save()"
   ]
  },
  {
   "cell_type": "code",
   "execution_count": 22,
   "metadata": {},
   "outputs": [
    {
     "name": "stdout",
     "output_type": "stream",
     "text": [
      "runperiod changed\n"
     ]
    }
   ],
   "source": [
    "print 'runperiod changed'"
   ]
  },
  {
   "cell_type": "code",
   "execution_count": 23,
   "metadata": {},
   "outputs": [],
   "source": [
    "def get_schedule_name_and_value(idf1, searchString):\n",
    "    schedules = idf1.idfobjects['SCHEDULE:YEAR']\n",
    "    sYToD = {}\n",
    "    for s in schedules:\n",
    "        if searchString in s.Name:\n",
    "            sYToD[s.Name] = s.ScheduleWeek_Name_1\n",
    "    \n",
    "    schedules = idf1.idfobjects['SCHEDULE:WEEK:DAILY']\n",
    "    for sh in sYToD:\n",
    "        name = sYToD[sh]\n",
    "        for s in schedules:\n",
    "            if name == s.Name:\n",
    "                sYToD[sh] = s.Monday_ScheduleDay_Name\n",
    "    \n",
    "    return sYToD"
   ]
  },
  {
   "cell_type": "code",
   "execution_count": 24,
   "metadata": {},
   "outputs": [],
   "source": [
    "fileList2 = glob.glob('../Idf_generated_files/All_buildings_standard_efficiency/*_experiment1.idf')\n",
    "for f in fileList2:\n",
    "    idf1 = IDF(f)\n",
    "    buildingID = f.split('standard_efficiency/')[1][:-4].split('_')[0]\n",
    "\n",
    "    zoneNames = [ob.Name for ob in idf1.idfobjects['ZONE']]\n",
    "    zoneObjects = idf1.idfobjects['ZONE']\n",
    "    people = idf1.idfobjects['PEOPLE']\n",
    "    lights = idf1.idfobjects['LIGHTS']\n",
    "    equipment = idf1.idfobjects['ELECTRICEQUIPMENT']\n",
    "    heat = idf1.idfobjects['ZONEHVAC:IDEALLOADSAIRSYSTEM']\n",
    "    DHW = idf1.idfobjects['WATERUSE:EQUIPMENT']\n",
    "    zoneUses = []\n",
    "    zoneSchedules = []\n",
    "\n",
    "    for j,z in enumerate(zoneNames):\n",
    "        testing = people[j].Number_of_People_Schedule_Name.split('B_')[1][0:4]\n",
    "        if testing not in zoneUses:\n",
    "            zoneUses.append(testing)\n",
    "            zoneSchedules.append(people[j].Number_of_People_Schedule_Name)\n",
    "    ################## sort out to change area per person\n",
    "\n",
    "    sYToD = get_schedule_name_and_value(idf1, 'Occ')\n",
    "\n",
    "    for jjj,zU in enumerate(zoneUses):\n",
    "        # each zone with the same use is assigned the same occupancy\n",
    "        newS = predictedSce1[buildingID][zU]['occupancy']/max( oldVals[buildingID][zU] )\n",
    "\n",
    "        if any(newS>1):\n",
    "            multiplier = np.max(newS)\n",
    "            # reset newS\n",
    "            newS = newS/multiplier\n",
    "            #loop through zones\n",
    "            for zoneIterator, peepShed in enumerate(people):\n",
    "                if peepShed.Number_of_People_Schedule_Name.split('B_')[1][0:4]==zU:\n",
    "                    # change the Watts per zone floor area\n",
    "                    people[zoneIterator].People_per_Zone_Floor_Area = \\\n",
    "                    people[zoneIterator].People_per_Zone_Floor_Area*multiplier\n",
    "        \n",
    "        #get schedule Name\n",
    "        schName = zoneSchedules[jjj]\n",
    "        schName = sYToD[schName]\n",
    "        #print schName\n",
    "        # get that sched\n",
    "        schedules = idf1.idfobjects['SCHEDULE:DAY:HOURLY']\n",
    "        for s in schedules:\n",
    "            if s.Name==schName:\n",
    "                # change the schedule\n",
    "                for kkk in range(24):\n",
    "                    s['obj'][3+kkk]=round(newS[kkk],3)\n",
    "\n",
    "    ################# LIGHT\n",
    "    \n",
    "    sYToDL = get_schedule_name_and_value(idf1, 'Lgt')\n",
    "\n",
    "    for jjj,zU in enumerate(zoneUses):\n",
    "        newS = predictedSce1[buildingID][zU]['light']\n",
    "        if any(newS>1):\n",
    "            multiplier = np.max(newS)\n",
    "            # reset newS\n",
    "            newS = newS/multiplier\n",
    "            #loop through zones\n",
    "            for zoneIterator, peepShed in enumerate(people):\n",
    "                if peepShed.Number_of_People_Schedule_Name.split('B_')[1][0:4]==zU:\n",
    "                    # change the Watts per zone floor area\n",
    "                    lights[zoneIterator].Watts_per_Zone_Floor_Area = \\\n",
    "                    lights[zoneIterator].Watts_per_Zone_Floor_Area*multiplier\n",
    "        \n",
    "        #get schedule Name\n",
    "        schName = [x for x in sYToDL.keys() if zU in x][0]\n",
    "        schName = sYToDL[schName]\n",
    "        # get that sched\n",
    "        schedules = idf1.idfobjects['SCHEDULE:DAY:HOURLY']\n",
    "        for s in schedules:\n",
    "            if s.Name==schName:\n",
    "                #print s\n",
    "                # change the schedule\n",
    "                for kkk in range(24):\n",
    "                    s['obj'][3+kkk]=round(newS[kkk],3)\n",
    "                #print s\n",
    "\n",
    "    ################## EQUIPMENT\n",
    "    \n",
    "    sYToDEqp = get_schedule_name_and_value(idf1, 'Eqp')\n",
    "\n",
    "    for jjj,zU in enumerate(zoneUses):\n",
    "        #get old and new eqp\n",
    "        newS = predictedSce1[buildingID][zU]['eqp']\n",
    "        if any(newS>1):\n",
    "            multiplier = np.max(newS)\n",
    "            # reset newS\n",
    "            newS = newS/multiplier\n",
    "            #loop through zones\n",
    "            for zoneIterator, peepShed in enumerate(people):\n",
    "                if peepShed.Number_of_People_Schedule_Name.split('B_')[1][0:4]==zU:\n",
    "                    # change the Watts per zone floor area\n",
    "                    equipment[zoneIterator].Watts_per_Zone_Floor_Area = \\\n",
    "                    equipment[zoneIterator].Watts_per_Zone_Floor_Area*multiplier\n",
    "                    \n",
    "        #get schedule Name\n",
    "        schName = [x for x in sYToDEqp.keys() if zU in x][0]\n",
    "        schName = sYToDEqp[schName]\n",
    "        # get that sched\n",
    "        schedules = idf1.idfobjects['SCHEDULE:DAY:HOURLY']\n",
    "        for s in schedules:\n",
    "            if s.Name==schName:\n",
    "                # change the schedule\n",
    "                for kkk in range(24):\n",
    "                    s['obj'][3+kkk]=round(newS[kkk],3)\n",
    "\n",
    "    ######################### DHW\n",
    "    \n",
    "    sYToDDhw = get_schedule_name_and_value(idf1, 'DHW')\n",
    "\n",
    "    for jjj,zU in enumerate(zoneUses):\n",
    "        #get old and new dhw\n",
    "        try:\n",
    "            newS = predictedSce1[buildingID][zU]['dhw']\n",
    "            if any(newS>1):\n",
    "                multiplier = np.max(newS)\n",
    "                # reset newS\n",
    "                newS = newS/multiplier # now loop through zones\n",
    "                for zoneIterator, peepShed in enumerate(people):\n",
    "                    if peepShed.Number_of_People_Schedule_Name.split('B_')[1][0:4]==zU:\n",
    "                        # change the Watts per zone floor area\n",
    "                        DHW[zoneIterator].Peak_Flow_Rate = \\\n",
    "                        DHW[zoneIterator].Peak_Flow_Rate*multiplier    \n",
    "            \n",
    "            #get schedule Name\n",
    "            schName = [x for x in sYToDDhw.keys() if zU in x][0]\n",
    "            schName = sYToDDhw[schName]\n",
    "            # get that sched\n",
    "            schedules = idf1.idfobjects['SCHEDULE:DAY:HOURLY']\n",
    "            for s in schedules:\n",
    "                if s.Name==schName:\n",
    "                    # change the schedule\n",
    "                    for kkk in range(24):\n",
    "                        s['obj'][3+kkk]=round(newS[kkk],3)\n",
    "        except:\n",
    "            pass\n",
    "    idf1.save()\n"
   ]
  },
  {
   "cell_type": "code",
   "execution_count": null,
   "metadata": {},
   "outputs": [],
   "source": []
  },
  {
   "cell_type": "code",
   "execution_count": 25,
   "metadata": {},
   "outputs": [],
   "source": [
    "fileList2 = glob.glob('../Idf_generated_files/All_buildings_standard_efficiency/*_experiment2.idf')\n",
    "for f in fileList2:\n",
    "    idf1 = IDF(f)\n",
    "    buildingID = f.split('standard_efficiency/')[1][:-4].split('_')[0]\n",
    "\n",
    "    zoneNames = [ob.Name for ob in idf1.idfobjects['ZONE']]\n",
    "    zoneObjects = idf1.idfobjects['ZONE']\n",
    "    people = idf1.idfobjects['PEOPLE']\n",
    "    lights = idf1.idfobjects['LIGHTS']\n",
    "    equipment = idf1.idfobjects['ELECTRICEQUIPMENT']\n",
    "    heat = idf1.idfobjects['ZONEHVAC:IDEALLOADSAIRSYSTEM']\n",
    "    DHW = idf1.idfobjects['WATERUSE:EQUIPMENT']\n",
    "    zoneUses = []\n",
    "    zoneSchedules = []\n",
    "\n",
    "    for j,z in enumerate(zoneNames):\n",
    "        testing = people[j].Number_of_People_Schedule_Name.split('B_')[1][0:4]\n",
    "        if testing not in zoneUses:\n",
    "            zoneUses.append(testing)\n",
    "            zoneSchedules.append(people[j].Number_of_People_Schedule_Name)\n",
    "    ################## sort out to change area per person\n",
    "\n",
    "    sYToD = get_schedule_name_and_value(idf1, 'Occ')\n",
    "\n",
    "    for jjj,zU in enumerate(zoneUses):\n",
    "        #get old and new occupancy\n",
    "        newS = predictedSce2[buildingID][zU]['occupancy']/max( oldVals[buildingID][zU] )\n",
    "        if any(newS>1):\n",
    "            multiplier = np.max(newS)\n",
    "            # reset newS\n",
    "            newS = newS/multiplier\n",
    "            #loop through zones\n",
    "            for zoneIterator, peepShed in enumerate(people):\n",
    "                if peepShed.Number_of_People_Schedule_Name.split('B_')[1][0:4]==zU:\n",
    "                    # change the Watts per zone floor area\n",
    "                    people[zoneIterator].People_per_Zone_Floor_Area = \\\n",
    "                    people[zoneIterator].People_per_Zone_Floor_Area*multiplier\n",
    "        #get schedule Name\n",
    "        schName = zoneSchedules[jjj]\n",
    "        schName = sYToD[schName]\n",
    "        #print schName\n",
    "        # get that sched\n",
    "        schedules = idf1.idfobjects['SCHEDULE:DAY:HOURLY']\n",
    "        for s in schedules:\n",
    "            if s.Name==schName:\n",
    "                # change the schedule\n",
    "                #print s['obj'][3:]\n",
    "                for kkk in range(24):\n",
    "                    s['obj'][3+kkk]=round(newS[kkk],3)\n",
    "                #print s['obj'][3:]\n",
    "\n",
    "    ################# LIGHT\n",
    "\n",
    "    sYToDL = get_schedule_name_and_value(idf1, 'Lgt')\n",
    "\n",
    "    for jjj,zU in enumerate(zoneUses):\n",
    "        newS = predictedSce2[buildingID][zU]['light']\n",
    "        if any(newS>1):\n",
    "            multiplier = np.max(newS)\n",
    "            # reset newS\n",
    "            newS = newS/multiplier\n",
    "            #loop through zones\n",
    "            for zoneIterator, peepShed in enumerate(people):\n",
    "                if peepShed.Number_of_People_Schedule_Name.split('B_')[1][0:4]==zU:\n",
    "                    # change the Watts per zone floor area\n",
    "                    lights[zoneIterator].Watts_per_Zone_Floor_Area = \\\n",
    "                    lights[zoneIterator].Watts_per_Zone_Floor_Area*multiplier\n",
    "        \n",
    "        \n",
    "        #get schedule Name\n",
    "        schName = [x for x in sYToDL.keys() if zU in x][0]\n",
    "        schName = sYToDL[schName]\n",
    "        # get that sched\n",
    "        schedules = idf1.idfobjects['SCHEDULE:DAY:HOURLY']\n",
    "        for s in schedules:\n",
    "            if s.Name==schName:\n",
    "                #print s\n",
    "                # change the schedule\n",
    "                for kkk in range(24):\n",
    "                    s['obj'][3+kkk]=round(newS[kkk],3)\n",
    "                #print s\n",
    "\n",
    "    ################## EQUIPMENT\n",
    "\n",
    "    sYToDEqp = get_schedule_name_and_value(idf1, 'Eqp')\n",
    "\n",
    "    for jjj,zU in enumerate(zoneUses):\n",
    "        #get old and new eqp\n",
    "        newS = predictedSce2[buildingID][zU]['eqp']\n",
    "        if any(newS>1):\n",
    "            multiplier = np.max(newS)\n",
    "            # reset newS\n",
    "            newS = newS/multiplier\n",
    "            #loop through zones\n",
    "            for zoneIterator, peepShed in enumerate(people):\n",
    "                if peepShed.Number_of_People_Schedule_Name.split('B_')[1][0:4]==zU:\n",
    "                    # change the Watts per zone floor area\n",
    "                    equipment[zoneIterator].Watts_per_Zone_Floor_Area = \\\n",
    "                    equipment[zoneIterator].Watts_per_Zone_Floor_Area*multiplier\n",
    "        #print newS\n",
    "        schName = [x for x in sYToDEqp.keys() if zU in x][0]\n",
    "        schName = sYToDEqp[schName]\n",
    "        # get that sched\n",
    "        schedules = idf1.idfobjects['SCHEDULE:DAY:HOURLY']\n",
    "        for s in schedules:\n",
    "            if s.Name==schName:\n",
    "                # change the schedule\n",
    "                for kkk in range(24):\n",
    "                    s['obj'][3+kkk]=round(newS[kkk],3)\n",
    "\n",
    "\n",
    "    ######################### DHW\n",
    "\n",
    "    sYToDDhw = get_schedule_name_and_value(idf1, 'DHW')\n",
    "\n",
    "    for jjj,zU in enumerate(zoneUses):\n",
    "        #get old and new dhw\n",
    "        try:\n",
    "            newS = predictedSce2[buildingID][zU]['dhw']\n",
    "            if any(newS>1):\n",
    "                multiplier = np.max(newS)\n",
    "                # reset newS\n",
    "                newS = newS/multiplier # now loop through zones\n",
    "                for zoneIterator, peepShed in enumerate(people):\n",
    "                    if peepShed.Number_of_People_Schedule_Name.split('B_')[1][0:4]==zU:\n",
    "                        # change the Watts per zone floor area\n",
    "                        DHW[zoneIterator].Peak_Flow_Rate = \\\n",
    "                        DHW[zoneIterator].Peak_Flow_Rate*multiplier \n",
    "                        \n",
    "            #get schedule Name\n",
    "            schName = [x for x in sYToDDhw.keys() if zU in x][0]\n",
    "            schName = sYToDDhw[schName]\n",
    "            # get that sched\n",
    "            schedules = idf1.idfobjects['SCHEDULE:DAY:HOURLY']\n",
    "            for s in schedules:\n",
    "                if s.Name==schName:\n",
    "                    # change the schedule\n",
    "                    for kkk in range(24):\n",
    "                        s['obj'][3+kkk]=round(newS[kkk],3)\n",
    "        except:\n",
    "            pass\n",
    "\n",
    "    idf1.save()\n"
   ]
  },
  {
   "cell_type": "code",
   "execution_count": 27,
   "metadata": {
    "scrolled": true
   },
   "outputs": [
    {
     "name": "stdout",
     "output_type": "stream",
     "text": [
      "done\n"
     ]
    }
   ],
   "source": [
    "print 'done'"
   ]
  },
  {
   "cell_type": "code",
   "execution_count": null,
   "metadata": {},
   "outputs": [],
   "source": []
  }
 ],
 "metadata": {
  "kernelspec": {
   "display_name": "Python 2",
   "language": "python",
   "name": "python2"
  },
  "language_info": {
   "codemirror_mode": {
    "name": "ipython",
    "version": 2
   },
   "file_extension": ".py",
   "mimetype": "text/x-python",
   "name": "python",
   "nbconvert_exporter": "python",
   "pygments_lexer": "ipython2",
   "version": "2.7.12"
  }
 },
 "nbformat": 4,
 "nbformat_minor": 1
}
