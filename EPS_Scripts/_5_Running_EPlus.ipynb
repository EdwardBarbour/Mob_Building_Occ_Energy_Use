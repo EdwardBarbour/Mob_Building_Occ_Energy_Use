{
 "cells": [
  {
   "cell_type": "markdown",
   "metadata": {},
   "source": [
    "In order for this to run you need to install energyPlus in the DEFAULT location - I'm not sure if this is a requirement for eppy, but I couldn't find any other way <br>\n",
    "To install on linux I simply uploaded version the\".sh\" file to my home dir <br>\n",
    "then changed the file permissions so it could run, i.e. command: \"chmod +x *filename*\"  <br>\n",
    "Then ran the installation .sh file "
   ]
  },
  {
   "cell_type": "code",
   "execution_count": 1,
   "metadata": {},
   "outputs": [],
   "source": [
    "import numpy as np\n",
    "import glob\n",
    "import os\n",
    "import cPickle as pickle\n",
    "from collections import defaultdict\n",
    "import sys\n",
    "import numpy as np\n",
    "import shutil\n",
    "from shutil import copyfile\n",
    "\n",
    "# eppy paramters\n",
    "from eppy import modeleditor\n",
    "from eppy.modeleditor import IDF"
   ]
  },
  {
   "cell_type": "code",
   "execution_count": 2,
   "metadata": {},
   "outputs": [],
   "source": [
    "# set the paths to your own idd files and the weather file (epwFile)\n",
    "iddfile = './Energy+.idd'\n",
    "IDF.setiddname(iddfile)\n",
    "# I found the weather file path had to be absolute\n",
    "epwFile = './BOS.epw'#'whatever the path to BOS.epw'"
   ]
  },
  {
   "cell_type": "code",
   "execution_count": 3,
   "metadata": {},
   "outputs": [],
   "source": [
    "# Depending on what simulations are being run, comment/uncomment an inDir-outDir combo\n",
    "\n",
    "inDir = 'All_buildings_standard_efficiency'\n",
    "outDir = 'Standard_efficiency'\n",
    "\n",
    "# inDir = 'Apartment_insulation_increase'\n",
    "# outDir ='Ins_upgrade'\n",
    "\n",
    "# inDir = 'Commercial_equipment_efficiency'\n",
    "# outDir = 'Eqp_upgrade'\n",
    "\n",
    "listFiles = glob.glob('../Idf_generated_files/'+inDir+'/*.idf')"
   ]
  },
  {
   "cell_type": "code",
   "execution_count": 4,
   "metadata": {},
   "outputs": [
    {
     "name": "stdout",
     "output_type": "stream",
     "text": [
      "About to run 954 simulations\n"
     ]
    }
   ],
   "source": [
    "print 'About to run', len(listFiles), 'simulations'"
   ]
  },
  {
   "cell_type": "code",
   "execution_count": 5,
   "metadata": {},
   "outputs": [
    {
     "name": "stdout",
     "output_type": "stream",
     "text": [
      "100\n",
      "200\n",
      "300\n",
      "400\n",
      "500\n",
      "600\n",
      "700\n",
      "800\n",
      "900\n"
     ]
    }
   ],
   "source": [
    "problemBees = []\n",
    "counter = 0\n",
    "cwdPATH = os.getcwd()\n",
    "for f in listFiles:\n",
    "    counter+=1\n",
    "    if counter%100==0:\n",
    "        print counter\n",
    "    idf1 = IDF(f,epwFile)\n",
    "    outName = f.split(inDir+'/')[1].split('.')[0]\n",
    "    try:\n",
    "        idf1.run(output_directory=u'../EPS_Results/'+outDir, output_prefix=outName, readvars=True)\n",
    "    except:\n",
    "        problemBees.append(f)\n",
    "        # if the command doesnt work it stays in the temp dir, therefore change it back using ABSOLUTE path\n",
    "        os.chdir(cwdPATH)\n",
    "    dontDelete=glob.glob('../EPS_Results/'+outDir+'/*out.csv')\n",
    "    gitFiles=glob.glob('../EPS_Results/'+outDir+'/.gitignore')\n",
    "    listDelete = list(set(glob.glob('../EPS_Results/'+outDir+'/*'))-set(dontDelete)-set(gitFiles))\n",
    "    for file2 in listDelete:\n",
    "        os.remove(file2)"
   ]
  },
  {
   "cell_type": "code",
   "execution_count": 16,
   "metadata": {},
   "outputs": [],
   "source": [
    "# now rename all the files so as not to include out\n",
    "outFileList = glob.glob('../EPS_Results/'+outDir+'/*.csv')"
   ]
  },
  {
   "cell_type": "code",
   "execution_count": 7,
   "metadata": {},
   "outputs": [],
   "source": [
    "for f in outFileList:\n",
    "    newName = f.split(outDir+'/')[1].split('out.')[0]\n",
    "    newName = '../EPS_Results/'+outDir+'/'+newName+'.csv'\n",
    "    os.rename(f,newName)"
   ]
  },
  {
   "cell_type": "code",
   "execution_count": 8,
   "metadata": {},
   "outputs": [],
   "source": [
    "## save the problem building ids\n",
    "with open('../Intermediate_Results/problemBuildingsList.pickle', 'wb') as handle:\n",
    "    pickle.dump(problemBees, handle, pickle.HIGHEST_PROTOCOL)"
   ]
  },
  {
   "cell_type": "code",
   "execution_count": 17,
   "metadata": {},
   "outputs": [
    {
     "data": {
      "text/plain": [
       "['../Idf_generated_files/All_buildings_standard_efficiency/0501354000_experiment1.idf']"
      ]
     },
     "execution_count": 17,
     "metadata": {},
     "output_type": "execute_result"
    }
   ],
   "source": [
    "problemBees"
   ]
  },
  {
   "cell_type": "code",
   "execution_count": 24,
   "metadata": {},
   "outputs": [
    {
     "data": {
      "text/plain": [
       "318"
      ]
     },
     "execution_count": 24,
     "metadata": {},
     "output_type": "execute_result"
    }
   ],
   "source": [
    "len(glob.glob('../EPS_Results/Standard_efficiency/*experiment1.csv'))"
   ]
  },
  {
   "cell_type": "code",
   "execution_count": null,
   "metadata": {},
   "outputs": [],
   "source": []
  },
  {
   "cell_type": "code",
   "execution_count": 9,
   "metadata": {},
   "outputs": [],
   "source": [
    "# os.chdir(cwdPATH)"
   ]
  },
  {
   "cell_type": "code",
   "execution_count": 18,
   "metadata": {},
   "outputs": [],
   "source": [
    "# name = '../Idf_generated_files/All_buildings_standard_efficiency/0501354000_experiment1.idf'\n",
    "# outName = name.split(inDir+'/')[1].split('.')[0]\n",
    "# idf1 = IDF(name,epwFile)\n",
    "# idf1.run(output_directory=u'../testings', output_prefix=outName, readvars=True)\n",
    "\n",
    "# os.chdir(cwdPATH)"
   ]
  },
  {
   "cell_type": "code",
   "execution_count": 11,
   "metadata": {},
   "outputs": [],
   "source": [
    "# fileList = glob.glob('../Full_idf_files/*_0.idf')\n",
    "# print len(fileList)\n",
    "# for f in fileList:\n",
    "#     if '_0' not in f:\n",
    "#         print f"
   ]
  },
  {
   "cell_type": "code",
   "execution_count": 12,
   "metadata": {},
   "outputs": [],
   "source": [
    "# fileList[0]"
   ]
  },
  {
   "cell_type": "code",
   "execution_count": 13,
   "metadata": {},
   "outputs": [],
   "source": [
    "# idList = []\n",
    "# for f in problemBees:\n",
    "#     if 'control' in f:\n",
    "#         idList.append( f.split('efficiency/')[1].split('_')[0]+'_0.idf' )"
   ]
  },
  {
   "cell_type": "code",
   "execution_count": 14,
   "metadata": {},
   "outputs": [],
   "source": [
    "# len(idList)"
   ]
  },
  {
   "cell_type": "code",
   "execution_count": 15,
   "metadata": {},
   "outputs": [],
   "source": [
    "# ### go through problemBees and change heating/cooling setpoints\n",
    "\n",
    "# for idL in idList:\n",
    "#     count1, count2 = 0, 0\n",
    "#     print '../Full_idf_files/'+idL\n",
    "#     idf1 = IDF('../Full_idf_files/'+idL)\n",
    "#     schedules = idf1.idfobjects['SCHEDULE:COMPACT']\n",
    "#     for s in schedules:\n",
    "#         if 'Heating' in s.Name:\n",
    "#             count1+=1\n",
    "#             heatVal = np.float( s['obj'][6] )\n",
    "#             #print heatVal, s.Name\n",
    "#             coolSchedName = s.Name\n",
    "#             coolSchedName = coolSchedName.replace('Heating', 'Cooling')\n",
    "#             coolSched = [sch for sch in schedules if sch.Name==coolSchedName][0]\n",
    "#             coolVal = np.float( coolSched['obj'][6] )\n",
    "#             #print coolVal, coolSchedName\n",
    "#             # if heatVal greater than coolVal, switch the schedules\n",
    "#             if heatVal>coolVal:\n",
    "#                 count2+=1\n",
    "#                 dummySched = s['obj'][:]\n",
    "#                 for j in range(2,len(s['obj'])):\n",
    "#                     s['obj'][j] = coolSched['obj'][j]\n",
    "#                     coolSched['obj'][j] = dummySched[j]\n",
    "    \n",
    "#     print 'Building %s'%idL+' has %d'%count2+' problems out of %d'%count1                 \n",
    "#     idf1.save()"
   ]
  },
  {
   "cell_type": "code",
   "execution_count": null,
   "metadata": {},
   "outputs": [],
   "source": []
  },
  {
   "cell_type": "code",
   "execution_count": null,
   "metadata": {},
   "outputs": [],
   "source": []
  },
  {
   "cell_type": "code",
   "execution_count": null,
   "metadata": {},
   "outputs": [],
   "source": []
  },
  {
   "cell_type": "code",
   "execution_count": null,
   "metadata": {},
   "outputs": [],
   "source": []
  }
 ],
 "metadata": {
  "kernelspec": {
   "display_name": "Python 2",
   "language": "python",
   "name": "python2"
  },
  "language_info": {
   "codemirror_mode": {
    "name": "ipython",
    "version": 2
   },
   "file_extension": ".py",
   "mimetype": "text/x-python",
   "name": "python",
   "nbconvert_exporter": "python",
   "pygments_lexer": "ipython2",
   "version": "2.7.12"
  }
 },
 "nbformat": 4,
 "nbformat_minor": 2
}
