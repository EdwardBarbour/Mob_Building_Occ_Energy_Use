{
 "cells": [
  {
   "cell_type": "code",
   "execution_count": 1,
   "metadata": {},
   "outputs": [],
   "source": [
    "from collections import Counter as counter\n",
    "import matplotlib.pyplot as plt\n",
    "import csv\n",
    "import numpy as np\n",
    "import os\n",
    "import scipy\n",
    "import matplotlib.path as mplPath\n",
    "import random\n",
    "from matplotlib.ticker import NullFormatter, MaxNLocator\n",
    "from numpy import linspace\n",
    "import urllib2\n",
    "import json\n",
    "import unidecode\n",
    "import re\n",
    "import math\n",
    "import sys\n",
    "from six.moves import cPickle as pickle\n",
    "import glob"
   ]
  },
  {
   "cell_type": "markdown",
   "metadata": {},
   "source": [
    "FUNCTIONS"
   ]
  },
  {
   "cell_type": "code",
   "execution_count": 2,
   "metadata": {},
   "outputs": [],
   "source": [
    "def pointInsidePolygon(point, polygon):\n",
    "    X = [x[0] for x in polygon]\n",
    "    Y = [x[1] for x in polygon]\n",
    "    if point[0]>=min(X) and point[0]<=max(X) and \\\n",
    "       point[1]>=min(Y) and point[1]<=max(Y):\n",
    "        polygon = mplPath.Path(np.array(polygon))\n",
    "        return polygon.contains_point(point)\n",
    "    else:\n",
    "        return 0\n",
    "\n",
    "# Used to determine if a particular timestamp falls within a set of timeslots\n",
    "def inAllSlots(timeStamp, allSlots):\n",
    "    for slot in allSlots:\n",
    "        if (timeStamp-slot[0])*(timeStamp-slot[1])<=0:\n",
    "            return 1\n",
    "\n",
    "# Function to convert a list into a compound list by gouping every n elements\n",
    "def chunks(l, n):\n",
    "    n = max(1, n)\n",
    "    return [l[i:i + n] for i in range(0, len(l), n)]\n",
    "\n",
    "def allocateHours(buildingCategory):\n",
    "    if buildingCategory=='res':\n",
    "        return [[[0.0,24.0]]]*7\n",
    "    elif buildingCategory=='wo':\n",
    "        return [[[7.0,21.0]]]*7\n",
    "    elif buildingCategory=='i':\n",
    "        return [[[7.0, 17.0]]]*5+[[[0.0, 0.0]]]*2\n",
    "    elif buildingCategory=='None':\n",
    "        return [[[0.0, 0.0]]]*7\n",
    "    else:\n",
    "        print 'Unidentified building category'\n",
    "        print buildingCategory"
   ]
  },
  {
   "cell_type": "markdown",
   "metadata": {},
   "source": [
    "CONSTANTS"
   ]
  },
  {
   "cell_type": "code",
   "execution_count": 3,
   "metadata": {},
   "outputs": [],
   "source": [
    "tracts = glob.glob('../PickledData/TractStays/*.pickle')\n",
    "tracts = [t.split('Stays/')[1].strip('.pickle') for t in tracts]"
   ]
  },
  {
   "cell_type": "code",
   "execution_count": 4,
   "metadata": {},
   "outputs": [],
   "source": [
    "RESIDENTIAL_PCA = 40 # square meters\n",
    "UNKNOWN_LOCATIONS_PCA = 10\n",
    "\n",
    "tractBuildings = {}\n",
    "for t in tracts:\n",
    "    with open('../PickledData/TractBuildings/'+t+'.pickle', 'rb') as f:\n",
    "        tractBuildings[t] = pickle.load(f)\n",
    "\n",
    "tractPois = {}\n",
    "for t in tracts:\n",
    "    with open('../PickledData/TractPOIs/'+t+'.pickle', 'rb') as f:\n",
    "        tractPois[t] = pickle.load(f)\n"
   ]
  },
  {
   "cell_type": "markdown",
   "metadata": {},
   "source": [
    "The PCAs are only determined directly from the POIs where there was no information regarding use per floor type.\n",
    "When this inofrmation was available, PCAs were used for verification and to update the uses list if required.\n",
    "This required manual filtering"
   ]
  },
  {
   "cell_type": "code",
   "execution_count": 5,
   "metadata": {},
   "outputs": [
    {
     "name": "stdout",
     "output_type": "stream",
     "text": [
      "There are 0 POIs\n",
      "There are 0 matched POIs\n"
     ]
    }
   ],
   "source": [
    "incompletePois = []\n",
    "completePois = []\n",
    "# Iterate over POIs, find building for each\n",
    "total = 0\n",
    "successfulMatches = 0\n",
    "for tractIndex in range(len(tracts)):\n",
    "    tract = tracts[tractIndex]\n",
    "    pois = tractPois[tract]\n",
    "    buildings = tractBuildings[tract]\n",
    "    for poiIndex in range(len(pois)):\n",
    "        total+=1\n",
    "        poiId = pois.keys()[poiIndex]\n",
    "        try:\n",
    "            poiLocation = pois[poiId]['location']\n",
    "            for buildingIndex in range(len(buildings)):\n",
    "                buildingId = buildings.keys()[buildingIndex]\n",
    "                buildingOutline = buildings[buildingId]['geometry']\n",
    "                if pointInsidePolygon(poiLocation, buildingOutline):\n",
    "                    successfulMatches += 1\n",
    "                    completePois.append( [tract, poiId] )\n",
    "                    break\n",
    "        except:\n",
    "            incompletePois.append( [tract, poiId] )\n",
    "print 'There are', total, 'POIs'\n",
    "print 'There are', successfulMatches, 'matched POIs'"
   ]
  },
  {
   "cell_type": "code",
   "execution_count": 6,
   "metadata": {},
   "outputs": [],
   "source": [
    "#print incompletePois"
   ]
  },
  {
   "cell_type": "code",
   "execution_count": 7,
   "metadata": {},
   "outputs": [],
   "source": [
    "# incompletePois\n",
    "# del tractPois[incompletePois[0][0]][incompletePois[0][1]]"
   ]
  },
  {
   "cell_type": "markdown",
   "metadata": {},
   "source": [
    "assign POIs to buildings"
   ]
  },
  {
   "cell_type": "code",
   "execution_count": 8,
   "metadata": {},
   "outputs": [],
   "source": [
    "allPois = {}\n",
    "for entry in completePois:\n",
    "    allPois[entry[1]] = tractPois[entry[0]][entry[1]]\n",
    "\n",
    "for tract in tracts:\n",
    "    for building in tractBuildings[tract]:\n",
    "        tractBuildings[tract][building]['pois'] = []\n",
    "\n",
    "# Iterate over POIs, find building for each\n",
    "for tractIndex in range(len(tracts)):\n",
    "    tract = tracts[tractIndex]\n",
    "    pois = tractPois[tract]\n",
    "    buildings = tractBuildings[tract]\n",
    "    for poiIndex in range(len(pois)):\n",
    "        poiId = pois.keys()[poiIndex]\n",
    "        try:\n",
    "            poiLocation = pois[poiId]['location']\n",
    "            for buildingIndex in range(len(buildings)):\n",
    "                buildingId = buildings.keys()[buildingIndex]\n",
    "                buildingOutline = buildings[buildingId]['geometry']\n",
    "                if pointInsidePolygon(poiLocation, buildingOutline):\n",
    "                    tractBuildings[tract][buildingId]['pois'].append(poiId)\n",
    "        except:\n",
    "            print 'Found incomplete an POI'"
   ]
  },
  {
   "cell_type": "markdown",
   "metadata": {},
   "source": [
    "Save the POIs in the model area for future use"
   ]
  },
  {
   "cell_type": "code",
   "execution_count": 9,
   "metadata": {},
   "outputs": [],
   "source": [
    "# # now save a csv file with ids, building info and location\n",
    "# objectIds = []\n",
    "# with open('../Data/SDL_Buildings/BBXX_USEAREA_POL.txt', 'r') as f:\n",
    "#     f.readline()\n",
    "#     for line in f:\n",
    "#         line = line.replace(\"\\\"\", \"\")\n",
    "#         line = line.replace(\"\\r\\n\", \"\")\n",
    "#         line = line.split(',')\n",
    "#         objectIds.append(line[0])\n",
    "        \n",
    "# allBuildings = {}\n",
    "# for tract in tracts:\n",
    "#     for bId in tractBuildings[tract].keys():\n",
    "#         allBuildings[bId] = tractBuildings[tract][bId]\n",
    "\n",
    "# filename = 'BB_building_pois.csv'\n",
    "# with open('../Useful_Results/'+filename, 'wb') as f:\n",
    "#     spamwriter = csv.writer(f, delimiter=',')\n",
    "#     RESULT = []\n",
    "#     RESULT.append('objectId')\n",
    "#     RESULT.append('new Id')\n",
    "#     RESULT.append('Use')\n",
    "#     RESULT.append('Area (sq m)')\n",
    "#     #RESULT.append('building outline')\n",
    "#     RESULT.append('Poi Info')\n",
    "#     spamwriter.writerow(RESULT) \n",
    "#     for oId in objectIds:\n",
    "#         buildings = [x for x in allBuildings.keys() if x.split('_')[0]==oId]\n",
    "#         for eachBuilding in buildings:\n",
    "#             use = allBuildings[eachBuilding]['use']\n",
    "#             outline = allBuildings[eachBuilding]['geometry']\n",
    "#             area = allBuildings[eachBuilding]['useArea']\n",
    "#             RESULT = []\n",
    "#             RESULT.append(eachBuilding.split('_')[0])\n",
    "#             RESULT.append(eachBuilding)\n",
    "#             RESULT.append(use)\n",
    "#             RESULT.append(area)\n",
    "#             #RESULT.append(outline)\n",
    "#             if allBuildings[eachBuilding]['pois']:\n",
    "#                 poiList = []\n",
    "#                 for poi in allBuildings[eachBuilding]['pois']:\n",
    "#                     poiList.append('name: '+allPois[poi]['name'])\n",
    "#                     poiTypes = [x for x in allPois[poi]['types'] if x not in ['point_of_interest', 'establishment']]              \n",
    "#                     strTest = 'types: '+' '.join(poiTypes) \n",
    "#                     poiList.append(strTest)\n",
    "#                     poiList.append('location: '+str(allPois[poi]['location'][0])+' '+str(allPois[poi]['location'][0]))\n",
    "#                     if 'opening_hours' in allPois[poi].keys():\n",
    "#                         #if 'Monday' in allPois[poi]['opening_hours'].keys():\n",
    "#                         if allPois[poi]['opening_hours']['Monday']:\n",
    "#                             #print allPois[poi]['opening_hours']['Monday']\n",
    "#                             poiList.append('Mon opening:'+str(allPois[poi]['opening_hours']['Monday'][0][0])+'_to_'+ \\\n",
    "#                                            str(allPois[poi]['opening_hours']['Monday'][0][1]))\n",
    "#                 RESULT.append(poiList)\n",
    "#             spamwriter.writerow(RESULT) "
   ]
  },
  {
   "cell_type": "markdown",
   "metadata": {
    "collapsed": true
   },
   "source": [
    "assign opening hours based on building type"
   ]
  },
  {
   "cell_type": "code",
   "execution_count": 10,
   "metadata": {},
   "outputs": [],
   "source": [
    "usesSet = []\n",
    "allObjectIDs = []\n",
    "for tractIndex in range(len(tracts)):\n",
    "    tract = tracts[tractIndex]\n",
    "    buildings = tractBuildings[tract]\n",
    "    # print len(buildings)\n",
    "    for buildingID in buildings.keys():\n",
    "        if buildings[buildingID]['use'] not in usesSet:\n",
    "            usesSet.append(buildings[buildingID]['use'])\n",
    "        oId = buildingID.split('_')[0]\n",
    "        if oId not in allObjectIDs:\n",
    "            allObjectIDs.append( oId )"
   ]
  },
  {
   "cell_type": "code",
   "execution_count": 11,
   "metadata": {},
   "outputs": [],
   "source": [
    "# get the buildings where we have details and objectId and buildingId\n",
    "areas = []\n",
    "objectIDs = []\n",
    "SDLIDs = []\n",
    "with open('../Data/SDL_Buildings/BBXX_USEAREA_POL.txt', 'r') as f:\n",
    "    f.readline()\n",
    "    for line in f:\n",
    "        line = line.replace(\"\\\"\", \"\")\n",
    "        line = line.replace(\"\\r\\n\", \"\")\n",
    "        line = line.split(',')\n",
    "        # line[5] is polygon area and line[6] is tot floor area\n",
    "        b = []\n",
    "        for a in line[6:]:\n",
    "            b.append(float(a))\n",
    "        areas.append(b)\n",
    "        oId = line[0]\n",
    "        if oId in allObjectIDs:\n",
    "            objectIDs.append(line[0])\n",
    "            SDLIDs.append(line[1])"
   ]
  },
  {
   "cell_type": "code",
   "execution_count": 12,
   "metadata": {},
   "outputs": [],
   "source": [
    "def allocateHours(buildingCategory):\n",
    "    if buildingCategory=='OFFICE':\n",
    "        return [[[6.0,21.0]]]*7\n",
    "    elif buildingCategory=='RESIDENT':\n",
    "        return [[[0.0,24.0]]]*7\n",
    "    elif buildingCategory=='RESTRNT':\n",
    "        return [[[5.0,24.0]]]*7\n",
    "    elif buildingCategory=='HOTEL':\n",
    "        return [[[0.0,24.0]]]*7\n",
    "    elif buildingCategory=='MALL':\n",
    "        return [[[7.0,21.0]]]*7\n",
    "    elif buildingCategory=='SUPERMRK':\n",
    "        return [[[7.0,21.0]]]*7\n",
    "    elif buildingCategory=='PUBLCASM':\n",
    "        return [[[7.0,21.0]]]*7\n",
    "    elif buildingCategory=='SCHOOL':\n",
    "        return [[[7.0,21.0]]]*7\n",
    "    elif buildingCategory=='LIBRARY':\n",
    "        return [[[8.0,18.0]]]*7\n",
    "    elif buildingCategory=='WORSHIP':\n",
    "        return [[[0.0,21.0]]]*7\n",
    "    elif buildingCategory=='ACADEMIC':\n",
    "        return [[[7.0,21.0]]]*7\n",
    "    elif buildingCategory=='FIREPOL':\n",
    "        return [[[0.0,24.0]]]*7\n",
    "    elif buildingCategory=='MUSEUM':\n",
    "        return [[[7.0,21.0]]]*7\n",
    "    elif buildingCategory=='ATHLETIC':\n",
    "        return [[[7.0,21.0]]]*7\n",
    "    elif buildingCategory=='MEDICAL':\n",
    "        return [[[7.0,21.0]]]*7\n",
    "    elif buildingCategory=='GARAGE':\n",
    "        return [[[7.0, 17.0]]]*7\n",
    "    elif buildingCategory=='RETAIL':\n",
    "        return [[[7.0, 21.0]]]*7\n",
    "    else:\n",
    "        print 'Unidentified building category'\n",
    "        print buildingCategory"
   ]
  },
  {
   "cell_type": "code",
   "execution_count": null,
   "metadata": {},
   "outputs": [],
   "source": []
  },
  {
   "cell_type": "markdown",
   "metadata": {},
   "source": [
    "If using POIs directly without checking manually, uncomment the middle section of code below"
   ]
  },
  {
   "cell_type": "code",
   "execution_count": 13,
   "metadata": {},
   "outputs": [
    {
     "name": "stdout",
     "output_type": "stream",
     "text": [
      "0\n"
     ]
    }
   ],
   "source": [
    "weekdays = ['Monday', 'Tuesday', 'Wednesday', 'Thursday', 'Friday', 'Saturday', 'Sunday']\n",
    "\n",
    "for tractIndex in range(len(tracts)):\n",
    "    print tractIndex\n",
    "    tract = tracts[tractIndex]\n",
    "    pois = tractPois[tract]\n",
    "    buildings = tractBuildings[tract]\n",
    "    # print len(buildings)\n",
    "    for buildingIndex in range(len(buildings)):\n",
    "        buildingId = buildings.keys()[buildingIndex]\n",
    "        tractBuildings[tract][buildingId]['hours'] = {}\n",
    "        \n",
    "        #buildingPois = tractBuildings[tract][buildingId]['pois']\n",
    "        #numPois = len(buildingPois)\n",
    "        \n",
    "        ## Determining POI classes associated with building\n",
    "        #buildingPoiClasses = []\n",
    "        #for buildingPoi in buildingPois:\n",
    "        #    tractPois[tract][buildingPoi]\n",
    "        #    buildingPoiClasses.extend(tractPois[tract][buildingPoi]['types'])\n",
    "        #buildingPoiClasses = list(set(buildingPoiClasses))\n",
    "        #buildingPoiClasses = [x for x in buildingPoiClasses if x not in ['establishment', 'point_of_interest']]\n",
    "        #tractBuildings[tract][buildingId]['poi_types'] = buildingPoiClasses\n",
    "\n",
    "        openingHours = allocateHours(tractBuildings[tract][buildingId]['use'])\n",
    "        for dayIndex in range(len(weekdays)):\n",
    "            weekday = weekdays[dayIndex]\n",
    "            dayHours = openingHours[dayIndex]\n",
    "            tractBuildings[tract][buildingId]['hours'][weekday] = dayHours"
   ]
  },
  {
   "cell_type": "raw",
   "metadata": {
    "collapsed": true
   },
   "source": [
    "get the PCA in the right use category "
   ]
  },
  {
   "cell_type": "markdown",
   "metadata": {},
   "source": [
    "Determining the Per-capita area of each building"
   ]
  },
  {
   "cell_type": "code",
   "execution_count": 14,
   "metadata": {},
   "outputs": [
    {
     "data": {
      "text/plain": [
       "[('SCHOOL', 3.23),\n",
       " ('MALL', 6.2),\n",
       " ('RESIDENT', 40.0),\n",
       " ('OFFICE', 19.23),\n",
       " ('GARAGE', 18.6),\n",
       " ('ATHLETIC', 4.6),\n",
       " ('MEDICAL', 7.8),\n",
       " ('HOTEL', 8.06),\n",
       " ('RESTRNT', 1.86),\n",
       " ('LIBRARY', 9.3),\n",
       " ('WORSHIP', 1.4),\n",
       " ('ACADEMIC', 19.23),\n",
       " ('FIREPOL', 50.0),\n",
       " ('SUPERMRK', 12.82),\n",
       " ('PUBLCASM', 19.0),\n",
       " ('RETAIL', 7.1),\n",
       " ('MUSEUM', 13.9)]"
      ]
     },
     "execution_count": 14,
     "metadata": {},
     "output_type": "execute_result"
    }
   ],
   "source": [
    "areaPerPerson = {}  # Area per person for a Toolbox category\n",
    "with open('../Data/PCA_BB_SDL_model.csv', 'r') as f:\n",
    "    f.readline()\n",
    "    for line in f:\n",
    "        line = line.strip().split(',')\n",
    "        line = [x for x in line if x!='']\n",
    "        areaPerPerson[line[0]] = float(line[1])\n",
    "            \n",
    "areaPerPerson.items()"
   ]
  },
  {
   "cell_type": "markdown",
   "metadata": {},
   "source": [
    "Again, if using POIs to calculate PCAs directly, uncomment the commented code below"
   ]
  },
  {
   "cell_type": "code",
   "execution_count": 15,
   "metadata": {},
   "outputs": [
    {
     "name": "stdout",
     "output_type": "stream",
     "text": [
      "0\n",
      "374 287\n"
     ]
    }
   ],
   "source": [
    "uses = []\n",
    "nonResidentialPcas = 0\n",
    "residentialPcas = 0\n",
    "for tractIndex in range(len(tracts)):\n",
    "    print tractIndex\n",
    "    tract = tracts[tractIndex]\n",
    "    tractAllocatedPcas = []\n",
    "    # print len(buildings)\n",
    "    for buildingIndex in range(len(tractBuildings[tract])):\n",
    "        buildingId = tractBuildings[tract].keys()[buildingIndex]\n",
    "        tractBuildings[tract][buildingId]['pca'] = areaPerPerson[ tractBuildings[tract][buildingId]['use'] ]\n",
    "        if tractBuildings[tract][buildingId]['category']=='res':\n",
    "            residentialPcas += 1\n",
    "        else:\n",
    "            nonResidentialPcas += 1\n",
    "        tractBuildings[tract][buildingId]['capacity'] = tractBuildings[tract][buildingId]['useArea']/\\\n",
    "                                                        tractBuildings[tract][buildingId]['pca']\n",
    "print nonResidentialPcas, residentialPcas\n",
    "            \n",
    "#         if tractBuildings[tract][buildingId]['category']=='res':\n",
    "#             tractBuildings[tract][buildingId]['pca'] = RESIDENTIAL_PCA\n",
    "#             tractBuildings[tract][buildingId]['capacity'] = tractBuildings[tract][buildingId]['useArea']/ \\\n",
    "#                                                                 tractBuildings[tract][buildingId]['pca']\n",
    "#             tractBuildings[tract][buildingId]['pcaSource'] = 'Residential Use'\n",
    "#             residentialPcas += 1\n",
    "#         else:\n",
    "#             for x in tractBuildings[tract][buildingId]['poi_types']:\n",
    "#                 buildingToolboxUses.append(poiToToolboxUse[x])\n",
    "#             areasPerPerson = []\n",
    "#             for b in buildingToolboxUses:\n",
    "#                 try:\n",
    "#                     areasPerPerson.append(areaPerPerson[b])\n",
    "#                 except:\n",
    "#                     pass\n",
    "#             if len(areasPerPerson)>0:\n",
    "#                 chosenPca = max(areasPerPerson)\n",
    "#                 tractBuildings[tract][buildingId]['pca'] = chosenPca\n",
    "#                 if tractBuildings[tract][buildingId]['pca']>0:\n",
    "#                     tractBuildings[tract][buildingId]['capacity'] = tractBuildings[tract][buildingId]['useArea']/\\\n",
    "#                                                                 tractBuildings[tract][buildingId]['pca']\n",
    "#                     tractBuildings[tract][buildingId]['pcaSource'] = 'POI'\n",
    "#                 else:\n",
    "#                     tractBuildings[tract][buildingId]['capacity'] = \\\n",
    "#                             tractBuildings[tract][buildingId]['useArea']/25\n",
    "#                     tractBuildings[tract][buildingId]['pcaSource'] = 'POI Zero default'\n",
    "#                 if chosenPca>0:\n",
    "#                     tractAllocatedPcas.append(chosenPca)\n",
    "#                 determinedPcas += 1\n",
    "    \n",
    "#     if len(tractAllocatedPcas)>0:\n",
    "#         random.shuffle(tractAllocatedPcas)\n",
    "#         for buildingIndex in range(len(tractBuildings[tract])):\n",
    "#             buildingId = tractBuildings[tract].keys()[buildingIndex]\n",
    "#             if 'pca' not in tractBuildings[tract][buildingId].keys():\n",
    "#                 tractBuildings[tract][buildingId]['pca'] = random.choice(tractAllocatedPcas)\n",
    "#                 tractBuildings[tract][buildingId]['capacity'] = tractBuildings[tract][buildingId]['useArea']/\\\n",
    "#                                                                 tractBuildings[tract][buildingId]['pca']\n",
    "#                 tractBuildings[tract][buildingId]['pcaSource'] = 'Random tract sample'\n",
    "#                 randomPcas += 1\n",
    "#     else:\n",
    "#         for buildingIndex in range(len(tractBuildings[tract])):\n",
    "#             buildingId = tractBuildings[tract].keys()[buildingIndex]\n",
    "#             if 'pca' not in tractBuildings[tract][buildingId].keys():\n",
    "#                 tractBuildings[tract][buildingId]['pca'] = UNKNOWN_LOCATIONS_PCA\n",
    "#                 tractBuildings[tract][buildingId]['capacity'] = tractBuildings[tract][buildingId]['useArea']/\\\n",
    "#                                                                 tractBuildings[tract][buildingId]['pca']\n",
    "#                 tractBuildings[tract][buildingId]['pcaSource'] = 'Constant unknown'\n",
    "#                 constantPcas += 1\n",
    "\n",
    "# print determinedPcas, residentialPcas, randomPcas, constantPcas"
   ]
  },
  {
   "cell_type": "code",
   "execution_count": 16,
   "metadata": {},
   "outputs": [],
   "source": [
    "for tractIndex in range(len(tracts)):\n",
    "    tract = tracts[tractIndex]\n",
    "    pickle_file = tract+'.pickle'\n",
    "    try:\n",
    "        f = open('../PickledData/HyperlocalBuildings/'+pickle_file, 'wb')\n",
    "        pickle.dump(tractBuildings[tract], f, pickle.HIGHEST_PROTOCOL)\n",
    "        f.close()\n",
    "    except Exception as e:\n",
    "        print('Unable to save data to', pickle_file, ':', e)\n",
    "        raise"
   ]
  },
  {
   "cell_type": "code",
   "execution_count": null,
   "metadata": {
    "collapsed": true
   },
   "outputs": [],
   "source": []
  },
  {
   "cell_type": "code",
   "execution_count": null,
   "metadata": {
    "collapsed": true
   },
   "outputs": [],
   "source": []
  },
  {
   "cell_type": "code",
   "execution_count": null,
   "metadata": {
    "collapsed": true
   },
   "outputs": [],
   "source": []
  }
 ],
 "metadata": {
  "kernelspec": {
   "display_name": "Python 2",
   "language": "python",
   "name": "python2"
  },
  "language_info": {
   "codemirror_mode": {
    "name": "ipython",
    "version": 2
   },
   "file_extension": ".py",
   "mimetype": "text/x-python",
   "name": "python",
   "nbconvert_exporter": "python",
   "pygments_lexer": "ipython2",
   "version": "2.7.12"
  }
 },
 "nbformat": 4,
 "nbformat_minor": 1
}
