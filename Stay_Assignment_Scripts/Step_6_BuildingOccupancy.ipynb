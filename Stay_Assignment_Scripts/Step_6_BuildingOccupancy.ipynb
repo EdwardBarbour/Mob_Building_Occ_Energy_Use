{
 "cells": [
  {
   "cell_type": "code",
   "execution_count": 1,
   "metadata": {},
   "outputs": [],
   "source": [
    "# For each stay, this file finds an appropriate building-match\n",
    "# within the tract."
   ]
  },
  {
   "cell_type": "code",
   "execution_count": 2,
   "metadata": {},
   "outputs": [],
   "source": [
    "from matplotlib import pyplot as plt\n",
    "from scipy.cluster.hierarchy import dendrogram, linkage\n",
    "import numpy as np\n",
    "from scipy.cluster.hierarchy import fcluster\n",
    "from scipy.spatial.distance import pdist\n",
    "import scipy.spatial.distance as ssd\n",
    "from six.moves import cPickle as pickle\n",
    "import os\n",
    "from collections import Counter as counter\n",
    "import random\n",
    "from matplotlib.patches import Polygon as Polygon2\n",
    "from matplotlib.collections import PatchCollection\n",
    "import matplotlib.path as mplPath\n",
    "%matplotlib inline\n",
    "# Clustering code source:\n",
    "# https://joernhees.de/blog/2015/08/26/scipy-hierarchical-clustering-and-dendrogram-tutorial/"
   ]
  },
  {
   "cell_type": "code",
   "execution_count": 3,
   "metadata": {},
   "outputs": [],
   "source": [
    "# Total Stays = 2103774\n",
    "# Consecutive stays in same tract = 147\n",
    "LONG_TO_FEET = 82850.73*3.28\n",
    "LONG_TO_METERS = 82850.73\n",
    "LAT_TO_FEET = 111073.25*3.28\n",
    "LAT_TO_METERS = 111073.25\n",
    "tracts = os.listdir('../PickledData/HyperlocalBuildings/')\n",
    "tracts = [x.split('.')[0] for x in tracts if '.pickle' in x]"
   ]
  },
  {
   "cell_type": "code",
   "execution_count": 4,
   "metadata": {},
   "outputs": [],
   "source": [
    "tractBuildings = {}\n",
    "for t in tracts:\n",
    "    with open('../PickledData/HyperlocalBuildings/'+t+'.pickle', 'rb') as f:\n",
    "        tractBuildings[t] = pickle.load(f)\n",
    "        \n",
    "tractStays = {}\n",
    "for t in tracts:\n",
    "    with open('../PickledData/TractStays/'+t+'.pickle', 'rb') as f:\n",
    "        tractStays[t] = pickle.load(f)\n",
    "        tractStays[t].sort(key=lambda x:x['startSlot'])"
   ]
  },
  {
   "cell_type": "code",
   "execution_count": 5,
   "metadata": {},
   "outputs": [
    {
     "name": "stdout",
     "output_type": "stream",
     "text": [
      "{'endSlot': 168, 'userId': '2147434', 'longitude': -71.07622, 'latitude': 42.349771, 'startSlot': 25, 'type': 'h'}\n"
     ]
    }
   ],
   "source": [
    "print tractStays[t][0]"
   ]
  },
  {
   "cell_type": "code",
   "execution_count": 6,
   "metadata": {},
   "outputs": [],
   "source": [
    "### plot all the tractBuildings and the some stays\n",
    "# fig = plt.figure()\n",
    "# fig.set_size_inches(10,8)\n",
    "# ax1 = fig.add_subplot(111)\n",
    "# colorings = ['r','g','b']\n",
    "# for j,t in enumerate(tracts):\n",
    "#     print t\n",
    "#     for b in tractBuildings[t]:\n",
    "#         geom = np.array( tractBuildings[t][b]['geometry'] )\n",
    "#         ax1.plot(geom[:,0], geom[:,1], color='k', linewidth=0.5)\n",
    "#     counter = 0\n",
    "#     for stay in tractStays[t]:\n",
    "#         counter = counter+1\n",
    "#         if counter%10==0:\n",
    "#             ax1.scatter(stay['longitude'], stay['latitude'], marker='.', s=50, color=colorings[j])\n",
    "            \n",
    "# BB is 25025010702"
   ]
  },
  {
   "cell_type": "code",
   "execution_count": 7,
   "metadata": {},
   "outputs": [],
   "source": [
    "def check_stay_building_compatibility(stay,building):\n",
    "    stayType = stay['type']\n",
    "    startSlot = stay['startSlot']\n",
    "    endSlot = stay['endSlot']\n",
    "    \n",
    "    buildingCategory = building['category']\n",
    "    \n",
    "    # Type compatibility\n",
    "    typeCompatibility = 0\n",
    "    if stayType=='h':\n",
    "        if buildingCategory=='res':\n",
    "            typeCompatibility = 1\n",
    "    elif stayType=='w':\n",
    "        if buildingCategory in ['wo', 'i']:\n",
    "            typeCompatibility = 1\n",
    "    elif stayType=='o':\n",
    "        # Other trips are not attracted to industrial buildings\n",
    "        if buildingCategory=='wo':\n",
    "            typeCompatibility = 1\n",
    "    else:\n",
    "        print 'Unrecognised stay'\n",
    "        print stay\n",
    "    \n",
    "    # Hours compatibility\n",
    "    hoursCompatibility = 0\n",
    "    openingHours = [x[0] for x in building['hours']['Monday']]\n",
    "    closingHours = [x[1] for x in building['hours']['Monday']]\n",
    "    openingHoursTuesday = [x[0]+24 for x in building['hours']['Tuesday']]\n",
    "    closingHoursTuesday = [x[1]+24 for x in building['hours']['Tuesday']]\n",
    "    if 24 in openingHoursTuesday and 24 in closingHours:\n",
    "        openingHoursTuesday.remove(24)\n",
    "        closingHours.remove(24)\n",
    "    openingHours += openingHoursTuesday\n",
    "    closingHours += closingHoursTuesday\n",
    "    for windowIndex in range(len(openingHours)):\n",
    "        openingHour = openingHours[windowIndex]\n",
    "        closingHour = closingHours[windowIndex]\n",
    "        if openingHour*6<=startSlot-1 and closingHour*6>=endSlot-1:\n",
    "            hoursCompatibility = 1\n",
    "            break\n",
    "    \n",
    "    if typeCompatibility and hoursCompatibility:\n",
    "        return 1\n",
    "    else:\n",
    "        return 0\n",
    "\n",
    "def cluster_buildings(tractBuildings, contenderBuildings):\n",
    "    contenderLatitudes = [tractBuildings[x]['latitude'] for x in contenderBuildings]\n",
    "    contenderLongitudes = [tractBuildings[x]['longitude'] for x in contenderBuildings]\n",
    "    # Hierarchical Clustering\n",
    "    contenderLocations = np.array([np.array([tractBuildings[x]['latitude']*LAT_TO_METERS, \\\n",
    "                                             tractBuildings[x]['longitude']*LONG_TO_METERS]) for x in contenderBuildings])\n",
    "    if len(contenderLocations)>2:\n",
    "        Z = linkage(contenderLocations, 'ward')\n",
    "        MAX_D = 500\n",
    "        clusters = fcluster(Z, MAX_D, criterion='distance')\n",
    "        return clusters\n",
    "        # Choosing building\n",
    "        # Update building occupancy\n",
    "    else:\n",
    "        # Building cluster indexes begin at 1\n",
    "        return [1 for x in contenderBuildings]\n",
    "\n",
    "def allocate_cluster(buildingClusters, tractBuildings, contenderBuildings, nonLinearParam):\n",
    "    numClusters = len(set(buildingClusters))\n",
    "    if numClusters<2:\n",
    "        return 1\n",
    "    clusterBuildings = {}\n",
    "    clusterCharacteristics = {}\n",
    "    # Storage for each cluster\n",
    "    for i in range(1, numClusters+1):\n",
    "        clusterBuildings[i] = []\n",
    "        clusterCharacteristics[i] = {}\n",
    "    # Iterate over each building\n",
    "    for buildingIndex in range(len(buildingClusters)):\n",
    "        clusterNumber = buildingClusters[buildingIndex]\n",
    "        buildingId = contenderBuildings[buildingIndex]\n",
    "        clusterBuildings[clusterNumber].append(buildingId)\n",
    "    # Compute attraction for each cluster\n",
    "    for cluster in clusterBuildings.keys():\n",
    "        clusterCharacteristics[cluster]['attraction'] = 0.\n",
    "        for buildingId in clusterBuildings[cluster]:\n",
    "            clusterCharacteristics[cluster]['attraction'] += tractBuildings[buildingId]['capacity']\n",
    "\n",
    "    totalAttraction = sum([tractBuildings[x]['capacity'] for x in contenderBuildings])\n",
    "    averageFraction = 1.0/numClusters\n",
    "    clusterProbabilities = {}\n",
    "    relativeAttractions = {}\n",
    "    for cluster in clusterBuildings.keys():\n",
    "        relativeClusterSize = clusterCharacteristics[cluster]['attraction']/totalAttraction\n",
    "        relativeFractionalAttraction = relativeClusterSize/averageFraction\n",
    "        relativeAttractions[cluster] = pow(relativeFractionalAttraction, nonLinearParam) * relativeClusterSize\n",
    "\n",
    "    totalRelativeAttraction = sum(relativeAttractions.values())\n",
    "    for cluster in clusterBuildings.keys():\n",
    "        clusterProbabilities[cluster] = relativeAttractions[cluster]/totalRelativeAttraction\n",
    "    \n",
    "    cumulativeProbabilities = np.cumsum([clusterProbabilities[x] for x in clusterBuildings.keys()])\n",
    "    randomDraw = random.random()\n",
    "    chosenIndex = None\n",
    "    for chosenIndex in range(len(cumulativeProbabilities)):\n",
    "        if cumulativeProbabilities[chosenIndex]>=randomDraw:\n",
    "            break\n",
    "\n",
    "    if chosenIndex!=None:\n",
    "        chosenCluster = chosenIndex+1\n",
    "        return chosenCluster\n",
    "    else:\n",
    "        # It will be none if the contender set is null set (no cluster)\n",
    "        print 'No cluster chosen'\n",
    "        return 0\n",
    "\n",
    "def allocate_building(allocatedCluster, buildingClusters, tractBuildings, contenderBuildings):\n",
    "    clusterBuildings = []\n",
    "    for i in range(len(buildingClusters)):\n",
    "        if buildingClusters[i]==allocatedCluster:\n",
    "            buildingId = contenderBuildings[i]\n",
    "            clusterBuildings.append(buildingId)\n",
    "    \n",
    "    clusterBuildingsAttraction = []\n",
    "    for i in range(len(clusterBuildings)):\n",
    "        clusterBuildingsAttraction.append(tractBuildings[clusterBuildings[i]]['capacity'])\n",
    "    \n",
    "    clusterBuildingsCumAttraction = np.cumsum(clusterBuildingsAttraction)\n",
    "    totalAttraction = sum(clusterBuildingsAttraction)\n",
    "    randomBuildingDraw = random.random()\n",
    "    randomBuildingAttraction = randomBuildingDraw*totalAttraction\n",
    "    \n",
    "    chosenBuildingIndex = None\n",
    "    for chosenBuildingIndex in range(len(clusterBuildingsCumAttraction)):\n",
    "        if clusterBuildingsCumAttraction[chosenBuildingIndex]>=randomBuildingAttraction:\n",
    "            break\n",
    "    chosenBuildingId = clusterBuildings[chosenBuildingIndex]\n",
    "    return chosenBuildingId"
   ]
  },
  {
   "cell_type": "code",
   "execution_count": 8,
   "metadata": {},
   "outputs": [
    {
     "name": "stdout",
     "output_type": "stream",
     "text": [
      "[0.  0.1 0.2 0.3 0.4 0.5 0.6 0.7 0.8 0.9 1. ]\n"
     ]
    }
   ],
   "source": [
    "nonLinParams = np.arange(0,1.1,0.1)\n",
    "print nonLinParams"
   ]
  },
  {
   "cell_type": "code",
   "execution_count": 9,
   "metadata": {},
   "outputs": [],
   "source": [
    "for tractIndex in range(len(tracts)):\n",
    "    t = tracts[tractIndex]\n",
    "    for buildingId in tractBuildings[t]:\n",
    "        tractBuildings[t][buildingId]['occupancy'] = np.zeros((len(nonLinParams),144))\n",
    "\n",
    "tractUserWiseStays = {}\n",
    "for t in tracts:\n",
    "    tractUserWiseStays[t] = {}\n",
    "    for ts in tractStays[t]:\n",
    "        try:\n",
    "            tractUserWiseStays[t][ts['userId']].append(ts)\n",
    "        except:\n",
    "            tractUserWiseStays[t][ts['userId']] = [ts]"
   ]
  },
  {
   "cell_type": "code",
   "execution_count": 10,
   "metadata": {},
   "outputs": [
    {
     "name": "stdout",
     "output_type": "stream",
     "text": [
      "tract 0\n",
      "Working on mu = 0.0\n",
      "Working on mu = 0.1\n",
      "Working on mu = 0.1\n",
      "Working on mu = 0.2\n",
      "Working on mu = 0.2\n",
      "Working on mu = 0.30000000000000004\n",
      "Working on mu = 0.30000000000000004\n",
      "Working on mu = 0.4\n",
      "Working on mu = 0.5\n",
      "Working on mu = 0.5\n",
      "Working on mu = 0.6000000000000001\n",
      "Working on mu = 0.6000000000000001\n",
      "Working on mu = 0.7000000000000001\n",
      "Working on mu = 0.7000000000000001\n",
      "Working on mu = 0.8\n",
      "Working on mu = 0.8\n",
      "Working on mu = 0.9\n",
      "Working on mu = 1.0\n",
      "Working on mu = 1.0\n"
     ]
    }
   ],
   "source": [
    "usersProcessed = 0\n",
    "for tractIndex in range(0,len(tracts)):\n",
    "    print 'tract', tractIndex\n",
    "    t = tracts[tractIndex]\n",
    "    ### Sensitivity analysis for each tract\n",
    "    for sensitivityIndex in range(len(nonLinParams)):\n",
    "    \n",
    "        for userId in tractUserWiseStays[t].keys():\n",
    "            usersProcessed+=1\n",
    "            if usersProcessed%10000==0:\n",
    "                print 'Working on mu =', nonLinParams[sensitivityIndex]\n",
    "            userHomeBuildingId = None\n",
    "            userWorkBuildingId = None\n",
    "            userStays = tractUserWiseStays[t][userId]\n",
    "            for stay in userStays:\n",
    "                allocatedBuildingId = None\n",
    "                stayType = stay['type']\n",
    "                if stayType=='h' and userHomeBuildingId!=None:\n",
    "                    allocatedBuildingId = userHomeBuildingId\n",
    "                elif stayType=='w' and userWorkBuildingId!=None:\n",
    "                    allocatedBuildingId = userWorkBuildingId\n",
    "                else:\n",
    "                    contenderBuildings = []\n",
    "                    for buildingId in tractBuildings[t]:\n",
    "                        if check_stay_building_compatibility(stay, tractBuildings[t][buildingId]):\n",
    "                            contenderBuildings.append(buildingId)\n",
    "                    if len(contenderBuildings)>2:\n",
    "                        buildingClusters = cluster_buildings(tractBuildings[t], contenderBuildings)\n",
    "                        allocatedCluster = allocate_cluster(buildingClusters, tractBuildings[t], \\\n",
    "                                                            contenderBuildings, nonLinParams[sensitivityIndex])\n",
    "                        allocatedBuildingId = allocate_building(allocatedCluster, buildingClusters, \\\n",
    "                                                                tractBuildings[t],contenderBuildings)\n",
    "                        if stayType=='h':\n",
    "                            userHomeBuildingId = allocatedBuildingId\n",
    "                        elif stayType=='w':\n",
    "                            userWorkBuildingId = allocatedBuildingId\n",
    "                    # else if there are two or less contender builings\n",
    "                    elif len(contenderBuildings)==2:\n",
    "                        allocatedBuildingId = allocate_building(1, [1 for x in contenderBuildings], \\\n",
    "                                                                tractBuildings[t],contenderBuildings)    \n",
    "                    elif len(contenderBuildings)>0:\n",
    "                        allocatedBuildingId = contenderBuildings[0]\n",
    "\n",
    "                if allocatedBuildingId!=None:\n",
    "                    stayStartSlot = stay['startSlot']-24\n",
    "                    stayEndSlot = stay['endSlot']-24\n",
    "\n",
    "                    for i in range(stayStartSlot-1, stayEndSlot):\n",
    "                        tractBuildings[t][allocatedBuildingId]['occupancy'][sensitivityIndex,i]+=1\n",
    "                        \n",
    "    pickle_file = t+'.pickle'\n",
    "    try:\n",
    "        f = open('../PickledData/BuildingOccupancy/'+pickle_file, 'wb')\n",
    "        pickle.dump(tractBuildings[t], f, pickle.HIGHEST_PROTOCOL)\n",
    "        f.close()\n",
    "    except Exception as e:\n",
    "        print('Unable to save data to', pickle_file, ':', e)\n",
    "        raise"
   ]
  },
  {
   "cell_type": "code",
   "execution_count": 13,
   "metadata": {},
   "outputs": [],
   "source": [
    "buildingMaxOcc = np.zeros((len(tractBuildings[t]), len(nonLinParams)))\n",
    "for j,bId in enumerate(tractBuildings[t].keys()):\n",
    "    buildingMaxOcc[j] = np.max(tractBuildings[t][bId]['occupancy'], axis=1)"
   ]
  },
  {
   "cell_type": "code",
   "execution_count": 14,
   "metadata": {},
   "outputs": [
    {
     "name": "stdout",
     "output_type": "stream",
     "text": [
      "There are 287 residential spaces\n",
      "There are 374 other spaces\n"
     ]
    }
   ],
   "source": [
    "# count residential and commercial buildings\n",
    "countRes, countOther = 0, 0\n",
    "for j,bId in enumerate(tractBuildings[t].keys()):\n",
    "    if tractBuildings[t][bId]['category']=='res':\n",
    "        countRes+=1\n",
    "    else:\n",
    "        countOther+=1\n",
    "print 'There are %d '%countRes+'residential spaces'\n",
    "print 'There are %d '%countOther+'other spaces'"
   ]
  },
  {
   "cell_type": "code",
   "execution_count": 15,
   "metadata": {},
   "outputs": [],
   "source": [
    "resMaxOcc, othMaxOcc = np.zeros((countRes, len(nonLinParams))), np.zeros((countOther, len(nonLinParams)))\n",
    "countRes, countOther = 0, 0\n",
    "for j,bId in enumerate(tractBuildings[t].keys()):\n",
    "    if tractBuildings[t][bId]['category']=='res':\n",
    "        resMaxOcc[countRes] = np.max(tractBuildings[t][bId]['occupancy'], axis=1)\n",
    "        countRes+=1\n",
    "    else:\n",
    "        othMaxOcc[countOther] = np.max(tractBuildings[t][bId]['occupancy'], axis=1)\n",
    "        countOther+=1"
   ]
  },
  {
   "cell_type": "code",
   "execution_count": 17,
   "metadata": {},
   "outputs": [
    {
     "data": {
      "text/plain": [
       "(374, 11)"
      ]
     },
     "execution_count": 17,
     "metadata": {},
     "output_type": "execute_result"
    }
   ],
   "source": [
    "np.shape(othMaxOcc)"
   ]
  },
  {
   "cell_type": "code",
   "execution_count": 18,
   "metadata": {},
   "outputs": [
    {
     "name": "stdout",
     "output_type": "stream",
     "text": [
      "0.0 598.0 39\n",
      "0.1 637.0 47\n",
      "0.2 667.0 41\n",
      "0.3 732.0 50\n",
      "0.4 816.0 48\n",
      "0.5 828.0 47\n",
      "0.6 893.0 58\n",
      "0.7 945.0 59\n",
      "0.8 980.0 69\n",
      "0.9 1025.0 74\n",
      "1.0 1045.0 85\n"
     ]
    },
    {
     "name": "stderr",
     "output_type": "stream",
     "text": [
      "/usr/local/lib/python2.7/dist-packages/ipykernel_launcher.py:25: RuntimeWarning: divide by zero encountered in log10\n"
     ]
    },
    {
     "data": {
      "text/plain": [
       "<matplotlib.legend.Legend at 0x7f6495791190>"
      ]
     },
     "execution_count": 18,
     "metadata": {},
     "output_type": "execute_result"
    },
    {
     "data": {
      "image/png": "[encoded data removed]",
      "text/plain": [
       "<Figure size 432x360 with 1 Axes>"
      ]
     },
     "metadata": {
      "needs_background": "light"
     },
     "output_type": "display_data"
    }
   ],
   "source": [
    "### plot the max occupancy of all buildings as a cdf\n",
    "\n",
    "import matplotlib.colors as colors\n",
    "import matplotlib.cm as cmx\n",
    "\n",
    "minVal, maxVal = -2, 10.\n",
    "cmOcc = plt.cm.get_cmap('Reds')\n",
    "cNorm = colors.Normalize(vmin=minVal, vmax=maxVal)\n",
    "scalarMap3 = cmx.ScalarMappable(norm=cNorm, cmap=cmOcc)\n",
    "scalarMap3._A = []\n",
    "\n",
    "fig = plt.figure()\n",
    "fig.set_size_inches(6,5)\n",
    "ax1 = fig.add_subplot(111)\n",
    "lines = []\n",
    "labels = [[] for j in range(11)]\n",
    "for j in range(len(nonLinParams)):\n",
    "    cl = scalarMap3.to_rgba((np.float(j)))\n",
    "    cl = colors.rgb2hex(cl)\n",
    "    occupantCounts = np.unique(buildingMaxOcc[:,j])\n",
    "    print '%.1f'%nonLinParams[j], occupantCounts[-1], len(np.where(buildingMaxOcc[:,j]==0)[0])\n",
    "    pOccupantCounts = np.zeros((len(occupantCounts)))\n",
    "    for it,o in enumerate(occupantCounts):\n",
    "        pOccupantCounts[it] = len(np.where(buildingMaxOcc[:,j]>=o)[0])\n",
    "    l1, = ax1.plot(np.log10(occupantCounts), np.log10(pOccupantCounts), \\\n",
    "            color=cl) #/np.float(len(buildingMaxOcc[:,j]))\n",
    "    lines.append(l1)\n",
    "    labels[j]='%.1f'%(nonLinParams[j])\n",
    "#     x1 = np.log10(occupantCounts[-1])\n",
    "#     y1 = pOccupantCounts[-1]/np.float(len(buildingMaxOcc[:,j]))\n",
    "#     y2 = pOccupantCounts[1]/np.float(len(buildingMaxOcc[:,j]))\n",
    "#     ax1.plot([x1,x1],[y1,y2],color=cl,linewidth=0.9,linestyle='--')\n",
    "#     ax1.plot([0,x1],[y2,y2],color=cl,linewidth=0.9,linestyle='--')\n",
    "ax1.set_xlabel('Log10(N)')\n",
    "ax1.set_ylabel('Log10(buildings with at least N occupants)')\n",
    "ax1.set_xlim([0,3.2])\n",
    "ax1.legend(lines,labels, loc=[0.8,0.3])\n",
    "# fig.savefig('../Useful_Results/logBuildingCounts.png', dpi=300, format='png',  bbox_inches='tight')"
   ]
  },
  {
   "cell_type": "code",
   "execution_count": 3,
   "metadata": {},
   "outputs": [],
   "source": [
    "cmRes, cmComm = plt.cm.get_cmap('Oranges'), plt.cm.get_cmap('Blues')\n",
    "scalarMapRes, scalarMapComm = cmx.ScalarMappable(norm=cNorm, cmap=cmRes), \\\n",
    "                            cmx.ScalarMappable(norm=cNorm, cmap=cmComm)\n",
    "scalarMapRes._A, scalarMapComm._A = [], []\n",
    "\n",
    "colorMaps = [scalarMapRes, scalarMapComm]\n",
    "testArray = [resMaxOcc, othMaxOcc]\n",
    "\n",
    "fig = plt.figure()\n",
    "fig.set_size_inches(12,5)\n",
    "ax = [fig.add_subplot(121), fig.add_subplot(122)]\n",
    "for axInd in range(2):\n",
    "    lines = []\n",
    "    labels = [[] for j in range(11)]\n",
    "    for j in range(len(nonLinParams)):\n",
    "        cl = colorMaps[axInd].to_rgba((np.float(j)))\n",
    "        cl = colors.rgb2hex(cl)\n",
    "        occupantCounts = np.unique(testArray[axInd][:,j])\n",
    "        print '%.1f'%nonLinParams[j], occupantCounts[-1], len(np.where(testArray[axInd][:,j]==0)[0])\n",
    "        pOccupantCounts = np.zeros((len(occupantCounts)))\n",
    "        for it,o in enumerate(occupantCounts):\n",
    "            pOccupantCounts[it] = len(np.where(testArray[axInd][:,j]>=o)[0])\n",
    "        l1, = ax[axInd].plot(np.log10(occupantCounts), pOccupantCounts/np.float(len(testArray[axInd][:,j])), \\\n",
    "                color=cl)\n",
    "        lines.append(l1)\n",
    "        labels[j]='%.1f'%(nonLinParams[j])\n",
    "        x1 = np.log10(occupantCounts[-1])\n",
    "        y1 = pOccupantCounts[-1]/np.float(len(testArray[axInd][:,j]))\n",
    "        y2 = pOccupantCounts[1]/np.float(len(testArray[axInd][:,j]))\n",
    "        ax[axInd].plot([x1,x1],[y1,y2],color=cl,linewidth=0.9,linestyle='--')\n",
    "        ax[axInd].plot([0,x1],[y2,y2],color=cl,linewidth=0.9,linestyle='--')\n",
    "    ax[axInd].set_xlabel('Log10(N)')\n",
    "    ax[axInd].set_ylabel('P(building has at least N occupants)')\n",
    "    ax[axInd].set_xlim([0,3.2])\n",
    "    ax[axInd].legend(lines,labels,ncol=2)\n",
    "# fig.savefig('../Useful_Results/BuildingProbabilities.png', dpi=300, format='png',  bbox_inches='tight')"
   ]
  },
  {
   "cell_type": "code",
   "execution_count": 20,
   "metadata": {},
   "outputs": [
    {
     "data": {
      "text/plain": [
       "(661, 11)"
      ]
     },
     "execution_count": 20,
     "metadata": {},
     "output_type": "execute_result"
    }
   ],
   "source": [
    "np.shape(buildingMaxOcc)"
   ]
  },
  {
   "cell_type": "code",
   "execution_count": 21,
   "metadata": {},
   "outputs": [
    {
     "name": "stdout",
     "output_type": "stream",
     "text": [
      "0.0 598.0 39\n",
      "0.1 637.0 47\n",
      "0.2 667.0 41\n",
      "0.3 732.0 50\n",
      "0.4 816.0 48\n",
      "0.5 828.0 47\n",
      "0.6 893.0 58\n",
      "0.7 945.0 59\n",
      "0.8 980.0 69\n",
      "0.9 1025.0 74\n",
      "1.0 1045.0 85\n"
     ]
    },
    {
     "name": "stderr",
     "output_type": "stream",
     "text": [
      "/usr/local/lib/python2.7/dist-packages/ipykernel_launcher.py:15: RuntimeWarning: divide by zero encountered in log10\n",
      "  from ipykernel import kernelapp as app\n"
     ]
    },
    {
     "data": {
      "image/png": "[encoded data removed]",
      "text/plain": [
       "<Figure size 360x288 with 1 Axes>"
      ]
     },
     "metadata": {
      "needs_background": "light"
     },
     "output_type": "display_data"
    }
   ],
   "source": [
    "fig = plt.figure()\n",
    "fig.set_size_inches(5,4)\n",
    "ax = [fig.add_subplot(111)]\n",
    "for axInd in range(1):\n",
    "    lines = []\n",
    "    labels = [[] for j in range(11)]\n",
    "    for j in range(len(nonLinParams)):\n",
    "        cl = scalarMap3.to_rgba((np.float(j)))\n",
    "        cl = colors.rgb2hex(cl)\n",
    "        occupantCounts = np.unique(buildingMaxOcc[:,j])\n",
    "        print '%.1f'%nonLinParams[j], occupantCounts[-1], len(np.where(buildingMaxOcc[:,j]==0)[0])\n",
    "        pOccupantCounts = np.zeros((len(occupantCounts)))\n",
    "        for it,o in enumerate(occupantCounts):\n",
    "            pOccupantCounts[it] = len(np.where(buildingMaxOcc[:,j]>=o)[0])\n",
    "        l1, = ax[axInd].plot(np.log10(occupantCounts), pOccupantCounts/np.float(len(buildingMaxOcc[:,j])), \\\n",
    "                color=cl)\n",
    "        lines.append(l1)\n",
    "        labels[j]='%.1f'%(nonLinParams[j])\n",
    "        x1 = np.log10(occupantCounts[-1])\n",
    "        y1 = pOccupantCounts[-1]/np.float(len(buildingMaxOcc[:,j]))\n",
    "        y2 = pOccupantCounts[1]/np.float(len(buildingMaxOcc[:,j]))\n",
    "        if j in [0,10]:\n",
    "            ax[axInd].plot([x1,x1],[y1,y2],color=cl,linewidth=0.9,linestyle='--')\n",
    "            ax[axInd].plot([0,x1],[y2,y2],color=cl,linewidth=0.9,linestyle='--')\n",
    "    ax[axInd].set_xlabel('Log10(N)',fontsize=14)\n",
    "    ax[axInd].set_ylabel('P(building has at least N occupants)',fontsize=14)\n",
    "    ax[axInd].set_xlim([0,3.2])\n",
    "    ax[axInd].set_ylim([0,1])\n",
    "    ax[axInd].set_xticks(np.arange(0,3.11,0.1), minor=True)\n",
    "    ax[axInd].set_yticks(np.arange(0,1.01,0.05), minor=True)\n",
    "    ax[axInd].legend(lines,labels,ncol=2)\n",
    "    ax[axInd].tick_params(axis='both', labelsize=14)\n",
    "# fig.savefig('../Useful_Results/BuildingProbabilities.png', dpi=300, format='png',  bbox_inches='tight')"
   ]
  },
  {
   "cell_type": "code",
   "execution_count": 2,
   "metadata": {},
   "outputs": [],
   "source": [
    "## plot the occupancy distributions for res and commercial space\n",
    "fig, ax = plt.subplots(2,11, sharex='col', sharey='row')\n",
    "fig.set_size_inches(14,2.5)\n",
    "axs = ax.ravel()\n",
    "for j in range(len(nonLinParams)):\n",
    "    resOcc, commOcc = [], []\n",
    "    for bId in tractBuildings[t]:\n",
    "        if tractBuildings[t][bId]['category']=='res':\n",
    "            resOcc.append(np.max(tractBuildings[t][bId]['occupancy'][j,:]))\n",
    "        if tractBuildings[t][bId]['category']=='wo':\n",
    "            commOcc.append(np.max(tractBuildings[t][bId]['occupancy'][j,:]))       \n",
    "    resBins = np.arange(0,42.1,2)\n",
    "    resBins[-1] = 2000\n",
    "    resHist, resEdges = np.histogram(resOcc, bins=resBins, density=False)\n",
    "    axs[j].bar(resEdges[:-1]+1, resHist/np.float(sum(resHist)), width=2)\n",
    "    axs[j].set_xlim([0,42])\n",
    "    axs[j].set_ylim([0,0.5])\n",
    "    \n",
    "    commBins = np.arange(0,42.1,2)\n",
    "    commBins[-1] = 2000\n",
    "    commHist, commEdges = np.histogram(commOcc, bins=commBins, density=False)\n",
    "    axs[11+j].bar(commEdges[:-1]+1, commHist/np.float(sum(commHist)), width=2, color='r')\n",
    "    axs[11+j].set_xlim([0,42])\n",
    "    axs[11+j].set_ylim([0,0.27])\n",
    "    \n",
    "# fig.tight_layout()"
   ]
  },
  {
   "cell_type": "code",
   "execution_count": 24,
   "metadata": {},
   "outputs": [],
   "source": [
    "max_occupied_buiding, maxO = tractBuildings[t].keys()[0], 0.\n",
    "for bId in tractBuildings[t].keys():\n",
    "    if max(tractBuildings[t][bId]['occupancy'][0,:])>maxO:\n",
    "        maxO = max(tractBuildings[t][bId]['occupancy'][0,:])\n",
    "        max_occupied_buiding = bId"
   ]
  },
  {
   "cell_type": "code",
   "execution_count": 25,
   "metadata": {},
   "outputs": [
    {
     "data": {
      "image/png": "[encoded data removed]",
      "text/plain": [
       "<Figure size 360x288 with 1 Axes>"
      ]
     },
     "metadata": {
      "needs_background": "light"
     },
     "output_type": "display_data"
    }
   ],
   "source": [
    "t = tracts[0]\n",
    "fig = plt.figure()\n",
    "axs = [fig.add_subplot(111)]\n",
    "fig.set_size_inches(5,4)\n",
    "j, a1 = 0, 0.6\n",
    "for bId in tractBuildings[t]:\n",
    "    geom = np.array( tractBuildings[t][bId]['geometry'] )\n",
    "    axs[j].plot(geom[:,0], geom[:,1], color='k',linewidth=0.)\n",
    "    ptchs = []\n",
    "    poly = Polygon2(geom)\n",
    "    ptchs.append(poly)\n",
    "    if tractBuildings[t][bId]['category'] == 'res':\n",
    "        axs[j].add_collection(PatchCollection(ptchs,facecolor='r', alpha=a1, edgecolor='none'))\n",
    "    if tractBuildings[t][bId]['category'] == 'wo':\n",
    "        axs[j].add_collection(PatchCollection(ptchs,facecolor='b', alpha=a1, edgecolor='none'))\n",
    "        \n",
    "r1 = plt.Rectangle((0, 0), 1, 1, fc='r', alpha=a1)\n",
    "r2 = plt.Rectangle((0, 0), 1, 1, fc='b', alpha=a1)\n",
    "axs[0].legend([r1,r2], ['residential', 'other'], loc=2, frameon=False)\n",
    "axs[0].set_xticks(np.arange(-71.08, -71.07,0.002));\n",
    "axs[0].set_yticks(np.arange(42.35,42.355,0.001));\n",
    "axs[0].set_xlabel('longitude'), axs[0].set_ylabel('latitude');\n",
    "# fig.savefig('../Useful_Results/BB1.png', dpi=300, format='png',  bbox_inches='tight')"
   ]
  },
  {
   "cell_type": "code",
   "execution_count": 1,
   "metadata": {},
   "outputs": [],
   "source": [
    "t = tracts[0]\n",
    "fig, ax = plt.subplots(2,2,sharex=True, sharey=True)\n",
    "axs = ax.ravel()\n",
    "fig.set_size_inches(9,7)\n",
    "a1, a2 = 0.2, 1\n",
    "testVals = [0,0.3,0.5,1]\n",
    "for j,tVal in enumerate(testVals):\n",
    "    jVal = np.where(np.round(nonLinParams,1)==tVal)[0][0]\n",
    "    print j, tVal, jVal\n",
    "    for bId in tractBuildings[t]:\n",
    "        geom = np.array( tractBuildings[t][bId]['geometry'] )\n",
    "        axs[j].plot(geom[:,0], geom[:,1], color='k',linewidth=0.)\n",
    "        ptchs = []\n",
    "        poly = Polygon2(geom)\n",
    "        ptchs.append(poly)\n",
    "        if tractBuildings[t][bId]['category'] == 'res':\n",
    "            if max(tractBuildings[t][bId]['occupancy'][jVal,:]) == 0:\n",
    "                axs[j].add_collection(PatchCollection(ptchs,facecolor='r', alpha=a2, edgecolor='none'))\n",
    "            else:\n",
    "                axs[j].add_collection(PatchCollection(ptchs,facecolor='k', alpha=a1, edgecolor='none'))\n",
    "            \n",
    "        if tractBuildings[t][bId]['category'] == 'wo':\n",
    "            if max(tractBuildings[t][bId]['occupancy'][jVal,:]) == 0:\n",
    "                axs[j].add_collection(PatchCollection(ptchs,facecolor='g', alpha=a2, edgecolor='none'))\n",
    "            else:\n",
    "                axs[j].add_collection(PatchCollection(ptchs,facecolor='k', alpha=a1, edgecolor='none'))\n",
    "            \n",
    "r1 = plt.Rectangle((0, 0), 1, 1, fc='r', alpha=a1)\n",
    "# r2 = plt.Rectangle((0, 0), 1, 1, fc='b', alpha=a1)\n",
    "r3 = plt.Rectangle((0, 0), 1, 1, fc='g', alpha=a1)\n",
    "r4 = plt.Rectangle((0, 0), 1, 1, fc='k', alpha=a1)\n",
    "\n",
    "for j in range(4):\n",
    "    str111 = r'$\\mu$ = %.1f'%testVals[j]\n",
    "    axs[j].set_title(str111)\n",
    "    axs[j].set_xticks(np.arange(-71.08, -71.07,0.002));\n",
    "    axs[j].set_yticks(np.arange(42.35,42.355,0.001));\n",
    "    axs[j].set_xlabel('longitude'), axs[j].set_ylabel('latitude');\n",
    "axs[0].legend([r1,r3,r4], ['Unocc. Res', 'Unocc. Com', 'Occ.'], loc=2, frameon=False)\n",
    "# fig.savefig('../Useful_Results/BB2.png', dpi=300, format='png',  bbox_inches='tight')"
   ]
  },
  {
   "cell_type": "code",
   "execution_count": 27,
   "metadata": {},
   "outputs": [],
   "source": []
  },
  {
   "cell_type": "code",
   "execution_count": null,
   "metadata": {},
   "outputs": [],
   "source": []
  },
  {
   "cell_type": "code",
   "execution_count": 28,
   "metadata": {},
   "outputs": [],
   "source": [
    "# ### calculating probs for paper example\n",
    "# mu = 0.5\n",
    "# testArray = ([100.,200.,500.])\n",
    "# p1 = np.zeros(np.shape(testArray))\n",
    "# p2 = np.zeros(np.shape(testArray))\n",
    "# for j in range(3):\n",
    "#     p1[j] = testArray[j]/sum(testArray)\n",
    "#     denom2 = sum([(t/sum(testArray))**(1+mu) for t in testArray])\n",
    "#     p2[j] = ((testArray[j]/sum(testArray))**(1+mu))/denom2\n",
    "# t = np.round(p1, 3)\n",
    "# print t\n",
    "# t = np.round(p2, 3)\n",
    "# print t"
   ]
  },
  {
   "cell_type": "code",
   "execution_count": null,
   "metadata": {},
   "outputs": [],
   "source": []
  },
  {
   "cell_type": "code",
   "execution_count": 32,
   "metadata": {},
   "outputs": [],
   "source": [
    "with open('../SkeletonFiles/header.txt', 'r') as f:\n",
    "    header = f.read()\n",
    "with open('../SkeletonFiles/footer.txt', 'r') as f:\n",
    "    footer = f.read()\n",
    "    \n",
    "### add the api key into the script\n",
    "footer = footer.replace(\"INSERT_YOUR_KEY\",\"\")\n",
    "    \n",
    "with open('../SkeletonFiles/polygon_header.txt', 'r') as f:\n",
    "    polygon_header = f.read()\n",
    "with open('../SkeletonFiles/polygon_footer.txt', 'r') as f:\n",
    "    polygon_footer = f.read()  \n",
    "with open('../SkeletonFiles/line.txt', 'r') as f:\n",
    "    liner = f.read()\n",
    "\n",
    "def get_polygon_line(latitude, longitude):\n",
    "    return '{lat:'+str(latitude)+', lng:'+str(longitude)+'},\\n'"
   ]
  },
  {
   "cell_type": "code",
   "execution_count": null,
   "metadata": {},
   "outputs": [],
   "source": []
  },
  {
   "cell_type": "code",
   "execution_count": 33,
   "metadata": {},
   "outputs": [],
   "source": [
    "# Google Map\n",
    "outputHtml = header\n",
    "# get building color and coordinate\n",
    "### get distinct polygons\n",
    "for bId in tractBuildings[t].keys():\n",
    "    if '_0' in bId:\n",
    "        ptchs = []\n",
    "        longitudes = [x[0] for x in tractBuildings[t][bId]['geometry']]\n",
    "        latitudes = [x[1] for x in tractBuildings[t][bId]['geometry']]\n",
    "        outputHtml += polygon_header\n",
    "        for pointIndex in range(len(latitudes)):\n",
    "            outputHtml += get_polygon_line(latitudes[pointIndex], \\\n",
    "                                           longitudes[pointIndex])\n",
    "        outputHtml = outputHtml[:-2]\n",
    "        outputHtml += polygon_footer.replace(\"#FF0000\",colors.rgb2hex('b'))\n",
    "\n",
    "outputHtml += footer\n",
    "with open('../Useful_Results/Example_buildings.html', 'w') as f:\n",
    "    f.write(outputHtml)"
   ]
  },
  {
   "cell_type": "code",
   "execution_count": null,
   "metadata": {},
   "outputs": [],
   "source": []
  }
 ],
 "metadata": {
  "kernelspec": {
   "display_name": "Python 2",
   "language": "python",
   "name": "python2"
  },
  "language_info": {
   "codemirror_mode": {
    "name": "ipython",
    "version": 2
   },
   "file_extension": ".py",
   "mimetype": "text/x-python",
   "name": "python",
   "nbconvert_exporter": "python",
   "pygments_lexer": "ipython2",
   "version": "2.7.12"
  }
 },
 "nbformat": 4,
 "nbformat_minor": 1
}
